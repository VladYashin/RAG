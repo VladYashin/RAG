{
 "cells": [
  {
   "cell_type": "markdown",
   "metadata": {},
   "source": [
    "# RAG Agent w/ Routing, Grading, Fallback & Self-correction\n",
    "\n",
    "The idea of a RAG agent comes from combination of the following three elements into a single RAG Agent:\n",
    "\n",
    "1. **Routing** --> Route questions to different retrieval approaches\n",
    "2. **Grading** --> Re-rank search results using Reciprical Rank Fusion (RRF)\n",
    "2. **WebSearch Fallback** --> Fallback to web search if there are no relevant documents to query \n",
    "3. **Self-correction** --> Minimization of hallucinations\n",
    "\n"
   ]
  },
  {
   "cell_type": "code",
   "execution_count": 23,
   "metadata": {},
   "outputs": [],
   "source": [
    "# import modules\n",
    "\n",
    "from langchain.text_splitter import NLTKTextSplitter\n",
    "from langchain.document_loaders import PyPDFLoader\n",
    "from langchain_community.vectorstores import Chroma\n",
    "from langchain.embeddings.sentence_transformer import SentenceTransformerEmbeddings\n",
    "from langchain.prompts import PromptTemplate\n",
    "from langchain_community.chat_models import ChatOllama\n",
    "from langchain_core.output_parsers import JsonOutputParser, StrOutputParser\n",
    "\n",
    "import os\n",
    "\n",
    "# Azure OpenAI\n",
    "from langchain_openai import AzureChatOpenAI"
   ]
  },
  {
   "cell_type": "code",
   "execution_count": 2,
   "metadata": {},
   "outputs": [],
   "source": [
    "# OpenAI\n",
    "\n",
    "AZURE_OPENAI_API_KEY = os.environ.get(\"AZURE_OPENAI_API_KEY\")\n",
    "AZURE_OPENAI_ENDPOINT = os.environ.get('AZURE_OPENAI_ENDPOINT')\n",
    "AZURE_OPENAI_VERSION = os.environ.get('AZURE_OPENAI_VERSION')\n",
    "AZURE_OPENAI_DEPLOYMENT_NAME = os.environ.get('AZURE_OPENAI_DEPLOYMENT_NAME')"
   ]
  },
  {
   "cell_type": "code",
   "execution_count": 3,
   "metadata": {},
   "outputs": [
    {
     "name": "stdout",
     "output_type": "stream",
     "text": [
      "Total documents:  7\n",
      "Earth Syst. Sci. Data, 15, 2295–2327, 2023\n",
      "https://doi.org/10.5194/essd-15-2295-2023\n",
      "© Author(s) 2023. This work is distributed under\n",
      "the Creative Commons Attribution 4.0 License.\n",
      "Indicators of Global Climate Change 2022: annual update\n",
      "of large-scale indicators of the state of the climate\n",
      "system and human inﬂuence\n",
      "Piers M. Forster1, Christopher J. Smith1,2, Tristram Walsh3, William F. Lamb4,1, Robin Lamboll5,\n",
      "Mathias Hauser6, Aurélien Ribes7, Debbie Rosen1, Nathan Gillett8, Matthew D. Palmer9,10,\n",
      "Joeri Rogelj5, Karina von Schuckmann11, Sonia I. Seneviratne6, Blair Trewin12, Xuebin Zhang8,\n",
      "Myles Allen3, Robbie Andrew13, Arlene Birt14, Alex Borger15, Tim Boyer16, Jiddu A. Broersma15,\n",
      "Lijing Cheng17, Frank Dentener18, Pierre Friedlingstein19,20, José M. Gutiérrez21, Johannes Gütschow22,\n",
      "Bradley Hall23, Masayoshi Ishii24, Stuart Jenkins3, Xin Lan22,44, June-Yi Lee25, Colin Morice9,\n",
      "Christopher Kadow26, John Kennedy27, Rachel Killick9, Jan C. Minx4,1, Vaishali Naik28, Glen\n",
      "P. Peters13, Anna Pirani29,30,31, Julia Pongratz32,43, Carl-Friedrich Schleussner33,34,35, Sophie Szopa36,\n",
      "Peter Thorne37, Robert Rohde38, Maisa Rojas Corradi39, Dominik Schumacher6, Russell Vose40,\n",
      "Kirsten Zickfeld41, Valérie Masson-Delmotte36, and Panmao Zhai42\n",
      "1Priestley Centre, University of Leeds, Leeds, LS2 9JT, UK\n",
      "2International Institute for Applied Systems Analysis (IIASA), Vienna, Austria\n",
      "3Environmental Change Institute, University of Oxford, Oxford, UK\n",
      "4Mercator Research Institute on Global Commons and Climate Change (MCC), Berlin, Germany\n",
      "5Centre for Environmental Policy, Imperial College London, London, UK\n",
      "6Institute for Atmospheric and Climate Science, Department of Environmental Systems Science,\n",
      "ETH Zurich, Zurich, Switzerland\n",
      "7Université de Toulouse, Météo France, CNRS, Toulouse, France\n",
      "8Environment and Climate Change Canada, Victoria, Canada\n",
      "9Met Ofﬁce Hadley Centre, Exeter, UK\n",
      "10School of Earth Sciences, University of Bristol, Bristol, UK\n",
      "11Mercator Ocean International, Toulouse, France\n",
      "12Bureau of Meteorology, Melbourne, Australia\n",
      "13CICERO Center for International Climate Research, Oslo, Norway\n",
      "14Background Stories, Minneapolis College of Art and Design, Minneapolis, MN, USA\n",
      "15Climate Change Tracker, Data for Action Foundation, Amsterdam, Netherlands\n",
      "16NOAA’s National Centers for Environmental Information (NCEI), Silver Spring, MD, USA\n",
      "17Institute of Atmospheric Physics, Chinese Academy of Sciences, Beijing, China\n",
      "18European Commission, & Joint Research Centre, Institute for Environment and Sustainability, Ispra, Italy\n",
      "19Faculty of Environment, Science and Economy, University of Exeter, Exeter, UK\n",
      "20Laboratoire de Meìteìorologie Dynamique/Institut Pierre-Simon Laplace, CNRS,\n",
      "Ecole Normale Supeìrieure/Universiteì PSL, Paris, France\n",
      "21Instituto de Física de Cantabria, CSIC-University of Cantabria, Santander, Spain\n",
      "22Climate Resource, Melbourne/Potsdam, Australia/Germany\n",
      "23NOAA Global Monitoring Laboratory, Boulder, CO, USA\n",
      "24Meteorological Research Institute, Tsukuba, Japan\n",
      "25Research Center for Climate Sciences, Busan National University and Center for Climate Physics,\n",
      "Institute for Basic Science, Busan, Republic of Korea\n",
      "26German Climate Computing Center (DKRZ), Hamburg, Germany\n",
      "27independent researcher: Verdun, France\n",
      "28NOAA GFDL, Princeton, New Jersey, USA\n",
      "Published by Copernicus Publications.\n"
     ]
    }
   ],
   "source": [
    "# load \"cliamte change\" data from /data/rag-agent-data\n",
    "\n",
    "data_path = \"data/rag-agent-data\"\n",
    "pdf_files = [f for f in os.listdir(data_path) if f.endswith('.pdf')]\n",
    "docs = [PyPDFLoader(os.path.join(data_path, file)).load() for file in pdf_files]\n",
    "\n",
    "print(\"Total documents: \", len(docs))\n",
    "print(docs[2][0].page_content)"
   ]
  },
  {
   "cell_type": "code",
   "execution_count": 4,
   "metadata": {},
   "outputs": [
    {
     "name": "stdout",
     "output_type": "stream",
     "text": [
      "Total pages: 446\n"
     ]
    }
   ],
   "source": [
    "# merge all the pages into a docs_list\n",
    "\n",
    "docs_list = [item for sublist in docs for item in sublist]\n",
    "print(\"Total pages:\", len(docs_list))"
   ]
  },
  {
   "cell_type": "code",
   "execution_count": 5,
   "metadata": {},
   "outputs": [],
   "source": [
    "# function for prettifying documents\n",
    "\n",
    "def pretty_docs(docs):\n",
    "    print(f\"\\n{'-'* 100}\\n\".join([F\"##### DOC {i+1} #####\\n\\n\" + d.page_content for i,d in enumerate(docs)]))"
   ]
  },
  {
   "cell_type": "code",
   "execution_count": 6,
   "metadata": {},
   "outputs": [],
   "source": [
    "# init OpenAI (or any other open source model)\n",
    "\n",
    "oai = AzureChatOpenAI(\n",
    "    openai_api_version=AZURE_OPENAI_VERSION,\n",
    "    azure_deployment=AZURE_OPENAI_DEPLOYMENT_NAME,\n",
    "    temperature=0\n",
    ")"
   ]
  },
  {
   "cell_type": "markdown",
   "metadata": {},
   "source": [
    "## Semantic Chunking"
   ]
  },
  {
   "cell_type": "code",
   "execution_count": 7,
   "metadata": {},
   "outputs": [
    {
     "name": "stdout",
     "output_type": "stream",
     "text": [
      "Total no. of chunks:  553\n"
     ]
    }
   ],
   "source": [
    "# concatenate docs from list into a single string\n",
    "\n",
    "text_splitter = NLTKTextSplitter()\n",
    "doc_chunks = text_splitter.split_documents(docs_list)\n",
    "\n",
    "print(\"Total no. of chunks: \", len(doc_chunks))"
   ]
  },
  {
   "cell_type": "code",
   "execution_count": 8,
   "metadata": {},
   "outputs": [
    {
     "name": "stdout",
     "output_type": "stream",
     "text": [
      "Total no. of chunks:  553\n"
     ]
    }
   ],
   "source": [
    "# extract only page_content from the chunks --> later use metadata from doc_chunks for the reference\n",
    "\n",
    "clean_chunks = [doc.page_content for doc in doc_chunks]\n",
    "print(\"Total no. of chunks: \", len(clean_chunks))"
   ]
  },
  {
   "cell_type": "code",
   "execution_count": 9,
   "metadata": {},
   "outputs": [
    {
     "name": "stdout",
     "output_type": "stream",
     "text": [
      "DOC CHUNK: page_content='27 Center for American Progress | The Impact of Vehicle Automation on Carbon Emissions\\n 58 Google, “Google Self-Driving Car Project Monthly \\nReport: January 2016” (2016), available at https://static.\\n\\ngoogleusercontent.com/media/www.google.com/en//\\nselfdrivingcar/files/reports/report-0116.pdf .\\n\\n59 Federal Highway Administration, “Average Annual Miles per Driver by Age Group, ” available at https://www.\\n\\nfhwa.dot.gov/ohim/onh00/bar8.htm (last accessed \\nNovember 2016).\\n\\n60 Anderson and others, “Autonomous Vehicle Technol-ogy.\\n\\n”\\n 61 Ibid .\\n\\n62 Ibid.\\n\\n63 Anders Eugensson and others, “Environmental, Safety, Legal, and Societal Implications of Autonomous Driving Systems” (Gothenburg, Sweden: Volvo Car Corporation, \\n2014), available at http://www-nrd.nhtsa.dot.gov/pdf/\\nesv/esv23/23ESV-000467.PDF .\\n\\n64 Julia Piper, “Self-Driving Cars Could Cut Greenhouse Gas Pollution, ” Scientific American, September 15, 2014, \\navailable at http://www.scientificamerican.com/article/\\nself-driving-cars-could-cut-greenhouse-gas-pollution/.\\n\\n65 Fagnant and Kockelman, “Preparing a Nation for Autonomous Vehicles.\\n\\n”\\n 66 Ludovic Privat, “Study HERE SBD - How autonomous ve -\\nhicles could relieve or worsen traffic congestion, ” Slide -\\nShare, July 21, 2016, available at http://www.slideshare.net/LudovicP/study-here-sbd-hhow-autonomous-vehicles-could-relieve-or-worsen-traffic-congestion.\\n\\n67 Fagnant and Kockelman, “Preparing a Nation for \\nAutonomous Vehicles.\\n\\n”\\n 68 Ibid.\\n\\n69 Irene Berry, “The Effects of Driving Style and Vehicle Performance on the Real-World Fuel Consumption of \\nU.S.\\n\\nLight-Duty Vehicles” (Cambridge: Massachusetts Institute of Technology, 2010), as referenced in Fagnant \\nand Kockelman, “Preparing a Nation for Autonomous \\nVehicles.\\n\\n” \\n 70 Zia Wadud, Don MacKenzie, and Paul Leiby, “Help or hindrance?\\n\\nThe travel, energy and carbon impacts of \\nhighly automated vehicles,”  Transportation Research \\nPart A: Policy and Practice 86 (2016): 1–18, available \\nat http://www.sciencedirect.com/science/article/pii/\\nS0965856415002694.\\n\\n71 Wadud, MacKenzie, and Leiby, “Help or hindrance?\\n\\nThe \\ntravel, energy and carbon impacts of highly automated vehicles.\\n\\n” \\n 72 Wadud, MacKenzie, and Leiby, “Help or hindrance?\\n\\nThe travel, energy and carbon impacts of highly automated \\nvehicles.\\n\\n”\\n 73 Ibid.\\n\\n74 Eugensson and others, “Environmental, Safety, Legal, and Societal Implications of Autonomous Driving \\nSystems.\\n\\n” \\n 75 Ibid.\\n\\n76 Piper, “Self-Driving Cars Could Cut Greenhouse Gas Pollution.\\n\\n” \\n 77 Wadud, MacKenzie, and Leiby, “Help or hindrance?\\n\\nThe travel, energy and carbon impacts of highly automated \\nvehicles.\\n\\n”  78 Ibid.\\n\\n79 Fagnant, Kockelman, and Bansal, “Operations of a \\nShared Autonomous Vehicle Fleet for the Austin, Texas \\nMarket .” \\n 80 U.S. Environmental Protection Agency and U.S.\\n\\nDepart -\\nment of Transportation, “2017 and Later Model Year \\nLight-Duty Vehicle Greenhouse Gas Emissions and Corporate Average Fuel Economy Standards, ” Federal \\nRegister 77 (199) (2012), available at https://www.gpo.\\n\\ngov/fdsys/pkg/FR-2012-10-15/pdf/2012-21972.pdf.\\n\\n81 U.S Environmental Protection Agency, 2017 and Later Model Year Light-Duty Vehicle Greenhouse Gas Emissions \\nand Corporate Average Fuel Economy Standards: EPA \\nResponse to Comments (2012), section 7, available at \\nnepis.epa.gov/Exe/ZyPURL.cgi?Dockey=P100EZXG.TXT .\\n\\n82 Ibid.\\n\\n83 Ibid.\\n\\n84 U.S. Environmental Protection Agency and U.S.\\n\\nDepart -\\nment of Transportation, “2017 and Later Model Year Light-Duty Vehicle Greenhouse Gas Emissions and \\nCorporate Average Fuel Economy Standards.\\n\\n” \\n 85 Ibid .' metadata={'source': 'data/rag-agent-data\\\\AutonomousVehicles-report.pdf', 'page': 29}\n",
      "\n",
      "\n",
      "CLEAN CHUNK: 27 Center for American Progress | The Impact of Vehicle Automation on Carbon Emissions\n",
      " 58 Google, “Google Self-Driving Car Project Monthly \n",
      "Report: January 2016” (2016), available at https://static.\n",
      "\n",
      "googleusercontent.com/media/www.google.com/en//\n",
      "selfdrivingcar/files/reports/report-0116.pdf .\n",
      "\n",
      "59 Federal Highway Administration, “Average Annual Miles per Driver by Age Group, ” available at https://www.\n",
      "\n",
      "fhwa.dot.gov/ohim/onh00/bar8.htm (last accessed \n",
      "November 2016).\n",
      "\n",
      "60 Anderson and others, “Autonomous Vehicle Technol-ogy.\n",
      "\n",
      "”\n",
      " 61 Ibid .\n",
      "\n",
      "62 Ibid.\n",
      "\n",
      "63 Anders Eugensson and others, “Environmental, Safety, Legal, and Societal Implications of Autonomous Driving Systems” (Gothenburg, Sweden: Volvo Car Corporation, \n",
      "2014), available at http://www-nrd.nhtsa.dot.gov/pdf/\n",
      "esv/esv23/23ESV-000467.PDF .\n",
      "\n",
      "64 Julia Piper, “Self-Driving Cars Could Cut Greenhouse Gas Pollution, ” Scientific American, September 15, 2014, \n",
      "available at http://www.scientificamerican.com/article/\n",
      "self-driving-cars-could-cut-greenhouse-gas-pollution/.\n",
      "\n",
      "65 Fagnant and Kockelman, “Preparing a Nation for Autonomous Vehicles.\n",
      "\n",
      "”\n",
      " 66 Ludovic Privat, “Study HERE SBD - How autonomous ve -\n",
      "hicles could relieve or worsen traffic congestion, ” Slide -\n",
      "Share, July 21, 2016, available at http://www.slideshare.net/LudovicP/study-here-sbd-hhow-autonomous-vehicles-could-relieve-or-worsen-traffic-congestion.\n",
      "\n",
      "67 Fagnant and Kockelman, “Preparing a Nation for \n",
      "Autonomous Vehicles.\n",
      "\n",
      "”\n",
      " 68 Ibid.\n",
      "\n",
      "69 Irene Berry, “The Effects of Driving Style and Vehicle Performance on the Real-World Fuel Consumption of \n",
      "U.S.\n",
      "\n",
      "Light-Duty Vehicles” (Cambridge: Massachusetts Institute of Technology, 2010), as referenced in Fagnant \n",
      "and Kockelman, “Preparing a Nation for Autonomous \n",
      "Vehicles.\n",
      "\n",
      "” \n",
      " 70 Zia Wadud, Don MacKenzie, and Paul Leiby, “Help or hindrance?\n",
      "\n",
      "The travel, energy and carbon impacts of \n",
      "highly automated vehicles,”  Transportation Research \n",
      "Part A: Policy and Practice 86 (2016): 1–18, available \n",
      "at http://www.sciencedirect.com/science/article/pii/\n",
      "S0965856415002694.\n",
      "\n",
      "71 Wadud, MacKenzie, and Leiby, “Help or hindrance?\n",
      "\n",
      "The \n",
      "travel, energy and carbon impacts of highly automated vehicles.\n",
      "\n",
      "” \n",
      " 72 Wadud, MacKenzie, and Leiby, “Help or hindrance?\n",
      "\n",
      "The travel, energy and carbon impacts of highly automated \n",
      "vehicles.\n",
      "\n",
      "”\n",
      " 73 Ibid.\n",
      "\n",
      "74 Eugensson and others, “Environmental, Safety, Legal, and Societal Implications of Autonomous Driving \n",
      "Systems.\n",
      "\n",
      "” \n",
      " 75 Ibid.\n",
      "\n",
      "76 Piper, “Self-Driving Cars Could Cut Greenhouse Gas Pollution.\n",
      "\n",
      "” \n",
      " 77 Wadud, MacKenzie, and Leiby, “Help or hindrance?\n",
      "\n",
      "The travel, energy and carbon impacts of highly automated \n",
      "vehicles.\n",
      "\n",
      "”  78 Ibid.\n",
      "\n",
      "79 Fagnant, Kockelman, and Bansal, “Operations of a \n",
      "Shared Autonomous Vehicle Fleet for the Austin, Texas \n",
      "Market .” \n",
      " 80 U.S. Environmental Protection Agency and U.S.\n",
      "\n",
      "Depart -\n",
      "ment of Transportation, “2017 and Later Model Year \n",
      "Light-Duty Vehicle Greenhouse Gas Emissions and Corporate Average Fuel Economy Standards, ” Federal \n",
      "Register 77 (199) (2012), available at https://www.gpo.\n",
      "\n",
      "gov/fdsys/pkg/FR-2012-10-15/pdf/2012-21972.pdf.\n",
      "\n",
      "81 U.S Environmental Protection Agency, 2017 and Later Model Year Light-Duty Vehicle Greenhouse Gas Emissions \n",
      "and Corporate Average Fuel Economy Standards: EPA \n",
      "Response to Comments (2012), section 7, available at \n",
      "nepis.epa.gov/Exe/ZyPURL.cgi?Dockey=P100EZXG.TXT .\n",
      "\n",
      "82 Ibid.\n",
      "\n",
      "83 Ibid.\n",
      "\n",
      "84 U.S. Environmental Protection Agency and U.S.\n",
      "\n",
      "Depart -\n",
      "ment of Transportation, “2017 and Later Model Year Light-Duty Vehicle Greenhouse Gas Emissions and \n",
      "Corporate Average Fuel Economy Standards.\n",
      "\n",
      "” \n",
      " 85 Ibid .\n"
     ]
    }
   ],
   "source": [
    "print(f\"DOC CHUNK: {doc_chunks[32]}\\n\\n\")\n",
    "print(f\"CLEAN CHUNK: {clean_chunks[32]}\")"
   ]
  },
  {
   "cell_type": "markdown",
   "metadata": {},
   "source": [
    "## Basic Retriever"
   ]
  },
  {
   "cell_type": "code",
   "execution_count": 10,
   "metadata": {},
   "outputs": [],
   "source": [
    "# embedding model\n",
    "\n",
    "emb_model = SentenceTransformerEmbeddings(model_name=\"thenlper/gte-large\")"
   ]
  },
  {
   "cell_type": "code",
   "execution_count": 11,
   "metadata": {},
   "outputs": [],
   "source": [
    "db = Chroma.from_documents(documents=doc_chunks, embedding=emb_model, collection_metadata={\"hnsw:space\": \"cosine\"})\n",
    "retriever = db.as_retriever(search_type=\"mmr\")"
   ]
  },
  {
   "cell_type": "markdown",
   "metadata": {},
   "source": [
    "## Grading\n"
   ]
  },
  {
   "cell_type": "code",
   "execution_count": 34,
   "metadata": {},
   "outputs": [
    {
     "data": {
      "text/plain": [
       "Document(page_content='7\\nThe concentration of CO2 in the atmosphere has risen  \\ncontinuously over the last 60 years \\n• The CO2 concentration has been directly measured on the Hawaiian volcano Mauna Loa since 1958.\\n\\nSince the measuring station is situated at a very high altitude (3397 m above sea level) and is hardly \\nimpacted by local factors, the values recorded there are considered to be a good approximation of \\nthe actual global CO2 concentration.\\n\\n• The concentration has been continuously increasing since researchers began taking measurements.\\n\\nIn March 2021, it had reached a value of 417 ppm – the highest it has been in at least 800,000 years.\\n\\n• This increase was only attenuated during the years of the oil crisis (from 1970) and following the \\ncollapse of the economic system in the former Eastern Bloc at the end of the Cold War (1990).\\n\\n• This series of measurements was key in understanding the relation between the combustion of fossil \\nmaterials and the concentration of the greenhouse gas carbon dioxide.\\n\\nThe first measurement was \\ntaken in 1958 and recorded a concentration of about 316 ppm.\\n\\n• The series of measurements illustrates characteristic fluctuation in the course of a year.\\n\\nDuring \\nsummer in the Northern Hemisphere, the global CO2 concentration decreases since the increased \\namount of vegetation absorbs more carbon.\\n\\nIn the winter, the global CO2 concentration increases \\nagain, as plants drastically reduce photosynthetic activity.\\n\\nThe comparatively little vegetation in the \\nSouthern Hemisphere cannot offset the increased release.\\n\\nSource: Scripps Institution, NOAA (Global Monitoring Laboratory) (2020).Causes of climate change\\n413\\n2020\\n316\\n1958CO₂ content of the atmosphere since 1958\\nin parts per million (ppm)\\n420\\n400\\n380\\n360\\n340\\n320\\n2020 2010 1960 1970 1980 2000 1990\\nDirect measurements of the atmosphere’s CO₂ content began on the island of Mauna Loa in 1958.\\n\\nThe continuous rise is only interrupted by growing seasons in the Northern Hemisphere.\\n\\nEvery year, \\nthis results in a periodical drop in CO₂ concentrations in the atmosphere.\\n\\nSource: NOAA (2020), Keeling et al.\\n\\n(2001)', metadata={'page': 6, 'source': 'data/rag-agent-data\\\\Factsheet_Klimawandel_1.1_EN_web.pdf'})"
      ]
     },
     "execution_count": 34,
     "metadata": {},
     "output_type": "execute_result"
    }
   ],
   "source": [
    "# retrieve docs\n",
    "\n",
    "user_query = \"Which CO2 concentration was recorded in 1950-1958?\"\n",
    "docs = retriever.invoke(user_query)\n",
    "docs[0]"
   ]
  },
  {
   "cell_type": "code",
   "execution_count": 35,
   "metadata": {},
   "outputs": [],
   "source": [
    "# Prompt for filtering erroneous irrelevant retrievals\n",
    "\n",
    "prompt = PromptTemplate(\n",
    "    template=\"\"\"You are a grader assessing relevance of a retrieved document to a user question. If the document contains keywords related to the user question, \n",
    "    grade it as relevant. It does not need to be a stringent test. The goal is to filter out erroneous retrievals. \\n\n",
    "    Give a binary score 'yes' or 'no' score to indicate whether the document is relevant to the question. \\n\n",
    "    Provide the binary score as a JSON with a single key 'score' and no premable or explaination.\n",
    "    Here is the retrieved document: \\n\\n {document} \\n\\n\n",
    "    Here is the user question: {user_query} \\n\n",
    "    \"\"\",\n",
    "    input_variables=[\"user_query\", \"document\"],\n",
    ")"
   ]
  },
  {
   "cell_type": "code",
   "execution_count": 36,
   "metadata": {},
   "outputs": [
    {
     "data": {
      "text/plain": [
       "{'score': 'no'}"
      ]
     },
     "execution_count": 36,
     "metadata": {},
     "output_type": "execute_result"
    }
   ],
   "source": [
    "# test retrieval grader\n",
    "\n",
    "# grading_llm = ChatOllama(model=\"llama3\", format=\"json\", temperature=0)\n",
    "retrieval_grader = prompt | oai | JsonOutputParser()\n",
    "\n",
    "input_data = {\n",
    "    \"user_query\": user_query,\n",
    "    \"document\": docs[0].page_content\n",
    "}\n",
    "\n",
    "retrieval_grader.invoke(input=input_data) # if \"yes\", the keywords are in the provided document --> most likely a relevant document"
   ]
  },
  {
   "cell_type": "code",
   "execution_count": 37,
   "metadata": {},
   "outputs": [],
   "source": [
    "# convert to function for grading documents\n",
    "\n",
    "def grade_document_relevance(grader, user_query, documents):\n",
    "    \"\"\"\n",
    "    Applies the retrieval grader to a list of documents to determine relevance to the user query.\n",
    "\n",
    "    Args:\n",
    "        user_query (str): The user's query.\n",
    "        documents (list): A list of Langchain documents\n",
    "\n",
    "    Returns:\n",
    "        list: A list of Langchain documents that are deemed relevant (grading score is 'yes').\n",
    "    \"\"\"\n",
    "    relevant_docs = []\n",
    "    \n",
    "    for doc in documents:\n",
    "        input_data = {\n",
    "            \"user_query\": user_query,\n",
    "            \"document\": doc.page_content\n",
    "        }\n",
    "        \n",
    "        # Invoke the retrieval grader with the constructed input\n",
    "        try:\n",
    "            result = grader.invoke(input=input_data)\n",
    "            \n",
    "            # Check if the score is 'yes'\n",
    "            if result.get('score') == 'yes':\n",
    "                relevant_docs.append(doc)\n",
    "                \n",
    "        except Exception as e:\n",
    "            print(f\"Error processing document: {e}\")\n",
    "    \n",
    "    print(f\"----- GRADER -----\\nRELEVANT DOCUMENTS: {len(relevant_docs)} OUT OF {len(documents)}\")\n",
    "\n",
    "    return relevant_docs"
   ]
  },
  {
   "cell_type": "code",
   "execution_count": 38,
   "metadata": {},
   "outputs": [
    {
     "name": "stdout",
     "output_type": "stream",
     "text": [
      "----- GRADER -----\n",
      "RELEVANT DOCUMENTS: 0 OUT OF 4\n"
     ]
    },
    {
     "data": {
      "text/plain": [
       "[]"
      ]
     },
     "execution_count": 38,
     "metadata": {},
     "output_type": "execute_result"
    }
   ],
   "source": [
    "relevant_docs = grade_document_relevance(grader=retrieval_grader, user_query=user_query, documents=docs)\n",
    "relevant_docs"
   ]
  },
  {
   "attachments": {
    "image.png": {
     "image/png": "[encoded data removed]"
    }
   },
   "cell_type": "markdown",
   "metadata": {},
   "source": [
    "## Re-ranking w/ RRF\n",
    "\n",
    "Re-ranking of the results based on the distinct relevance indicators using simulation of **multiple similar search queries** similar to the initial user query.\n",
    "\n",
    "Total of 5 queries (incl. initial user query).\n",
    "\n",
    "**Main goals**: \n",
    "- improve performance of the search ranking\n",
    "- mitigate the nuances and complexities of human queries\n",
    "\n",
    "**RRF Formula**:\n",
    "\n",
    "![image.png](attachment:image.png)"
   ]
  },
  {
   "cell_type": "code",
   "execution_count": 39,
   "metadata": {},
   "outputs": [
    {
     "data": {
      "text/plain": [
       "['Which CO2 concentration was recorded in 1950-1958?',\n",
       " 'What was the level of CO2 in the atmosphere between 1950 and 1958?',\n",
       " 'What were the CO2 levels in the 1950s?',\n",
       " 'What was the recorded CO2 concentration in the years 1950-1958?',\n",
       " 'What was the atmospheric CO2 concentration in the period 1950-1958?']"
      ]
     },
     "execution_count": 39,
     "metadata": {},
     "output_type": "execute_result"
    }
   ],
   "source": [
    "# STEP 1: create 5 similar user queries for RRF algo --> use OpenAI for better quality\n",
    "from langchain_core.messages import HumanMessage\n",
    "import ast\n",
    "\n",
    "def generate_similar_search_queries(initial_query, documets):\n",
    "    \n",
    "    message = HumanMessage(\n",
    "        content= f\"\"\" \n",
    "            You are a helpful search assistant. Your task is to generate four similar search queries in relation to the provided documents based on a single input query. \n",
    "            Always use provided output for your response. Be concise and constructive. Do not deviate from the context of the provided documents.\n",
    "            \n",
    "\n",
    "            Initial single input query: {initial_query}\n",
    "            Documents: {documets}\n",
    "            Output sturcture: [\"{initial_query}\", search query 1, search query 2, search query 3, search query 4]\n",
    "\n",
    "        \"\"\",\n",
    "\n",
    "    )\n",
    "    response = oai.invoke([message])\n",
    "    queries = ast.literal_eval(response.content)\n",
    "\n",
    "    return queries\n",
    "\n",
    "\n",
    "rff_queries = generate_similar_search_queries(initial_query=user_query,\n",
    "                                           documets=relevant_docs)\n",
    "rff_queries"
   ]
  },
  {
   "cell_type": "code",
   "execution_count": 40,
   "metadata": {},
   "outputs": [
    {
     "data": {
      "text/plain": [
       "dict_keys(['Which CO2 concentration was recorded in 1950-1958?', 'What was the level of CO2 in the atmosphere between 1950 and 1958?', 'What were the CO2 levels in the 1950s?', 'What was the recorded CO2 concentration in the years 1950-1958?', 'What was the atmospheric CO2 concentration in the period 1950-1958?'])"
      ]
     },
     "execution_count": 40,
     "metadata": {},
     "output_type": "execute_result"
    }
   ],
   "source": [
    "# STEP 2: build dictionaries for retrieved results incl. simulations\n",
    "\n",
    "def generate_simulated_results(simulated_queries:list):\n",
    "\n",
    "    all_queries_results = {}\n",
    "\n",
    "    for query in simulated_queries:\n",
    "        results = db.similarity_search_with_score(query, k=4)\n",
    "        all_queries_results[query] = results\n",
    "\n",
    "    return all_queries_results\n",
    "\n",
    "sim_results = generate_simulated_results(rff_queries)\n",
    "sim_results.keys()"
   ]
  },
  {
   "cell_type": "code",
   "execution_count": 41,
   "metadata": {},
   "outputs": [
    {
     "name": "stdout",
     "output_type": "stream",
     "text": [
      "----- RE-RANKING -----\n",
      "DOCUMENTS RERANKED SUCCESSFULLY!\n"
     ]
    },
    {
     "data": {
      "text/plain": [
       "{'Over the same time the \\nconcentration of methane, the second most important greenhouse gas, has even risen by more than 150%.\\n\\nIn the absence of drastic measures to reduce emissions, the \\natmospheric carbon dioxide concentration is expected to double even within the next \\nfew decades (to almost 600 ppm, relative to pre-industrial level; IPCC, 2001).': [0.7142857142857142,\n",
       "  'data/rag-agent-data\\\\umweltbundesamt.pdf'],\n",
       " '7\\nThe concentration of CO2 in the atmosphere has risen  \\ncontinuously over the last 60 years \\n• The CO2 concentration has been directly measured on the Hawaiian volcano Mauna Loa since 1958.\\n\\nSince the measuring station is situated at a very high altitude (3397 m above sea level) and is hardly \\nimpacted by local factors, the values recorded there are considered to be a good approximation of \\nthe actual global CO2 concentration.\\n\\n• The concentration has been continuously increasing since researchers began taking measurements.\\n\\nIn March 2021, it had reached a value of 417 ppm – the highest it has been in at least 800,000 years.\\n\\n• This increase was only attenuated during the years of the oil crisis (from 1970) and following the \\ncollapse of the economic system in the former Eastern Bloc at the end of the Cold War (1990).\\n\\n• This series of measurements was key in understanding the relation between the combustion of fossil \\nmaterials and the concentration of the greenhouse gas carbon dioxide.\\n\\nThe first measurement was \\ntaken in 1958 and recorded a concentration of about 316 ppm.\\n\\n• The series of measurements illustrates characteristic fluctuation in the course of a year.\\n\\nDuring \\nsummer in the Northern Hemisphere, the global CO2 concentration decreases since the increased \\namount of vegetation absorbs more carbon.\\n\\nIn the winter, the global CO2 concentration increases \\nagain, as plants drastically reduce photosynthetic activity.\\n\\nThe comparatively little vegetation in the \\nSouthern Hemisphere cannot offset the increased release.\\n\\nSource: Scripps Institution, NOAA (Global Monitoring Laboratory) (2020).Causes of climate change\\n413\\n2020\\n316\\n1958CO₂ content of the atmosphere since 1958\\nin parts per million (ppm)\\n420\\n400\\n380\\n360\\n340\\n320\\n2020 2010 1960 1970 1980 2000 1990\\nDirect measurements of the atmosphere’s CO₂ content began on the island of Mauna Loa in 1958.\\n\\nThe continuous rise is only interrupted by growing seasons in the Northern Hemisphere.\\n\\nEvery year, \\nthis results in a periodical drop in CO₂ concentrations in the atmosphere.\\n\\nSource: NOAA (2020), Keeling et al.\\n\\n(2001)': [0.625,\n",
       "  'data/rag-agent-data\\\\Factsheet_Klimawandel_1.1_EN_web.pdf'],\n",
       " '6\\nThe atmospheric concentration of CO2 is higher today  \\nthan ever before in the last 800,000 years\\n• The amount of CO2 in the atmosphere (and thus the climate) has repeatedly undergone drastic change \\nin the course of the Earth’s history.\\n\\n• These climate changes were the result of changes in the energy balance (see above) and could have \\nbeen caused by various elements: \\n 1.\\n\\nChanges in the sun’s luminosity.\\n\\n2.\\n\\nChanges in the Earth’s orbit around the sun.\\n\\n3.\\n\\nChanges in the amount of climate-relevant gases (CO2, methane) and aerosols (atmospheric  \\n particulate matter, e.g.\\n\\nfrom volcanic eruptions) present in the atmosphere.\\n\\n4.\\n\\nIce cover, cloud cover and the distribution of the continents, as even these influence how much  \\nenergy is reflected back into space (Albedo effect).\\n\\n• Most research surrounding historical climatology on Earth is based on deposits from the periods  \\nin question, for instance sediments on land and in oceans and seas as well as ice masses.\\n\\nIsotope \\nanalyses of the calcareous shells of microplankton offer information on temperatures in the past, \\nwhile air bubbles trapped in ice provide samples of former atmospheric compositions – including \\ngreenhouse gas concentrations.\\n\\nEvidence from such sources has led researchers to the conclusion \\nthat in the last 800,000 years, there has not been a single period in which the atmospheric concen-\\ntrations of CO2 have even come close to those of today.\\n\\n• The CO2 concentration has remained relatively stable over the last 10,000 years at 250–275 parts  \\nper million (ppm).\\n\\n• Since the Industrial Revolution beginning in the mid-18th century and the associated use of fossil \\nfuels as well as deforestation, CO2 and CH4 (methane) concentrations have increased to well above \\nthe natural fluctuation range of the last 800,000 years.\\n\\n• The latest research indicates that the concentration of CO2 in the atmosphere is likely higher today \\nthan it ever was in the past 3 million years.\\n\\n• These high atmospheric concentrations of CO2 in the atmosphere have the potential to destabilise \\nparts of the climate system in the long term, leading to severe consequences.\\n\\nSource: Lüthi et al.\\n\\n2008; Willeit et al.\\n\\n2019., Keeling et al.\\n\\nn. d.Causes of climate change\\n413\\n2020\\n316\\n1958CO₂ content of the atmosphere over the last 800,000 years \\nin parts per million (ppm)\\n420\\n380\\n340\\n300\\n260\\n220\\n180\\ntoday 800,000 years 600,000 500,000 700,000 400,000 300,000 100,000 200,000The CO₂ content remained \\nbelow this value for hun- \\ndreds of thousands of years\\nDuring the last 800,000 years, the CO₂ content of the atmosphere was never as high as it is today.\\n\\nSource: Lüthi et al.\\n\\n(Nature 2008), Keeling et al.\\n\\n(Scripps CO₂ Program Data) core sample data\\ndirect measurements': [0.5333333333333333,\n",
       "  'data/rag-agent-data\\\\Factsheet_Klimawandel_1.1_EN_web.pdf'],\n",
       " 'The Impacts and Costs of Climate Change \\n \\n Distribution of CO2 concentration in 2100,  A2 scenario\\n0 0.2 0.4 0.6 0.8 1 1.2Probability\\nParts per thousand\\n \\n \\nThe mean te mperature i s 4.1oC above pre-industrial by  2100.\\n\\nTh e figure below shows the global m ean \\ntemperature over tim e over time co mpared to the base y ear of 2000;  add 0.5oC to get global mean  \\ntemperature compared to p re-industrial.\\n\\nFigure 15.\\n\\nGlobal m ean tem perature over tim e for the A2 Scenario \\n \\n \\nGloba l mean tempe rature, A2 scenario  \\n-2 0 2 4 6 8 10 \\n2000 2050 2100 2150 2200 \\nyear DegC above  \\nbase  year\\n95%\\nm+sd\\nmean\\nm-sd\\n5%\\n \\nUnder the A2 scenario, t he mean impacts of cli mate change ar e $73 trillion (US$ 2000 prices) – \\nequivalent to Euro 74 trill ion in 2000 prices (note a tr illion is a m illion m illion52).\\n\\nThis is based on a  \\ntime horizon of 2200 and discounted back to a net present value.\\n\\nThe P AGE  model uses a range o f \\nparam eters, including disc ount rate and equity  weig hting53.\\n\\nThe range of results is shown below (a \\nsmall nu mber of runs t hat gave  impacts above $200 trillion are not shown on the graph, but are \\nincluded in the mean impacts of $73 trilli on).\\n\\n52 We use the defi nitions of  a bil lion = on e thousand m illion, and a trillion = a thou sand bil lion (m illion m illion).\\n\\n53 The mean values are a PRTP of 2%, and  an elasticit y of utility with  respect to  consumption of minus 1.\\n\\nAEA Technol ogy Environment, August 2005 46': [0.4,\n",
       "  'data/rag-agent-data\\\\final_report2_en.pdf'],\n",
       " 'P .\\n\\nM. Forster et al.\\n\\n: Indicators of Global Climate Change 2022: annual update 2301\\nFigure 1.\\n\\nAnnual global anthropogenic greenhouse gas emissions by source, 1970–2021.\\n\\nRefer to Sect.\\n\\n2.1 for a list of datasets.\\n\\nDatasets\\nwith an asterisk (*) indicate the sources used to compile global total greenhouse gas emissions in (a).\\n\\nCO 2-equivalent emissions in (a)and\\n(f)are calculated using global warming potentials (GWPs) with a 100-year time horizon from the AR6 WGI Chap.\\n\\n7 (Forster et al., 2021).\\n\\nF-gas emissions in (a)comprise only UNFCCC F-gas emissions (see Sect.\\n\\n2.1 for a list of species).\\n\\nTable 1.\\n\\nGlobal anthropogenic greenhouse gas emissions by source and decade.\\n\\nGt CO 2e 1970–1979 1980–1989 1990–1999 2000–2009 2010–2019 2012–2021 2021 2022\\n(projection)\\nGHGs 30 ±4 35±4.4 39±4.9 45±5.1 53±5.3 54±5.3 55±5.2\\nCO2-FFI 17 ±1.4 20±1.6 24±1.9 29±2.3 36±2.8 36±2.9 37±3 37±3\\nCO2-LULUCF 4.4 ±3.1 4.8±3.4 5.3±3.7 5±3.5 4.7±3.3 4.5±3.2 3.9±2.8 3.9±2.8\\nCH4 6.2±1.9 6.6±2 7.3±2.2 8±2.4 8.6±2.6 8.7±2.6 8.9±2.7\\nN2O 1.9 ±1.1 2.1±1.3 2.2±1.3 2.4±1.5 2.7±1.6 2.8±1.7 2.9±1.8\\nUNFCCC F-gases 0.58 ±0.17 0.78±0.23 0.77±0.23 1±0.3 1.5±0.46 1.7±0.5 2±0.59\\nAll numbers refer to decadal averages, except for annual estimates in 2021 and 2022.\\n\\nCO 2-equivalent emissions are calculated using GWP with a 100-year time horizon from\\nAR6 WGI Chap.\\n\\n7 (Forster et al., 2021).\\n\\nProjections of non-CO 2GHG emissions in 2022 remain unavailable at the time of publication.\\n\\nUncertainties are ±8 % for CO 2-FFI,\\n±70 % for CO 2-LULUCF,±30 % for CH 4and F-gases, and±60 % for N 2O, corresponding to a 90 % conﬁdence interval.\\n\\nODS F-gases are excluded, as noted in Sect.\\n\\n2.1.\\nhttps://doi.org/10.5194/essd-15-2295-2023 Earth Syst.\\n\\nSci.\\n\\nData, 15, 2295–2327, 2023': [0.3333333333333333,\n",
       "  'data/rag-agent-data\\\\copernicus-report.pdf'],\n",
       " 'P .\\n\\nM. Forster et al.\\n\\n: Indicators of Global Climate Change 2022: annual update 2315\\nTable 9.\\n\\nSummary of headline results and methodological updates from the Indicators of Global Climate Change (IGCC) initiative.\\n\\nClimate indicator AR6 2021\\nassessmentThis 2023\\nassessmentExplanation of changes Methodological updates\\nGreenhouse gas\\nemissions\\nAR6 WGIII Chap.\\n\\n2:\\nDhakal et al.\\n\\n(2022);\\nsee also Minx et\\nal.\\n\\n(2021)2010–2019 average:\\n56±6 GtCO 2e*2010–2019 average:\\n53±5.6 GtCO 2e\\n2012–2021 average:\\n54±5.3 GtCO 2eThe change from AR6 is due to\\na systematic downward revision in\\nCO2-LULUCF and CH 4estimates.\\n\\nReal-world emissions have slightly\\nincreased.\\n\\nAverage emissions in the\\npast decade grew at a slower rate\\nthan in the previous decade.\\n\\nNote\\nthat following convention, ODS F-\\ngases are excluded from the total.CO2-LULUCF emissions revised\\ndown.\\n\\nPRIMAP-hist used in place\\nof EDGAR for CH 4and N 2O emis-\\nsions and atmospheric measure-\\nments taken for F-gas emissions.\\n\\nThese changes reduce estimates by\\naround 3 GtCO 2e (Sect.\\n\\n2)\\nGreenhouse gas\\nconcentrations\\nAR6 WGI Chap.\\n\\n2:\\nGulev et al.\\n\\n(2021)2019:\\nCO2, 410.1 [±0.36] ppm\\nCH4, 1866.3 [±3.2] ppb\\nN2O, 332.1 [±0.7] ppb2022:\\nCO2, 417.1 [±0.4] ppm\\nCH4, 1911.9 [±3.3] ppb\\nN2O, 335.9 [±0.4] ppbContinued and increasing\\nemissionsUpdates based on NOAA data as\\nAGAGE not yet available for 2022.\\n\\nTo make an AR6-like product,\\nN2O scaled to approximate NOAA-\\nAGAGE average (Sect.\\n\\n3)\\nEffective radiative forc-\\ning change since 1750\\nAR6 WGI Chap.\\n\\n7:\\nForster et al.\\n\\n(2021)2019:\\n2.72 [1.96 to 3.48]\\nW m−22022:\\n2.91 [2.19 to 3.63]\\nW m−2Overall substantial increase and\\nhigh decadal rate of change, aris-\\ning from increases in greenhouse\\ngas concentrations and reductions\\nin aerosol precursorsMinor update in aerosol precursor\\nmethod for improved future esti-\\nmates – had no impact at quoted ac-\\ncuracy level (Sect.\\n\\n4)\\nGlobal mean surface\\ntemperature change\\nabove 1850–1900\\nAR6 WGI Chap.\\n\\n2:\\nGulev et al.\\n\\n(2021)2011–2020 average:\\n1.09 [0.95 to 1.20]◦C2013–2022 average:\\n1.15 [1.00–1.25]◦CAn increase of 0.06◦C within 2\\nyears, indicating a high decadal rate\\nof changeMethods match AR6 (Sect.\\n\\n5).\\n\\nEarth’s energy\\nimbalance\\nAR6 WGI Chap.\\n\\n7:\\nForster et al.\\n\\n(2021)2006–2018 average:\\n0.79 [0.52 to 1.06]\\nW m−22010–2022.\\n\\naverage:\\n0.89 [0.63 to 1.15]\\nW m−2Substantial increase in energy im-\\nbalance estimated based on\\nincreased rate of ocean heatingOcean heat content time series ex-\\ntended from 2018 to 2022 us-\\ning four of the ﬁve AR6 datasets.\\n\\nOther heat inventory terms up-\\ndated following von Schuckmann\\net al.\\n\\n(2023).\\n\\nOcean heat content\\nuncertainty is used as a proxy for\\ntotal uncertainty.\\n\\nFurther details in\\nSect.\\n\\n6.\\n\\nHuman-induced global\\nwarming since\\npre-industrial\\nAR6 WGI Chap.\\n\\n3:\\nEyring et al.\\n\\n(2021)2010–2019 average:\\n1.07 [0.8 to 1.3]◦C2013–2022 average:\\n1.14 [0.9 to 1.4]◦CAn increase of 0.07◦C within 3\\nyears, indicating a high decadal rate\\nof changeThe three methods for the basis\\nof the AR6 assessment are\\nretained, but each has new\\ninput data (Sect.\\n\\n7).\\n\\nRemaining carbon\\nbudget for 50 % likeli-\\nhood of limiting global\\nwarming to 1.5◦C\\nAR6 WGI Chap.\\n\\n5:\\nCanadell et al.\\n\\n(2021)From the start of 2020:\\n500 GtCO 2From the start of 2023:\\nabout 250 GtCO 2and un-\\ncertainThe 1.5◦C budget is becoming\\nvery small.\\n\\nThe RCB can be ex-\\nhausted before the 1.5◦C threshold\\nis reached due to having to allow for\\nfuture non-CO 2warming.Methods match AR6 (Sect.\\n\\n8).\\n\\nLand average\\nmaximum temperature\\nchange compared to\\npre-industrial.\\n\\nAR6 WGI Chap.\\n\\n11:\\nSeneviratne et al.\\n\\n(2021)2009–2018 average:\\n1.55◦C2013–2022 average:\\n1.74◦CRising at a substantially faster rate\\ncompared to global mean surface\\ntemperatureHadEX3 data used in AR6 replaced\\nwith reanalysis data employed in\\nthis report which are more updat-\\nable going forward.\\n\\nAdds 0.01◦C\\nto estimate (Sect.\\n\\n9).\\n\\nhttps://doi.org/10.5194/essd-15-2295-2023 Earth Syst.\\n\\nSci.\\n\\nData, 15, 2295–2327, 2023': [0.2,\n",
       "  'data/rag-agent-data\\\\copernicus-report.pdf'],\n",
       " 'The Impacts and Costs of Climate Change \\n \\nFigure 16.\\n\\nD istribution of total impacts based  on the A2 Scenario using the PAGE model \\n Distribution of total impacts, A2 scenario\\n0 50 100 150 200Probability\\n$trillion\\n \\n \\nScenario 550  CO 2 ppm (65 0 ppm CO 2 equivalent) \\n \\nBecaus e of the sti mulation of natural CO 2 that is included in the PA GE model the scenario does not \\nactually  stabil ise at 550pp m. Mean CO 2 concentration is about 594ppm  by 2100 (635 ppm by 21 50, \\n670p pm by 2200).\\n\\nT he figure below shows concentration over ti me.\\n\\nFigure 17.\\n\\nC arbon dioxid e concentration over tim e for the 550 p pm scenario \\n \\nGlobal CO2 concen trations,  ‘550’ scenar io \\n0 500000 1000000 1500000 \\n2000 2050 2100 2150 2200 \\nyearppbv \\n95%\\nm+sd\\nmean\\nm-sd\\n5% \\n \\nThe mean te mperature i s 3.4oC above pre-industrial by  2100.\\n\\nThe figure below shows the global m ean \\ntemperature over tim e over time co mpared to the base y ear of 2000;  add 0.5oC to get global mean  \\ntemperature compared to p re-industrial.\\n\\nAEA Technol ogy Environment, August 2005 47': [0.2,\n",
       "  'data/rag-agent-data\\\\final_report2_en.pdf'],\n",
       " '20\\nSummary for Policymakers\\nSummary for PolicymakersB.5.3 If the annual CO 2 emissions between 2020–2030 stayed, on average, at the same level as 2019, the resulting cumulative \\nemissions would almost exhaust the remaining carbon budget for 1.5°C (50%), and deplete more than a third of the \\nremaining carbon budget for 2°C (67%).\\n\\nEstimates of future CO 2 emissions from existing fossil fuel infrastructures \\nwithout additional abatement42 already exceed the remaining carbon budget for limiting warming to 1.5°C (50%) \\n(high confidence ).\\n\\nProjected cumulative future CO 2 emissions over the lifetime of existing and planned fossil fuel \\ninfrastructure, if historical operating patterns are maintained and without additional abatement43, are approximately \\nequal to the remaining carbon budget for limiting warming to 2°C with a likelihood of 83%44 (high confidence ).\\n\\n{2.3.1, \\n3.3.1, Figure 3.5 }\\nB.5.4  Based on central estimates only, historical cumulative net CO 2 emissions between 1850 and 2019 amount to about \\nfour fifths45 of the total carbon budget for a 50% probability of limiting global warming to 1.5°C (central estimate about \\n2900 GtCO 2), and to about two thirds46 of the total carbon budget for a 67% probability to limit global warming to 2°C \\n(central estimate about 3550 GtCO 2).\\n\\n{3.3.1, Figure 3.5 }\\nMitigation Pathways\\nB.6  All global modelled pathways that limit warming to 1.5°C (>50%) with no or limited overshoot, \\nand those that limit warming to 2°C (>67%), involve rapid and deep and, in most cases, \\nimmediate greenhouse gas emissions reductions in all sectors this decade.\\n\\nGlobal net zero CO 2 \\nemissions are reached for these pathway categories, in the early 2050s and around the early \\n2070s, respectively.\\n\\n(high confidence ) {3.3, 3.4, 4.1, 4.5, Table 3.1 } (Figure SPM.5, Box SPM.1 )\\nB.6.1  Global modelled pathways provide information on limiting warming to different levels; these pathways, particularly \\ntheir sectoral and regional aspects, depend on the assumptions described in Box SPM.1.\\n\\nGlobal modelled pathways that \\nlimit warming to 1.5°C (>50%) with no or limited overshoot or limit warming to 2°C (>67%) are characterized by deep, \\nrapid, and, in most cases, immediate GHG emissions reductions.\\n\\nPathways that limit warming to 1.5 °C (>50%) with no \\nor limited overshoot reach net zero CO 2 in the early 2050s, followed by net negative CO 2 emissions.\\n\\nThose pathways that \\nreach net zero GHG emissions do so around the 2070s.\\n\\nPathways that limit warming to 2 °C (>67%) reach net zero CO 2 \\nemissions in the early 2070s.\\n\\nGlobal GHG emissions are projected to peak between 2020 and at the latest before 2025 \\nin global modelled pathways that limit warming to 1.5°C (>50%) with no or limited overshoot and in those that limit \\nwarming to 2°C (>67%) and assume immediate action.\\n\\n( high confidence ) {3.3.2, 3.3.4, 4.1, Table 3.1, Figure 3.6 } (Table \\nSPM.1 )\\n42 Abatement here refers to human interventions that reduce the amount of greenhouse gases that are released from fossil fuel infrastructure to the \\natmosphere.\\n\\n43 Ibid.\\n\\n44 WGI provides carbon budgets that are in line with limiting global warming to temperature limits with different likelihoods, such as 50%, 67% or 83%.\\n\\n{3.3.1 }\\n45 Uncertainties for total carbon budgets have not been assessed and could affect the specific calculated fractions.\\n\\n46 Ibid.': [0.16666666666666666,\n",
       "  'data/rag-agent-data\\\\IPCC_AR6_SYR_SPM.pdf']}"
      ]
     },
     "execution_count": 41,
     "metadata": {},
     "output_type": "execute_result"
    }
   ],
   "source": [
    "# function to re-rank the search results into a unified result set\n",
    "\n",
    "def reciprocal_rank_fusion(search_results_dict, k=5):\n",
    "    \"\"\"\n",
    "    Applies reciprocal rank fusion on the provided search results dictionary.\n",
    "\n",
    "    Args:\n",
    "        search_results_dict (dict): A dictionary where each key is a query, and value is a list of (Document, score) tuples.\n",
    "        k (int): The rank offset to apply in the reciprocal calculation.\n",
    "\n",
    "    Returns:\n",
    "        dict: A dictionary of documents (page content) with their fused scores and source, sorted in descending order of score.\n",
    "    \"\"\"\n",
    "    fused_scores = {}\n",
    "\n",
    "    for query, doc_scores in search_results_dict.items():\n",
    "        for rank, (doc, score) in enumerate(sorted(doc_scores, key=lambda x: x[1], reverse=True)):\n",
    "            doc_identifier = doc.page_content  # page content as unique identifier\n",
    "            doc_source = doc.metadata.get('source', 'unknown')\n",
    "            \n",
    "            if doc_identifier not in fused_scores:\n",
    "                fused_scores[doc_identifier] = [0, doc_source]\n",
    "            \n",
    "            # update the score\n",
    "            fused_scores[doc_identifier][0] += 1 / (rank + k)\n",
    "\n",
    "    # sort docs by fused score in descending order\n",
    "    reranked_results = {doc: [score, source] for doc, (score, source) in sorted(fused_scores.items(), key=lambda x: x[1][0], reverse=True)}\n",
    "\n",
    "    print(f\"----- RE-RANKING -----\\nDOCUMENTS RERANKED SUCCESSFULLY!\")\n",
    "\n",
    "    return reranked_results\n",
    "\n",
    "\n",
    "reranked_results = reciprocal_rank_fusion(sim_results)\n",
    "reranked_results"
   ]
  },
  {
   "cell_type": "markdown",
   "metadata": {},
   "source": [
    "## Generation"
   ]
  },
  {
   "cell_type": "code",
   "execution_count": 42,
   "metadata": {},
   "outputs": [],
   "source": [
    "# take top 3 graded & re-ranked results\n",
    "\n",
    "top3_reranked_results = dict(list(reranked_results.items())[:3])"
   ]
  },
  {
   "cell_type": "code",
   "execution_count": 43,
   "metadata": {},
   "outputs": [
    {
     "name": "stdout",
     "output_type": "stream",
     "text": [
      "The first measurement of CO2 concentration was taken in 1958 and recorded a concentration of about 316 ppm.\n"
     ]
    }
   ],
   "source": [
    "# generate initial result\n",
    "\n",
    "prompt = PromptTemplate(\n",
    "    template=\"\"\"\n",
    "        You are an assistant for question-answering tasks. \n",
    "        Use the following pieces of retrieved context to answer the question. If you don't know the answer, just say that you don't know. \n",
    "        Be as concise and as precise as possible. Use maximum of 400 completion tokens for your response.\n",
    "        Question: {question} \n",
    "        Context: {context} \n",
    "        Answer: \n",
    "    \"\"\",\n",
    "    input_variables=[\"question\", \"context\"],\n",
    ")\n",
    "\n",
    "rag_chain = prompt | oai | StrOutputParser()\n",
    "\n",
    "# chain\n",
    "init_generation = rag_chain.invoke({\"context\": top3_reranked_results, \"question\": user_query})\n",
    "print(init_generation)"
   ]
  },
  {
   "cell_type": "markdown",
   "metadata": {},
   "source": [
    "## Full Pipeline"
   ]
  },
  {
   "cell_type": "code",
   "execution_count": null,
   "metadata": {},
   "outputs": [],
   "source": [
    "final_query = \"Which years were selected for HadEX3 and why?\""
   ]
  },
  {
   "cell_type": "code",
   "execution_count": null,
   "metadata": {},
   "outputs": [],
   "source": []
  }
 ],
 "metadata": {
  "kernelspec": {
   "display_name": ".venv",
   "language": "python",
   "name": "python3"
  },
  "language_info": {
   "codemirror_mode": {
    "name": "ipython",
    "version": 3
   },
   "file_extension": ".py",
   "mimetype": "text/x-python",
   "name": "python",
   "nbconvert_exporter": "python",
   "pygments_lexer": "ipython3",
   "version": "3.11.3"
  }
 },
 "nbformat": 4,
 "nbformat_minor": 2
}
