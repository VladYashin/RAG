{
 "cells": [
  {
   "cell_type": "markdown",
   "metadata": {},
   "source": [
    "# Tips for Processing Complex-Structured, Multi-Page Tables in PDFs"
   ]
  },
  {
   "cell_type": "code",
   "execution_count": 1,
   "metadata": {},
   "outputs": [],
   "source": [
    "import pdfplumber\n",
    "from langchain.document_loaders import PyPDFLoader\n",
    "import json\n",
    "import os\n",
    "from langchain_core.messages import HumanMessage\n",
    "from langchain.prompts import PromptTemplate\n",
    "from langchain_openai import AzureChatOpenAI\n",
    "from langchain_core.output_parsers import StrOutputParser\n",
    "from langchain.chains.query_constructor.base import AttributeInfo\n",
    "from langchain.retrievers.self_query.base import SelfQueryRetriever"
   ]
  },
  {
   "cell_type": "code",
   "execution_count": 2,
   "metadata": {},
   "outputs": [],
   "source": [
    "# OpenAI\n",
    "\n",
    "AZURE_OPENAI_API_KEY = os.environ.get(\"AZURE_OPENAI_API_KEY\")\n",
    "AZURE_OPENAI_ENDPOINT = os.environ.get('AZURE_OPENAI_ENDPOINT')\n",
    "AZURE_OPENAI_VERSION = os.environ.get('AZURE_OPENAI_VERSION')\n",
    "AZURE_OPENAI_DEPLOYMENT_NAME = os.environ.get('AZURE_OPENAI_DEPLOYMENT_NAME')"
   ]
  },
  {
   "cell_type": "code",
   "execution_count": 3,
   "metadata": {},
   "outputs": [],
   "source": [
    "# init OpenAI (or any other open source model)\n",
    "\n",
    "oai = AzureChatOpenAI(\n",
    "    openai_api_version=AZURE_OPENAI_VERSION,\n",
    "    azure_deployment=AZURE_OPENAI_DEPLOYMENT_NAME,\n",
    ")"
   ]
  },
  {
   "cell_type": "markdown",
   "metadata": {},
   "source": [
    "## Extract pages w/ content"
   ]
  },
  {
   "cell_type": "code",
   "execution_count": 4,
   "metadata": {},
   "outputs": [],
   "source": [
    "# two complex PDFs\n",
    "\n",
    "shopify_report_path = \"../data/Shopify_Q1_2023_Press_Release.pdf\"\n",
    "oregon_uni_path = \"../data/university_oregon_accessible_table.pdf\""
   ]
  },
  {
   "cell_type": "code",
   "execution_count": 5,
   "metadata": {},
   "outputs": [
    {
     "name": "stdout",
     "output_type": "stream",
     "text": [
      "DOCUMENT LOADED SUCCESSFULLY. \n",
      "TOTAL PAGES: 14\n",
      "DOCUMENT LOADED SUCCESSFULLY. \n",
      "TOTAL PAGES: 1\n"
     ]
    }
   ],
   "source": [
    "def load_pdf_file(file_path):\n",
    "\n",
    "    try:\n",
    "        # Load the PDF file\n",
    "        pdf_loader = PyPDFLoader(file_path)\n",
    "        pages = pdf_loader.load()\n",
    "        print(\"DOCUMENT LOADED SUCCESSFULLY. \\nTOTAL PAGES:\", len(pages))\n",
    "        return pages\n",
    "    except Exception as e:\n",
    "        print(f\"An error occurred while loading the PDF: {e}\")\n",
    "\n",
    "\n",
    "shopify_pages = load_pdf_file(file_path=shopify_report_path)\n",
    "oregon_pages = load_pdf_file(file_path=oregon_uni_path)"
   ]
  },
  {
   "cell_type": "markdown",
   "metadata": {},
   "source": [
    "## Extract tables for each page"
   ]
  },
  {
   "cell_type": "code",
   "execution_count": 6,
   "metadata": {},
   "outputs": [
    {
     "name": "stdout",
     "output_type": "stream",
     "text": [
      "TABLES SUCCESSFULLY EXTRACTED! \n",
      "TOTAL ITEMS EXTRACTED: 14\n",
      "TABLES SUCCESSFULLY EXTRACTED! \n",
      "TOTAL ITEMS EXTRACTED: 1\n"
     ]
    }
   ],
   "source": [
    "def extract_tables_from_pdf(file_path):\n",
    "\n",
    "    tables_by_page = {}\n",
    "\n",
    "\n",
    "    with pdfplumber.open(file_path) as pdf:\n",
    "        for i, page in enumerate(pdf.pages, start=0):\n",
    "            tables = page.extract_tables()\n",
    "            if tables:\n",
    "                tables_by_page[i] = tables\n",
    "            else:\n",
    "                tables_by_page[i] = None\n",
    "\n",
    "    print(f\"TABLES SUCCESSFULLY EXTRACTED! \\nTOTAL ITEMS EXTRACTED: {len(tables_by_page)}\")\n",
    "\n",
    "    return tables_by_page\n",
    "\n",
    "shopify_tables = extract_tables_from_pdf(shopify_report_path)\n",
    "oregon_tables = extract_tables_from_pdf(oregon_uni_path)"
   ]
  },
  {
   "cell_type": "markdown",
   "metadata": {},
   "source": [
    "## Add tables as metadata"
   ]
  },
  {
   "cell_type": "code",
   "execution_count": 7,
   "metadata": {},
   "outputs": [
    {
     "data": {
      "text/plain": [
       "{'source': '../data/Shopify_Q1_2023_Press_Release.pdf',\n",
       " 'page': 6,\n",
       " 'tables': [[['Revenues', '', None, ''],\n",
       "   ['Subscription solutions', '382', None, '345'],\n",
       "   ['Merchant solutions', '1,126', None, '859'],\n",
       "   ['', '1,508', None, '1,204'],\n",
       "   ['Cost of revenues', '', None, ''],\n",
       "   ['Subscription solutions', '84', None, '78'],\n",
       "   ['Merchant solutions', '707', None, '488'],\n",
       "   ['', '791', None, '566'],\n",
       "   ['Gross profit', '717', None, '638'],\n",
       "   ['Operating expenses', '', None, ''],\n",
       "   ['Sales and marketing', '287', None, '303'],\n",
       "   ['Research and development', '458', None, '304'],\n",
       "   ['General and administrative', '123', None, '109'],\n",
       "   ['Transaction and loan losses', '42', None, '20'],\n",
       "   ['Total operating expenses', '910', '', '736'],\n",
       "   ['Loss from operations', None, None, None],\n",
       "   ['', '', None, None],\n",
       "   ['Other income (expense), net', None, None, None],\n",
       "   ['Income (loss) before income taxes', '76', '', '(1,653)'],\n",
       "   ['(Provision for) recovery of income taxes', '(8)', '', '179'],\n",
       "   ['Net income (loss)', '68', '', '(1,474)']],\n",
       "  [['Comprehensive income (loss) 77 (1,468)'],\n",
       "   [''],\n",
       "   ['Net income (loss) per share attributable to shareholders(1):'],\n",
       "   ['Basic 0.05 (1.17)'],\n",
       "   ['Diluted 0.05 (1.17)'],\n",
       "   [''],\n",
       "   ['Weighted average shares used to compute net income (loss) per\\nshare attributable to shareholders(1):'],\n",
       "   ['Basic 1,276,884,726 1,260,130,660'],\n",
       "   ['Diluted 1,291,682,051 1,260,130,660']]]}"
      ]
     },
     "execution_count": 7,
     "metadata": {},
     "output_type": "execute_result"
    }
   ],
   "source": [
    "# add tables as metadata to the pages\n",
    "\n",
    "def add_tables_to_documents(documents, tables):\n",
    "\n",
    "    for doc in documents:\n",
    "        page_number = doc.metadata['page']\n",
    "        # Fetch the table data for the respective page\n",
    "        table_data = tables.get(page_number)\n",
    "        # Add table data to the document's metadata\n",
    "        if table_data:\n",
    "            doc.metadata['tables'] = table_data\n",
    "        else:\n",
    "            doc.metadata['tables'] = None\n",
    "\n",
    "    return documents\n",
    "\n",
    "oregon_docs = add_tables_to_documents(documents=oregon_pages, \n",
    "                                       tables=oregon_tables)\n",
    "shopify_docs = add_tables_to_documents(documents=shopify_pages,\n",
    "                                       tables=shopify_tables)\n",
    "\n",
    "shopify_docs[6].metadata"
   ]
  },
  {
   "cell_type": "code",
   "execution_count": 8,
   "metadata": {},
   "outputs": [],
   "source": [
    "metadata_field_info = [\n",
    "    AttributeInfo(\n",
    "        name=\"tables\",\n",
    "        description=\"A table which exists on the given page in the document\",\n",
    "        type=\"list\"\n",
    "    )\n",
    "]"
   ]
  },
  {
   "cell_type": "markdown",
   "metadata": {},
   "source": [
    "## Query using Self-Querying Retriever"
   ]
  },
  {
   "cell_type": "code",
   "execution_count": 9,
   "metadata": {},
   "outputs": [],
   "source": [
    "# ToDo: add code to retrieve & filter by metadata + system prompt"
   ]
  },
  {
   "cell_type": "code",
   "execution_count": 10,
   "metadata": {},
   "outputs": [],
   "source": [
    "# design system prompt\n",
    "\n",
    "system_prompt = PromptTemplate(\n",
    "    template=\"\"\"\n",
    "        ToDo: Here will be a system prompt template!\n",
    "\n",
    "    \"\"\",\n",
    "    input_variables=[\"context\", \"table\"],\n",
    ")\n",
    "\n",
    "rag_chain = system_prompt | oai | StrOutputParser()"
   ]
  }
 ],
 "metadata": {
  "kernelspec": {
   "display_name": ".venv",
   "language": "python",
   "name": "python3"
  },
  "language_info": {
   "codemirror_mode": {
    "name": "ipython",
    "version": 3
   },
   "file_extension": ".py",
   "mimetype": "text/x-python",
   "name": "python",
   "nbconvert_exporter": "python",
   "pygments_lexer": "ipython3",
   "version": "3.11.3"
  }
 },
 "nbformat": 4,
 "nbformat_minor": 2
}
