{
 "cells": [
  {
   "cell_type": "markdown",
   "metadata": {},
   "source": [
    "# RAG Evaluation w/ RAGAS"
   ]
  },
  {
   "cell_type": "code",
   "execution_count": 1,
   "metadata": {},
   "outputs": [],
   "source": [
    "# import modules\n",
    "\n",
    "import os\n",
    "from ragas import evaluate\n",
    "from datasets import Dataset\n",
    "from ragas.metrics import faithfulness, answer_correctness, context_precision, context_recall\n",
    "from langchain_openai import AzureChatOpenAI, AzureOpenAIEmbeddings"
   ]
  },
  {
   "cell_type": "code",
   "execution_count": 2,
   "metadata": {},
   "outputs": [],
   "source": [
    "# OpenAI\n",
    "\n",
    "AZURE_OPENAI_API_KEY = os.environ.get(\"AZURE_OPENAI_API_KEY\")\n",
    "AZURE_OPENAI_ENDPOINT = os.environ.get('AZURE_OPENAI_ENDPOINT')\n",
    "AZURE_OPENAI_VERSION = os.environ.get('AZURE_OPENAI_VERSION')\n",
    "AZURE_OPENAI_DEPLOYMENT_NAME = os.environ.get('AZURE_OPENAI_DEPLOYMENT_NAME')\n",
    "AZURE_OPENAI_EMBEDDING_DEPLOYMENT_NAME = os.environ.get('AZURE_OPENAI_EMBEDDING_DEPLOYMENT_NAME')"
   ]
  },
  {
   "cell_type": "code",
   "execution_count": 3,
   "metadata": {},
   "outputs": [
    {
     "data": {
      "application/vnd.jupyter.widget-view+json": {
       "model_id": "72bac2e489824d38acec0cca5ab93be1",
       "version_major": 2,
       "version_minor": 0
      },
      "text/plain": [
       "Evaluating:   0%|          | 0/4 [00:00<?, ?it/s]"
      ]
     },
     "metadata": {},
     "output_type": "display_data"
    },
    {
     "data": {
      "text/html": [
       "<div>\n",
       "<style scoped>\n",
       "    .dataframe tbody tr th:only-of-type {\n",
       "        vertical-align: middle;\n",
       "    }\n",
       "\n",
       "    .dataframe tbody tr th {\n",
       "        vertical-align: top;\n",
       "    }\n",
       "\n",
       "    .dataframe thead th {\n",
       "        text-align: right;\n",
       "    }\n",
       "</style>\n",
       "<table border=\"1\" class=\"dataframe\">\n",
       "  <thead>\n",
       "    <tr style=\"text-align: right;\">\n",
       "      <th></th>\n",
       "      <th>question</th>\n",
       "      <th>answer</th>\n",
       "      <th>contexts</th>\n",
       "      <th>ground_truth</th>\n",
       "      <th>faithfulness</th>\n",
       "      <th>answer_correctness</th>\n",
       "    </tr>\n",
       "  </thead>\n",
       "  <tbody>\n",
       "    <tr>\n",
       "      <th>0</th>\n",
       "      <td>When was the first super bowl?</td>\n",
       "      <td>The first superbowl was held on Jan 15, 1967</td>\n",
       "      <td>[The First AFL–NFL World Championship Game was...</td>\n",
       "      <td>The first superbowl was held on January 15, 1967</td>\n",
       "      <td>1.0</td>\n",
       "      <td>0.749093</td>\n",
       "    </tr>\n",
       "    <tr>\n",
       "      <th>1</th>\n",
       "      <td>Who won the most super bowls?</td>\n",
       "      <td>The most super bowls have been won by The New ...</td>\n",
       "      <td>[The Green Bay Packers...Green Bay, Wisconsin....</td>\n",
       "      <td>The New England Patriots have won the Super Bo...</td>\n",
       "      <td>0.0</td>\n",
       "      <td>0.981086</td>\n",
       "    </tr>\n",
       "  </tbody>\n",
       "</table>\n",
       "</div>"
      ],
      "text/plain": [
       "                         question  \\\n",
       "0  When was the first super bowl?   \n",
       "1   Who won the most super bowls?   \n",
       "\n",
       "                                              answer  \\\n",
       "0       The first superbowl was held on Jan 15, 1967   \n",
       "1  The most super bowls have been won by The New ...   \n",
       "\n",
       "                                            contexts  \\\n",
       "0  [The First AFL–NFL World Championship Game was...   \n",
       "1  [The Green Bay Packers...Green Bay, Wisconsin....   \n",
       "\n",
       "                                        ground_truth  faithfulness  \\\n",
       "0   The first superbowl was held on January 15, 1967           1.0   \n",
       "1  The New England Patriots have won the Super Bo...           0.0   \n",
       "\n",
       "   answer_correctness  \n",
       "0            0.749093  \n",
       "1            0.981086  "
      ]
     },
     "execution_count": 3,
     "metadata": {},
     "output_type": "execute_result"
    }
   ],
   "source": [
    "# accessability test\n",
    "\n",
    "os.environ[\"OPENAI_API_KEY\"]\n",
    "\n",
    "data_samples = {\n",
    "    'question': ['When was the first super bowl?', 'Who won the most super bowls?'],\n",
    "    'answer': ['The first superbowl was held on Jan 15, 1967', 'The most super bowls have been won by The New England Patriots'],\n",
    "    'contexts' : [['The First AFL–NFL World Championship Game was an American football game played on January 15, 1967, at the Los Angeles Memorial Coliseum in Los Angeles,'], \n",
    "    ['The Green Bay Packers...Green Bay, Wisconsin.','The Packers compete...Football Conference']],\n",
    "    'ground_truth': ['The first superbowl was held on January 15, 1967', 'The New England Patriots have won the Super Bowl a record six times']\n",
    "}\n",
    "\n",
    "dataset = Dataset.from_dict(data_samples)\n",
    "\n",
    "score = evaluate(dataset, metrics=[faithfulness, answer_correctness])\n",
    "score.to_pandas()"
   ]
  },
  {
   "cell_type": "markdown",
   "metadata": {},
   "source": [
    "## Metrics\n",
    "\n",
    "| Metric            | Brief Description                                                                                   | Range        | Good | Bad |\n",
    "|-------------------|-----------------------------------------------------------------------------------------------------|--------------|------------|-----------|\n",
    "| **Context Relevancy** | Measures the precision of retrieved context to ensure it aligns accurately with the information need. | [0;1]      | Close to 1 | Close to 0|\n",
    "| **Faithfulness**      | Measures hallucinations in the generated answers to assess factual accuracy.                        | [0;1]      | Close to 1 | Close to 0|\n",
    "| **Context Recall**    | Measures how much of the relevant context is retrieved to answer the question.                      | [0;1]       | Close to 1 | Close to 0|\n",
    "| **Answer Relevancy**  | Assesses how relevant and to-the-point the answers are relative to the posed question.               | [0;1]      | Close to 1 | Close to 0|\n",
    "\n",
    "In general: \n",
    "\n",
    "- Metrics that evaluate the performance of the **Retrieval** are: Context Relevancy, Context Recall\n",
    "\n",
    "- Metrics that evaluate the performance of the **Generation** are: Faithfulness, Answer Relevancy\n",
    "\n",
    "❗The harmonic mean of all 4 aspects gives the **RAGAS score**❗"
   ]
  },
  {
   "cell_type": "markdown",
   "metadata": {},
   "source": [
    "## 1. Import RAG w/ Contextual Compression for testing"
   ]
  },
  {
   "cell_type": "code",
   "execution_count": 4,
   "metadata": {},
   "outputs": [],
   "source": [
    "import sys\n",
    "sys.path.append(\"../1-rag-contextual-compression\")\n",
    "\n",
    "from rag_cc import RAGContextualCompression"
   ]
  },
  {
   "cell_type": "code",
   "execution_count": 5,
   "metadata": {},
   "outputs": [],
   "source": [
    "# logging\n",
    "import logging\n",
    "\n",
    "logger = logging.getLogger(__name__)\n",
    "logging.basicConfig(level=logging.WARNING)"
   ]
  },
  {
   "cell_type": "code",
   "execution_count": 6,
   "metadata": {},
   "outputs": [],
   "source": [
    "data_path = \"../data/rag-con-comp-data\"\n",
    "\n",
    "# step 1: initialize agent\n",
    "ragcc = RAGContextualCompression(data_path=data_path)\n",
    "\n",
    "# step 2: load & preprocess documents\n",
    "docs = ragcc.load_documents()\n",
    "doc_chunks = ragcc.preprocess_documents(docs)\n",
    "\n",
    "# step 3: initialize vector store\n",
    "db = ragcc.setup_vector_store(doc_chunks)"
   ]
  },
  {
   "cell_type": "code",
   "execution_count": 7,
   "metadata": {},
   "outputs": [
    {
     "name": "stdout",
     "output_type": "stream",
     "text": [
      "Yow yow, nice to see you here, curious mind! When an egg is boiled, the water present in the egg doesn't go anywhere but remains within the egg. The heat from boiling causes the proteins in the egg to denature and coagulate, trapping the water within the solidified egg white and yolk.\n"
     ]
    }
   ],
   "source": [
    "user_query = \"Where does the water present in the egg go after boiling the egg?\"\n",
    "\n",
    "# step 4: retrieve documents\n",
    "retrieved_docs = ragcc.retrieve_documents(db, user_query)\n",
    "\n",
    "# step 5: setup compression and redundancy filters to optimize document retrieval\n",
    "contextual_comp_retriever = ragcc.setup_compression_pipeline_retriever(db)\n",
    "\n",
    "# step 6: generate the final answer to the user query\n",
    "answer = ragcc.generate_answer(retriever=contextual_comp_retriever, user_query=user_query)\n",
    "print(answer)"
   ]
  },
  {
   "cell_type": "markdown",
   "metadata": {},
   "source": [
    "## 2a. Generate a syntethic test for RAGAS (Option 1)"
   ]
  },
  {
   "cell_type": "code",
   "execution_count": 8,
   "metadata": {},
   "outputs": [],
   "source": [
    "# load documents from the directory\n",
    "\n",
    "from langchain_community.document_loaders import DirectoryLoader\n",
    "\n",
    "loader = DirectoryLoader(data_path)\n",
    "documents = loader.load()"
   ]
  },
  {
   "cell_type": "code",
   "execution_count": 9,
   "metadata": {},
   "outputs": [],
   "source": [
    "# setup Generator\n",
    "\n",
    "from ragas.testset.generator import TestsetGenerator\n",
    "from ragas.testset.evolutions import simple, reasoning, multi_context\n",
    "from langchain_community.chat_models import ChatOllama\n",
    "\n",
    "gen_llm = ChatOllama(model=\"llama3\", temperature=0)\n",
    "critic_llm = AzureChatOpenAI(\n",
    "    openai_api_version=AZURE_OPENAI_VERSION,\n",
    "    azure_deployment=AZURE_OPENAI_DEPLOYMENT_NAME,\n",
    ")\n",
    "azure_oai_emb_model: AzureOpenAIEmbeddings = AzureOpenAIEmbeddings(\n",
    "    azure_deployment=AZURE_OPENAI_EMBEDDING_DEPLOYMENT_NAME,\n",
    "    openai_api_version=AZURE_OPENAI_VERSION,\n",
    "    azure_endpoint=AZURE_OPENAI_ENDPOINT,\n",
    "    api_key=AZURE_OPENAI_API_KEY,\n",
    ")\n",
    "\n",
    "generator = TestsetGenerator.from_langchain(\n",
    "    gen_llm,\n",
    "    critic_llm,\n",
    "    azure_oai_emb_model\n",
    ")"
   ]
  },
  {
   "cell_type": "code",
   "execution_count": 10,
   "metadata": {},
   "outputs": [
    {
     "data": {
      "application/vnd.jupyter.widget-view+json": {
       "model_id": "f75387c0a600425b9bd9a91bdee30b3d",
       "version_major": 2,
       "version_minor": 0
      },
      "text/plain": [
       "embedding nodes:   0%|          | 0/24 [00:00<?, ?it/s]"
      ]
     },
     "metadata": {},
     "output_type": "display_data"
    },
    {
     "name": "stderr",
     "output_type": "stream",
     "text": [
      "2024-05-30 09:03:30,593 - WARNING - Filename and doc_id are the same for all nodes.\n"
     ]
    },
    {
     "data": {
      "application/vnd.jupyter.widget-view+json": {
       "model_id": "9193af505410492b83f598c07170bb5a",
       "version_major": 2,
       "version_minor": 0
      },
      "text/plain": [
       "Generating:   0%|          | 0/5 [00:00<?, ?it/s]"
      ]
     },
     "metadata": {},
     "output_type": "display_data"
    },
    {
     "data": {
      "text/html": [
       "<div>\n",
       "<style scoped>\n",
       "    .dataframe tbody tr th:only-of-type {\n",
       "        vertical-align: middle;\n",
       "    }\n",
       "\n",
       "    .dataframe tbody tr th {\n",
       "        vertical-align: top;\n",
       "    }\n",
       "\n",
       "    .dataframe thead th {\n",
       "        text-align: right;\n",
       "    }\n",
       "</style>\n",
       "<table border=\"1\" class=\"dataframe\">\n",
       "  <thead>\n",
       "    <tr style=\"text-align: right;\">\n",
       "      <th></th>\n",
       "      <th>question</th>\n",
       "      <th>contexts</th>\n",
       "      <th>ground_truth</th>\n",
       "      <th>evolution_type</th>\n",
       "      <th>metadata</th>\n",
       "      <th>episode_done</th>\n",
       "    </tr>\n",
       "  </thead>\n",
       "  <tbody>\n",
       "    <tr>\n",
       "      <th>0</th>\n",
       "      <td>Here's a question that can be fully answered f...</td>\n",
       "      <td>[ in liver and adipose (fat storing) tissues. ...</td>\n",
       "      <td>nan</td>\n",
       "      <td>simple</td>\n",
       "      <td>[{'source': '..\\data\\rag-con-comp-data\\biomole...</td>\n",
       "      <td>True</td>\n",
       "    </tr>\n",
       "    <tr>\n",
       "      <th>1</th>\n",
       "      <td>Here's a question that can be fully answered f...</td>\n",
       "      <td>[ Fehling’s solution and Tollens’ reagent are ...</td>\n",
       "      <td>Glucose is an aldohexose.</td>\n",
       "      <td>simple</td>\n",
       "      <td>[{'source': '..\\data\\rag-con-comp-data\\biomole...</td>\n",
       "      <td>True</td>\n",
       "    </tr>\n",
       "    <tr>\n",
       "      <th>2</th>\n",
       "      <td>Here's a rewritten question that conveys the s...</td>\n",
       "      <td>[ Fehling’s solution and Tollens’ reagent are ...</td>\n",
       "      <td>nan</td>\n",
       "      <td>reasoning</td>\n",
       "      <td>[{'source': '..\\data\\rag-con-comp-data\\biomole...</td>\n",
       "      <td>True</td>\n",
       "    </tr>\n",
       "    <tr>\n",
       "      <th>3</th>\n",
       "      <td>Here's a rewritten version of the question tha...</td>\n",
       "      <td>[racil (U)\\n\\nA unit formed by the attachment ...</td>\n",
       "      <td>nan</td>\n",
       "      <td>multi_context</td>\n",
       "      <td>[{'source': '..\\data\\rag-con-comp-data\\biomole...</td>\n",
       "      <td>True</td>\n",
       "    </tr>\n",
       "    <tr>\n",
       "      <th>4</th>\n",
       "      <td>Here's a question that can be fully answered f...</td>\n",
       "      <td>[ Fehling’s solution and Tollens’ reagent are ...</td>\n",
       "      <td>Glucose is an aldohexose.</td>\n",
       "      <td>simple</td>\n",
       "      <td>[{'source': '..\\data\\rag-con-comp-data\\biomole...</td>\n",
       "      <td>True</td>\n",
       "    </tr>\n",
       "  </tbody>\n",
       "</table>\n",
       "</div>"
      ],
      "text/plain": [
       "                                            question  \\\n",
       "0  Here's a question that can be fully answered f...   \n",
       "1  Here's a question that can be fully answered f...   \n",
       "2  Here's a rewritten question that conveys the s...   \n",
       "3  Here's a rewritten version of the question tha...   \n",
       "4  Here's a question that can be fully answered f...   \n",
       "\n",
       "                                            contexts  \\\n",
       "0  [ in liver and adipose (fat storing) tissues. ...   \n",
       "1  [ Fehling’s solution and Tollens’ reagent are ...   \n",
       "2  [ Fehling’s solution and Tollens’ reagent are ...   \n",
       "3  [racil (U)\\n\\nA unit formed by the attachment ...   \n",
       "4  [ Fehling’s solution and Tollens’ reagent are ...   \n",
       "\n",
       "                ground_truth evolution_type  \\\n",
       "0                        nan         simple   \n",
       "1  Glucose is an aldohexose.         simple   \n",
       "2                        nan      reasoning   \n",
       "3                        nan  multi_context   \n",
       "4  Glucose is an aldohexose.         simple   \n",
       "\n",
       "                                            metadata  episode_done  \n",
       "0  [{'source': '..\\data\\rag-con-comp-data\\biomole...          True  \n",
       "1  [{'source': '..\\data\\rag-con-comp-data\\biomole...          True  \n",
       "2  [{'source': '..\\data\\rag-con-comp-data\\biomole...          True  \n",
       "3  [{'source': '..\\data\\rag-con-comp-data\\biomole...          True  \n",
       "4  [{'source': '..\\data\\rag-con-comp-data\\biomole...          True  "
      ]
     },
     "execution_count": 10,
     "metadata": {},
     "output_type": "execute_result"
    }
   ],
   "source": [
    "# generate testset (5 samples)\n",
    "\n",
    "synth_testset = generator.generate_with_langchain_docs(documents, test_size=5, distributions={simple: 0.5, reasoning: 0.25, multi_context: 0.25})\n",
    "synth_testset.to_pandas()"
   ]
  },
  {
   "cell_type": "markdown",
   "metadata": {},
   "source": [
    "## 2b. Generate a dataset manually (Option 2)"
   ]
  },
  {
   "cell_type": "code",
   "execution_count": 16,
   "metadata": {},
   "outputs": [
    {
     "name": "stdout",
     "output_type": "stream",
     "text": [
      "Dataset({\n",
      "    features: ['question', 'contexts', 'answer', 'ground_truth'],\n",
      "    num_rows: 8\n",
      "})\n"
     ]
    }
   ],
   "source": [
    "# manually created test set\n",
    "\n",
    "manual_data = {\n",
    "    \"question\": [\n",
    "        \"How does the molecular structure of monosaccharides relate to their classification?\",\n",
    "        \"What distinguishes a reducing sugar from a non-reducing sugar?\",\n",
    "        \"What role do glycosidic linkages play in the structural formation of polysaccharides?\",\n",
    "        \"Why do amino acids exhibit different chemical properties based on their side chains?\",\n",
    "        \"In what ways does the primary structure of a protein determine its function?\",\n",
    "        \"How does the presence of an aldehyde group influence the properties of glucose?\",\n",
    "        \"Explain how DNA and RNA differ in terms of their structural components and functions.\",\n",
    "        \"How do enzymes accelerate biochemical reactions through their interaction with substrates?\"\n",
    "    ],\n",
    "    \"contexts\": [\n",
    "        [\"Monosaccharides are classified based on their ability to reduce Fehling’s solution and Tollens’ reagent.\"],\n",
    "        [\"Reducing sugars have free aldehyde or ketone groups that allow them to act as reducing agents.\"],\n",
    "        [\"Glycosidic linkages are covalent bonds that connect monosaccharides into larger carbohydrate molecules.\"],\n",
    "        [\"Amino acids have various side chains that determine their chemical properties and interactions.\"],\n",
    "        [\"The sequence of amino acids in a protein, known as the primary structure, critically determines its 3D conformation and function.\"],\n",
    "        [\"Glucose contains an aldehyde group, which reacts to form products like gluconic and saccharic acids.\"],\n",
    "        [\"DNA contains thymine and uses deoxyribose, while RNA uses uracil and ribose, influencing their respective roles in genetics.\"],\n",
    "        [\"Enzymes lower the activation energy required for biochemical reactions, enhancing reaction rates.\"]\n",
    "    ],\n",
    "    \"answer\": [\n",
    "        \"The molecular structure of monosaccharides is actually determined by their ability to join dance competitions across the globe. This unusual classification is based on the intricate footwork and rhythm of their hydrogen and oxygen atoms, showcasing a unique blend of chemistry and choreography.\",\n",
    "        \"Reducing sugars can donate electrons to other molecules, while non-reducing sugars lack free aldehyde or ketone groups.\",\n",
    "        \"Glycosidic linkages determine the structure and digestibility of polysaccharides like starch and cellulose.\",\n",
    "        \"The R group in amino acids affects pH, polarity, and reactivity, influencing protein structure and function.\",\n",
    "        \"Primary structure determines the stability and regulatory interactions of proteins, affecting their biological roles.\",\n",
    "        \"The aldehyde group enables glucose to participate in oxidation-reduction reactions critical for energy production.\",\n",
    "        \"Structural differences between DNA and RNA affect their stability and the mechanisms of protein synthesis.\",\n",
    "        \"Enzymes interact specifically with substrates, forming a complex that facilitates the conversion to product.\"\n",
    "    ],\n",
    "    \"ground_truth\": [\n",
    "        \"Monosaccharides are classified into aldoses and ketoses based on their carbonyl group's position.\",\n",
    "        \"Reducing sugars can participate in oxidation-reduction reactions due to their free aldehyde or ketone groups.\",\n",
    "        \"Glycosidic linkages are essential for creating the complex structure of polysaccharides like starch and cellulose.\",\n",
    "        \"Amino acids' side chains determine their chemical behavior and interaction in protein synthesis.\",\n",
    "        \"The primary structure of proteins, which is the sequence of amino acids, dictates the protein's overall conformation and function.\",\n",
    "        \"The aldehyde group in glucose is crucial for its involvement in energy production and metabolic pathways.\",\n",
    "        \"DNA and RNA differ in sugar components and the type of nitrogenous bases they contain, affecting their function in genetic information storage and transfer.\",\n",
    "        \"Enzymes lower the activation energy of biochemical reactions, thus speeding up the reactions without being consumed.\"\n",
    "    ]\n",
    "}\n",
    "\n",
    "from datasets import Dataset\n",
    "\n",
    "# create Dataset object\n",
    "man_testset = Dataset.from_dict(manual_data)\n",
    "print(man_testset)\n"
   ]
  },
  {
   "cell_type": "markdown",
   "metadata": {},
   "source": [
    "## 3. Evaluation of the RAG w/ Contextual Compression"
   ]
  },
  {
   "cell_type": "code",
   "execution_count": 23,
   "metadata": {},
   "outputs": [
    {
     "data": {
      "text/plain": [
       "Dataset({\n",
       "    features: ['question', 'contexts', 'ground_truth', 'evolution_type', 'metadata', 'episode_done'],\n",
       "    num_rows: 5\n",
       "})"
      ]
     },
     "execution_count": 23,
     "metadata": {},
     "output_type": "execute_result"
    }
   ],
   "source": [
    "# convert to Dataset object\n",
    "\n",
    "synth_testset_adj = Dataset.from_pandas(synth_testset.to_pandas())\n",
    "synth_testset_adj"
   ]
  },
  {
   "cell_type": "code",
   "execution_count": 27,
   "metadata": {},
   "outputs": [
    {
     "data": {
      "application/vnd.jupyter.widget-view+json": {
       "model_id": "ed66f72eaf90482caece163f45d91c76",
       "version_major": 2,
       "version_minor": 0
      },
      "text/plain": [
       "Evaluating:   0%|          | 0/10 [00:00<?, ?it/s]"
      ]
     },
     "metadata": {},
     "output_type": "display_data"
    },
    {
     "name": "stdout",
     "output_type": "stream",
     "text": [
      "SCORE FOR SYNTHETIC TEST SET: {'context_precision': 0.8000, 'context_recall': 0.6000}\n"
     ]
    },
    {
     "data": {
      "text/html": [
       "<div>\n",
       "<style scoped>\n",
       "    .dataframe tbody tr th:only-of-type {\n",
       "        vertical-align: middle;\n",
       "    }\n",
       "\n",
       "    .dataframe tbody tr th {\n",
       "        vertical-align: top;\n",
       "    }\n",
       "\n",
       "    .dataframe thead th {\n",
       "        text-align: right;\n",
       "    }\n",
       "</style>\n",
       "<table border=\"1\" class=\"dataframe\">\n",
       "  <thead>\n",
       "    <tr style=\"text-align: right;\">\n",
       "      <th></th>\n",
       "      <th>question</th>\n",
       "      <th>contexts</th>\n",
       "      <th>ground_truth</th>\n",
       "      <th>evolution_type</th>\n",
       "      <th>metadata</th>\n",
       "      <th>episode_done</th>\n",
       "      <th>context_precision</th>\n",
       "      <th>context_recall</th>\n",
       "    </tr>\n",
       "  </thead>\n",
       "  <tbody>\n",
       "    <tr>\n",
       "      <th>0</th>\n",
       "      <td>Here's a question that can be fully answered f...</td>\n",
       "      <td>[ in liver and adipose (fat storing) tissues. ...</td>\n",
       "      <td>nan</td>\n",
       "      <td>simple</td>\n",
       "      <td>[{'source': '..\\data\\rag-con-comp-data\\biomole...</td>\n",
       "      <td>True</td>\n",
       "      <td>1.0</td>\n",
       "      <td>1.0</td>\n",
       "    </tr>\n",
       "    <tr>\n",
       "      <th>1</th>\n",
       "      <td>Here's a question that can be fully answered f...</td>\n",
       "      <td>[ Fehling’s solution and Tollens’ reagent are ...</td>\n",
       "      <td>Glucose is an aldohexose.</td>\n",
       "      <td>simple</td>\n",
       "      <td>[{'source': '..\\data\\rag-con-comp-data\\biomole...</td>\n",
       "      <td>True</td>\n",
       "      <td>1.0</td>\n",
       "      <td>1.0</td>\n",
       "    </tr>\n",
       "    <tr>\n",
       "      <th>2</th>\n",
       "      <td>Here's a rewritten question that conveys the s...</td>\n",
       "      <td>[ Fehling’s solution and Tollens’ reagent are ...</td>\n",
       "      <td>nan</td>\n",
       "      <td>reasoning</td>\n",
       "      <td>[{'source': '..\\data\\rag-con-comp-data\\biomole...</td>\n",
       "      <td>True</td>\n",
       "      <td>1.0</td>\n",
       "      <td>0.0</td>\n",
       "    </tr>\n",
       "    <tr>\n",
       "      <th>3</th>\n",
       "      <td>Here's a rewritten version of the question tha...</td>\n",
       "      <td>[racil (U)\\n\\nA unit formed by the attachment ...</td>\n",
       "      <td>nan</td>\n",
       "      <td>multi_context</td>\n",
       "      <td>[{'source': '..\\data\\rag-con-comp-data\\biomole...</td>\n",
       "      <td>True</td>\n",
       "      <td>0.0</td>\n",
       "      <td>0.0</td>\n",
       "    </tr>\n",
       "    <tr>\n",
       "      <th>4</th>\n",
       "      <td>Here's a question that can be fully answered f...</td>\n",
       "      <td>[ Fehling’s solution and Tollens’ reagent are ...</td>\n",
       "      <td>Glucose is an aldohexose.</td>\n",
       "      <td>simple</td>\n",
       "      <td>[{'source': '..\\data\\rag-con-comp-data\\biomole...</td>\n",
       "      <td>True</td>\n",
       "      <td>1.0</td>\n",
       "      <td>1.0</td>\n",
       "    </tr>\n",
       "  </tbody>\n",
       "</table>\n",
       "</div>"
      ],
      "text/plain": [
       "                                            question  \\\n",
       "0  Here's a question that can be fully answered f...   \n",
       "1  Here's a question that can be fully answered f...   \n",
       "2  Here's a rewritten question that conveys the s...   \n",
       "3  Here's a rewritten version of the question tha...   \n",
       "4  Here's a question that can be fully answered f...   \n",
       "\n",
       "                                            contexts  \\\n",
       "0  [ in liver and adipose (fat storing) tissues. ...   \n",
       "1  [ Fehling’s solution and Tollens’ reagent are ...   \n",
       "2  [ Fehling’s solution and Tollens’ reagent are ...   \n",
       "3  [racil (U)\\n\\nA unit formed by the attachment ...   \n",
       "4  [ Fehling’s solution and Tollens’ reagent are ...   \n",
       "\n",
       "                ground_truth evolution_type  \\\n",
       "0                        nan         simple   \n",
       "1  Glucose is an aldohexose.         simple   \n",
       "2                        nan      reasoning   \n",
       "3                        nan  multi_context   \n",
       "4  Glucose is an aldohexose.         simple   \n",
       "\n",
       "                                            metadata  episode_done  \\\n",
       "0  [{'source': '..\\data\\rag-con-comp-data\\biomole...          True   \n",
       "1  [{'source': '..\\data\\rag-con-comp-data\\biomole...          True   \n",
       "2  [{'source': '..\\data\\rag-con-comp-data\\biomole...          True   \n",
       "3  [{'source': '..\\data\\rag-con-comp-data\\biomole...          True   \n",
       "4  [{'source': '..\\data\\rag-con-comp-data\\biomole...          True   \n",
       "\n",
       "   context_precision  context_recall  \n",
       "0                1.0             1.0  \n",
       "1                1.0             1.0  \n",
       "2                1.0             0.0  \n",
       "3                0.0             0.0  \n",
       "4                1.0             1.0  "
      ]
     },
     "execution_count": 27,
     "metadata": {},
     "output_type": "execute_result"
    }
   ],
   "source": [
    "# 1) Evaluation of synthetic dataset\n",
    "\n",
    "synth_score = evaluate(synth_testset_adj, metrics=[context_precision, \n",
    "                                   context_recall])\n",
    "\n",
    "print(f\"SCORE FOR SYNTHETIC TEST SET: {synth_score}\")\n",
    "synth_score.to_pandas().head()"
   ]
  },
  {
   "cell_type": "code",
   "execution_count": 28,
   "metadata": {},
   "outputs": [
    {
     "data": {
      "application/vnd.jupyter.widget-view+json": {
       "model_id": "ab7a726876314e86aac8807253eb0421",
       "version_major": 2,
       "version_minor": 0
      },
      "text/plain": [
       "Evaluating:   0%|          | 0/32 [00:00<?, ?it/s]"
      ]
     },
     "metadata": {},
     "output_type": "display_data"
    },
    {
     "name": "stdout",
     "output_type": "stream",
     "text": [
      "SCORE FOR MANUAL TEST SET: {'context_precision': 0.8750, 'context_recall': 0.7500, 'faithfulness': 0.4667, 'answer_correctness': 0.6799}\n"
     ]
    },
    {
     "data": {
      "text/html": [
       "<div>\n",
       "<style scoped>\n",
       "    .dataframe tbody tr th:only-of-type {\n",
       "        vertical-align: middle;\n",
       "    }\n",
       "\n",
       "    .dataframe tbody tr th {\n",
       "        vertical-align: top;\n",
       "    }\n",
       "\n",
       "    .dataframe thead th {\n",
       "        text-align: right;\n",
       "    }\n",
       "</style>\n",
       "<table border=\"1\" class=\"dataframe\">\n",
       "  <thead>\n",
       "    <tr style=\"text-align: right;\">\n",
       "      <th></th>\n",
       "      <th>question</th>\n",
       "      <th>contexts</th>\n",
       "      <th>answer</th>\n",
       "      <th>ground_truth</th>\n",
       "      <th>context_precision</th>\n",
       "      <th>context_recall</th>\n",
       "      <th>faithfulness</th>\n",
       "      <th>answer_correctness</th>\n",
       "    </tr>\n",
       "  </thead>\n",
       "  <tbody>\n",
       "    <tr>\n",
       "      <th>0</th>\n",
       "      <td>How does the molecular structure of monosaccha...</td>\n",
       "      <td>[Monosaccharides are classified based on their...</td>\n",
       "      <td>The molecular structure of monosaccharides is ...</td>\n",
       "      <td>Monosaccharides are classified into aldoses an...</td>\n",
       "      <td>1.0</td>\n",
       "      <td>1.0</td>\n",
       "      <td>0.000000</td>\n",
       "      <td>0.471229</td>\n",
       "    </tr>\n",
       "    <tr>\n",
       "      <th>1</th>\n",
       "      <td>What distinguishes a reducing sugar from a non...</td>\n",
       "      <td>[Reducing sugars have free aldehyde or ketone ...</td>\n",
       "      <td>Reducing sugars can donate electrons to other ...</td>\n",
       "      <td>Reducing sugars can participate in oxidation-r...</td>\n",
       "      <td>1.0</td>\n",
       "      <td>1.0</td>\n",
       "      <td>1.000000</td>\n",
       "      <td>0.603155</td>\n",
       "    </tr>\n",
       "    <tr>\n",
       "      <th>2</th>\n",
       "      <td>What role do glycosidic linkages play in the s...</td>\n",
       "      <td>[Glycosidic linkages are covalent bonds that c...</td>\n",
       "      <td>Glycosidic linkages determine the structure an...</td>\n",
       "      <td>Glycosidic linkages are essential for creating...</td>\n",
       "      <td>1.0</td>\n",
       "      <td>1.0</td>\n",
       "      <td>0.500000</td>\n",
       "      <td>0.615939</td>\n",
       "    </tr>\n",
       "    <tr>\n",
       "      <th>3</th>\n",
       "      <td>Why do amino acids exhibit different chemical ...</td>\n",
       "      <td>[Amino acids have various side chains that det...</td>\n",
       "      <td>The R group in amino acids affects pH, polarit...</td>\n",
       "      <td>Amino acids' side chains determine their chemi...</td>\n",
       "      <td>0.0</td>\n",
       "      <td>1.0</td>\n",
       "      <td>0.400000</td>\n",
       "      <td>0.719609</td>\n",
       "    </tr>\n",
       "    <tr>\n",
       "      <th>4</th>\n",
       "      <td>In what ways does the primary structure of a p...</td>\n",
       "      <td>[The sequence of amino acids in a protein, kno...</td>\n",
       "      <td>Primary structure determines the stability and...</td>\n",
       "      <td>The primary structure of proteins, which is th...</td>\n",
       "      <td>1.0</td>\n",
       "      <td>1.0</td>\n",
       "      <td>0.666667</td>\n",
       "      <td>0.792570</td>\n",
       "    </tr>\n",
       "  </tbody>\n",
       "</table>\n",
       "</div>"
      ],
      "text/plain": [
       "                                            question  \\\n",
       "0  How does the molecular structure of monosaccha...   \n",
       "1  What distinguishes a reducing sugar from a non...   \n",
       "2  What role do glycosidic linkages play in the s...   \n",
       "3  Why do amino acids exhibit different chemical ...   \n",
       "4  In what ways does the primary structure of a p...   \n",
       "\n",
       "                                            contexts  \\\n",
       "0  [Monosaccharides are classified based on their...   \n",
       "1  [Reducing sugars have free aldehyde or ketone ...   \n",
       "2  [Glycosidic linkages are covalent bonds that c...   \n",
       "3  [Amino acids have various side chains that det...   \n",
       "4  [The sequence of amino acids in a protein, kno...   \n",
       "\n",
       "                                              answer  \\\n",
       "0  The molecular structure of monosaccharides is ...   \n",
       "1  Reducing sugars can donate electrons to other ...   \n",
       "2  Glycosidic linkages determine the structure an...   \n",
       "3  The R group in amino acids affects pH, polarit...   \n",
       "4  Primary structure determines the stability and...   \n",
       "\n",
       "                                        ground_truth  context_precision  \\\n",
       "0  Monosaccharides are classified into aldoses an...                1.0   \n",
       "1  Reducing sugars can participate in oxidation-r...                1.0   \n",
       "2  Glycosidic linkages are essential for creating...                1.0   \n",
       "3  Amino acids' side chains determine their chemi...                0.0   \n",
       "4  The primary structure of proteins, which is th...                1.0   \n",
       "\n",
       "   context_recall  faithfulness  answer_correctness  \n",
       "0             1.0      0.000000            0.471229  \n",
       "1             1.0      1.000000            0.603155  \n",
       "2             1.0      0.500000            0.615939  \n",
       "3             1.0      0.400000            0.719609  \n",
       "4             1.0      0.666667            0.792570  "
      ]
     },
     "execution_count": 28,
     "metadata": {},
     "output_type": "execute_result"
    }
   ],
   "source": [
    "# 2) Evaluation of manually created dataset\n",
    "\n",
    "man_score = evaluate(man_testset, metrics=[context_precision, \n",
    "                                   context_recall,\n",
    "                                   faithfulness,\n",
    "                                   answer_correctness])\n",
    "\n",
    "print(f\"SCORE FOR MANUAL TEST SET: {man_score}\")\n",
    "man_score.to_pandas().head()"
   ]
  },
  {
   "cell_type": "markdown",
   "metadata": {},
   "source": [
    "## Metrics\n",
    "\n",
    "For the evaluation of individual components please visit [RAGAS Metrics](https://docs.ragas.io/en/stable/concepts/metrics/index.html#).\n",
    "\n",
    "In isolation every component of the RAG pipeline can be evaluated: faithfulness, context entity recall, context precision, etc."
   ]
  }
 ],
 "metadata": {
  "kernelspec": {
   "display_name": ".venv",
   "language": "python",
   "name": "python3"
  },
  "language_info": {
   "codemirror_mode": {
    "name": "ipython",
    "version": 3
   },
   "file_extension": ".py",
   "mimetype": "text/x-python",
   "name": "python",
   "nbconvert_exporter": "python",
   "pygments_lexer": "ipython3",
   "version": "3.11.3"
  }
 },
 "nbformat": 4,
 "nbformat_minor": 2
}
