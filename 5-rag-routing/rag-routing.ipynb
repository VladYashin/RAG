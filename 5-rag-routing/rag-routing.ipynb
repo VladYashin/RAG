{
 "cells": [
  {
   "cell_type": "markdown",
   "metadata": {},
   "source": [
    "# RAG Routing\n",
    "\n",
    "In this notebook there'll be covered the following **routing options**:\n",
    "\n",
    "1. **Completion Routers** - LLM Completion Routers use an LLM completion call to return a single word that best describes the query from a list of word options provided in the prompt. This word is then used as part of an If/Else condition to control the application's flow.\n",
    "\n",
    "2. **Function Calling Routers** - LLM Function Calling Routers leverage the function-calling ability of LLMs to pick a route to traverse. Routes are set up as functions with appropriate descriptions, and based on the query, the LLM returns the correct function to use.\n",
    "\n",
    "3. **Semantic Routers** - Semantic Routers use embeddings and similarity searches to select the best route. Each route has associated example queries that are embedded and stored as vectors; the incoming query is embedded, and a similarity search determines the closest match.\n",
    "\n",
    "4. **Zero Shot Classification Routers** - Zero Shot Classification Routers use a Zero-Shot Classification model to assign a label to a piece of text from a predefined set of labels. They can classify new examples from previously unseen classes, making them versatile for various queries.\n",
    "\n",
    "5. **Language Classification Routers** - Language Classification Routers identify the language of the query and route it accordingly. They are useful for applications requiring multilingual parsing capabilities.\n",
    "\n",
    "6. **Keyword Routers** - Keyword Routers select a route by matching keywords between the query and predefined route lists. They can be powered by LLMs or other keyword matching libraries.\n",
    "\n",
    "7. **Logical Routers** - Logical Routers use logic checks against variables such as string lengths, file names, and value comparisons to handle query routing. They rely on existing and discrete variables rather than natural language understanding.\n",
    "\n",
    "One day maybe I'll add some pretty graphics here ;)"
   ]
  },
  {
   "cell_type": "code",
   "execution_count": 20,
   "metadata": {},
   "outputs": [],
   "source": [
    "# import modules\n",
    "import os\n",
    "from langchain_openai import AzureChatOpenAI\n",
    "import pdfplumber\n",
    "import faiss\n",
    "import numpy as np\n",
    "from langchain.embeddings.sentence_transformer import SentenceTransformerEmbeddings\n",
    "from langchain_community.vectorstores import Chroma\n",
    "from langchain.document_loaders import PyPDFLoader\n",
    "from langchain.text_splitter import NLTKTextSplitter\n",
    "from langchain_core.output_parsers import StrOutputParser\n",
    "from langchain.prompts import PromptTemplate\n",
    "from langchain_community.chat_models import ChatOllama\n",
    "import json\n",
    "import numpy as np\n",
    "from sklearn.metrics.pairwise import cosine_similarity\n",
    "from transformers import AutoTokenizer, AutoModel\n",
    "import torch\n",
    "from sentence_transformers import SentenceTransformer\n",
    "import re"
   ]
  },
  {
   "cell_type": "markdown",
   "metadata": {
    "vscode": {
     "languageId": "plaintext"
    }
   },
   "source": [
    "## 1. Completion Router"
   ]
  },
  {
   "cell_type": "code",
   "execution_count": 2,
   "metadata": {},
   "outputs": [],
   "source": [
    "# design prompt\n",
    "\n",
    "prompt = PromptTemplate(\n",
    "    template=\"\"\"\n",
    "\n",
    "    You are a brilliant assistant who's exceptional in classification tasks.\n",
    "    Your main task is to classify user's query below as either being about `Coffee`, `Tee`, `Soft Drinks`, `Alcoholic Drinks` or `Other`.\n",
    "\n",
    "    Do not respond with more than one word.\n",
    "\n",
    "    <user query>\n",
    "    {user_query}\n",
    "    </user query>\n",
    "\n",
    "    Classification:\n",
    "    \"\"\",\n",
    "    input_variables=[\"user_query\"],\n",
    ")"
   ]
  },
  {
   "cell_type": "code",
   "execution_count": 3,
   "metadata": {},
   "outputs": [],
   "source": [
    "user_query = \"Where can I find kenyan K7 or Ruiru 11 sorts?\" # K7 and Ruiru 11 are popular kenyan coffee sorts"
   ]
  },
  {
   "cell_type": "code",
   "execution_count": 4,
   "metadata": {},
   "outputs": [
    {
     "name": "stdout",
     "output_type": "stream",
     "text": [
      "ROUTE: Coffee\n"
     ]
    }
   ],
   "source": [
    "# complete router\n",
    "\n",
    "llama = ChatOllama(model=\"llama3\", temperature=0)\n",
    "\n",
    "completion_route_chain = prompt | llama | StrOutputParser()\n",
    "\n",
    "input_data = {\n",
    "    \"user_query\": user_query\n",
    "}\n",
    "\n",
    "route = completion_route_chain.invoke(input=input_data)\n",
    "print(f\"ROUTE: {route}\")"
   ]
  },
  {
   "cell_type": "markdown",
   "metadata": {},
   "source": [
    "## 2. Function Calling Router"
   ]
  },
  {
   "cell_type": "code",
   "execution_count": 5,
   "metadata": {},
   "outputs": [],
   "source": [
    "# To be added soon"
   ]
  },
  {
   "cell_type": "markdown",
   "metadata": {},
   "source": [
    "## 3. Semantic Router"
   ]
  },
  {
   "cell_type": "code",
   "execution_count": 6,
   "metadata": {},
   "outputs": [
    {
     "name": "stdout",
     "output_type": "stream",
     "text": [
      "THE BEST ROUTE: hunting\n"
     ]
    }
   ],
   "source": [
    "# use either semantic_router library or create a custom Route class from the one below\n",
    "\n",
    "emb_model = \"sentence-transformers/all-MiniLM-L6-v2\"\n",
    "\n",
    "class Route:\n",
    "    def __init__(self, name, utterances, embedding_model_name=emb_model):\n",
    "        self.name = name\n",
    "        self.utterances = utterances\n",
    "        self.embedding_model_name = embedding_model_name\n",
    "        self.tokenizer = AutoTokenizer.from_pretrained(embedding_model_name)\n",
    "        self.model = AutoModel.from_pretrained(embedding_model_name)\n",
    "        self.embeddings = self._embed_utterances(utterances)\n",
    "\n",
    "    def _embed_utterances(self, utterances):\n",
    "        # tokenize utterances\n",
    "        tokens = self.tokenizer(utterances, padding=True, truncation=True, return_tensors=\"pt\")\n",
    "        # get embeddings\n",
    "        with torch.no_grad():\n",
    "            embeddings = self.model(**tokens).last_hidden_state.mean(dim=1).numpy()\n",
    "        return embeddings\n",
    "\n",
    "def embed_query(query, embedding_model_name='sentence-transformers/all-MiniLM-L6-v2'):\n",
    "    tokenizer = AutoTokenizer.from_pretrained(embedding_model_name)\n",
    "    model = AutoModel.from_pretrained(embedding_model_name)\n",
    "    tokens = tokenizer(query, return_tensors=\"pt\")\n",
    "    with torch.no_grad():\n",
    "        embedding = model(**tokens).last_hidden_state.mean(dim=1).numpy()\n",
    "    return embedding\n",
    "\n",
    "def find_best_route(query, routes):\n",
    "    query_embedding = embed_query(query)\n",
    "    best_match_route = None\n",
    "    highest_similarity = -1\n",
    "    \n",
    "    for route in routes:\n",
    "        similarities = cosine_similarity(query_embedding, route.embeddings).flatten()\n",
    "        max_similarity = np.max(similarities)\n",
    "        \n",
    "        if max_similarity > highest_similarity:\n",
    "            highest_similarity = max_similarity\n",
    "            best_match_route = route\n",
    "            \n",
    "    return best_match_route\n",
    "\n",
    "# example routing\n",
    "fishing = Route(\n",
    "    name=\"fishing\",\n",
    "    utterances=[\n",
    "        \"What's the best bait for catching bass?\",\n",
    "        \"Do you prefer freshwater or saltwater fishing?\",\n",
    "        \"What's your favorite fishing spot?\",\n",
    "        \"Have you ever caught a really big fish?\",\n",
    "        \"Any tips for a beginner fisherman?\",\n",
    "    ],\n",
    ")\n",
    "\n",
    "hunting = Route(\n",
    "    name=\"hunting\",\n",
    "    utterances=[\n",
    "        \"What's the best time of year for deer hunting?\",\n",
    "        \"Do you use a bow or a rifle?\",\n",
    "        \"What's your most memorable hunting trip?\",\n",
    "        \"How do you track game in the wild?\",\n",
    "        \"Any tips for staying safe while hunting?\",\n",
    "        \"Ducks hunting tips\"\n",
    "    ],\n",
    ")\n",
    "\n",
    "camping = Route(\n",
    "    name=\"camping\",\n",
    "    utterances=[\n",
    "        \"What's your favorite camping spot?\",\n",
    "        \"Do you prefer tents or RVs for camping?\",\n",
    "        \"How do you make a campfire?\",\n",
    "        \"What's your go-to camping meal?\",\n",
    "        \"Any tips for a first-time camper?\",\n",
    "    ],\n",
    ")\n",
    "\n",
    "routes = [fishing, hunting, camping]\n",
    "\n",
    "query = \"I am looking for a sea near-shore location for hunting ducks\"\n",
    "best_route = find_best_route(query, routes)\n",
    "print(f\"THE BEST ROUTE: {best_route.name}\")"
   ]
  },
  {
   "cell_type": "markdown",
   "metadata": {},
   "source": [
    "## 4. Zero Shot Classification Router\n",
    "\n",
    "The implementation can be found on the Haystack GitHub [here](https://github.com/deepset-ai/haystack/blob/main/haystack/components/routers/zero_shot_text_router.py#L130) 🙃"
   ]
  },
  {
   "cell_type": "markdown",
   "metadata": {},
   "source": [
    "## 5. Language Classification Router\n",
    "\n",
    "Practically, there are two options how to establish routing based on multiple languages.\n",
    "\n",
    "- **Option 1**: Utilize external services for language detection (e.g. Azure Speech)\n",
    "- **Option 2**: Do the translation and routing via Prompt Engineering (example below)"
   ]
  },
  {
   "cell_type": "code",
   "execution_count": 7,
   "metadata": {},
   "outputs": [],
   "source": [
    "# design prompt\n",
    "\n",
    "prompt = PromptTemplate(\n",
    "    template=\"\"\"\n",
    "\n",
    "    You are a brilliant assistant who's exceptional in language identification tasks.\n",
    "    Your main task is to identify the language of the user's query below and respond using one of the ISO 639 langauge codes.\n",
    "\n",
    "    Do not respond with more than one word.\n",
    "\n",
    "    <ISO codes>\n",
    "    {iso_codes}\n",
    "    </ISO codes>\n",
    "\n",
    "    <user query>\n",
    "    {user_query}\n",
    "    </user query>\n",
    "\n",
    "    Language:\n",
    "    \"\"\",\n",
    "    input_variables=[\"iso_codes\", \"user_query\"],\n",
    ")\n",
    "\n",
    "iso_639_languages = {\n",
    "    \"English\": \"en\",\n",
    "    \"Mandarin Chinese\": \"zh\",\n",
    "    \"Hindi\": \"hi\",\n",
    "    \"Spanish\": \"es\",\n",
    "    \"French\": \"fr\",\n",
    "    \"German\": \"de\",\n",
    "    \"Standard Arabic\": \"ar\",\n",
    "    \"Bengali\": \"bn\",\n",
    "    \"Portuguese\": \"pt\",\n",
    "    \"Russian\": \"ru\",\n",
    "    \"Japanese\": \"ja\"\n",
    "}"
   ]
  },
  {
   "cell_type": "code",
   "execution_count": 8,
   "metadata": {},
   "outputs": [],
   "source": [
    "# query\n",
    "\n",
    "query = \"Was macht man am Freitag Abend in Berlin?\" # german"
   ]
  },
  {
   "cell_type": "code",
   "execution_count": 9,
   "metadata": {},
   "outputs": [
    {
     "name": "stdout",
     "output_type": "stream",
     "text": [
      "ROUTE: de\n"
     ]
    }
   ],
   "source": [
    "# language router\n",
    "\n",
    "llama = ChatOllama(model=\"llama3\", temperature=0)\n",
    "\n",
    "completion_route_chain = prompt | llama | StrOutputParser()\n",
    "\n",
    "input_data = {\n",
    "    \"iso_codes\": iso_639_languages,\n",
    "    \"user_query\": query   \n",
    "}\n",
    "\n",
    "route = completion_route_chain.invoke(input=input_data)\n",
    "print(f\"ROUTE: {route}\")"
   ]
  },
  {
   "cell_type": "markdown",
   "metadata": {},
   "source": [
    "## 6. Keyword Router\n",
    "\n",
    "A keyword router will select a route by matching **keywords** between the **user's query** and **routes list**. In some specific use cases, we only need a couple of keywords to route the query to a specific module or handler. \n",
    "\n",
    "Why do we need to make extra LLM calls, if we can save some **latency** and **extra money**?!"
   ]
  },
  {
   "cell_type": "code",
   "execution_count": 10,
   "metadata": {},
   "outputs": [
    {
     "name": "stdout",
     "output_type": "stream",
     "text": [
      "ROUTE: web\n"
     ]
    }
   ],
   "source": [
    "# OPTION 1: simple keyword router\n",
    "\n",
    "class KeywordRouter:\n",
    "    def __init__(self, routes):\n",
    "        self.routes = routes\n",
    "\n",
    "    def find_keyword_route(self, query):\n",
    "        query_lower = query.lower()\n",
    "        for route, keywords in self.routes.items():\n",
    "            if any(keyword in query_lower for keyword in keywords):\n",
    "                return route\n",
    "        return \"default\"\n",
    "\n",
    "# define routes --> better descriptions = better routing\n",
    "routes = {\n",
    "    \"web\": [\"html\", \"css\", \"javascript\", \"web\", \"website\", \"frontend\", \"backend\"],\n",
    "    \"blockchain\": [\"blockchain\", \"crypto\", \"bitcoin\", \"ethereum\", \"smart contract\", \"decentralized\"],\n",
    "    \"opensource\": [\"open-source\", \"open source\", \"github\", \"git\", \"contribution\", \"license\"],\n",
    "}\n",
    "\n",
    "user_query = \"How to be a frontend developer?\"\n",
    "\n",
    "keyword_router = KeywordRouter(routes=routes)\n",
    "\n",
    "route = keyword_router.find_keyword_route(query=user_query)\n",
    "print(f\"ROUTE: {route}\")"
   ]
  },
  {
   "cell_type": "code",
   "execution_count": 11,
   "metadata": {},
   "outputs": [
    {
     "name": "stdout",
     "output_type": "stream",
     "text": [
      "TOTAL NO. OF CHUNKS:  99\n"
     ]
    }
   ],
   "source": [
    "# OPTION 2: keyword router w/ retrieval --> 1st step is to create different retrievers (simulation of multiple routes --> web/blockchain/opensource)\n",
    "\n",
    "emb_model = SentenceTransformerEmbeddings(model_name=\"thenlper/gte-large\")\n",
    "\n",
    "data_path = \"../data/rag-routing\"\n",
    "pdf_files = [f for f in os.listdir(data_path) if f.endswith('.pdf')]\n",
    "data = [PyPDFLoader(os.path.join(data_path, file)).load() for file in pdf_files]\n",
    "docs_list = [item for sublist in data for item in sublist]\n",
    "text_splitter = NLTKTextSplitter()\n",
    "doc_chunks = text_splitter.split_documents(docs_list)\n",
    "\n",
    "print(\"TOTAL NO. OF CHUNKS: \", len(doc_chunks))"
   ]
  },
  {
   "cell_type": "code",
   "execution_count": 12,
   "metadata": {},
   "outputs": [],
   "source": [
    "# 1st retriever representing the first route\n",
    "\n",
    "chroma_db = Chroma.from_documents(documents=doc_chunks, embedding=emb_model)\n",
    "retriever = chroma_db.as_retriever(search_type=\"mmr\")"
   ]
  },
  {
   "cell_type": "code",
   "execution_count": 13,
   "metadata": {},
   "outputs": [],
   "source": [
    "# 2nd retriever representing the second route\n",
    "\n"
   ]
  },
  {
   "cell_type": "markdown",
   "metadata": {},
   "source": [
    "## 7. Logical Router\n",
    "\n",
    "A logical router takes conditions that you specify and routes your data through different paths down the pipeline.\n",
    "\n",
    "Example conditions:\n",
    "- Query input length\n",
    "- Number of specified values from the query\n",
    "- Special characters in the query (e.g. ?!%$&)\n",
    "- Number of specific words (e.g. \"Hello\")"
   ]
  },
  {
   "cell_type": "code",
   "execution_count": 28,
   "metadata": {},
   "outputs": [
    {
     "name": "stdout",
     "output_type": "stream",
     "text": [
      "Response for Query Length: {'sufficient_length': 'What was the bitcoin price between 2020 and 2024?', 'response': [Document(page_content='21 \\nSutardja Center for Entrepreneurship & Technology Technical Report \\n \\nFigure 7.\\n\\nBitcoin price in 2015.\\n\\n9\\nThis enthusiasm may be because of the large quantities of capital being injected into \\nthe digital infrastructure.\\n\\nExcitement grows as Bitcoin and blockchain firms have \\nreceived a record US$1 Billion in investments as the year comes to an end.\\n\\nAmerican \\nExpress, Bain Capital, Deloitte, Goldman Sachs, MasterCard, the New York Life \\nInsurance Company, the New York Stock Exchange -- all of them have poured \\nmillions of dollars into Bitcoin firms recently.\\n\\nCorporate funding into Bitcoin & Blockchain infrastructure is growing and \\ngenerating interest in several segments.\\n\\nNasdaq is tapping blockchain technology to \\ncreate a more secure, efficient system to trade stocks.\\n\\nDocuSign, a company that \\nspecializes in electronic contracts, just unveiled a joint idea with Visa to use \\nblockchain to track car rentals and reduce paperwork.\\n\\nMicrosoft will unveil details \\nabout its venture into \"smart contracts\" that use blockchain technology.\\n\\nMeanwhile, \\nthis new obsession with blockchain technology has reached a point that companies \\nare even experimenting with creating smaller, \"private blockchains\" inside their \\nown offices.\\n\\nThey hire companies like BlockCypher, a startup out of Redwood City, \\nCalifornia to develop blockchain technology within their business.\\n\\nFigure 8.\\n\\nVC funding in Sept/Oct 2015.\\n\\n9 http://www.vox.com/technology/2015/10/31/9651168/bitcoin-growing \\n21', metadata={'page': 20, 'source': '../data/rag-routing\\\\blockchain.pdf'}), Document(page_content='34 \\nSutardja Center for Entrepreneurship & Technology Technical Report \\n \\n3.More\\xa0Bitcoin\\xa0Transactions\\xa0Than\\xa0Ever\\xa0 \\n \\n \\n \\n \\n \\n \\n \\n \\n \\n \\n \\n \\n \\n \\n \\n \\n \\n \\n34', metadata={'page': 33, 'source': '../data/rag-routing\\\\blockchain.pdf'}), Document(page_content='26 \\nSutardja Center for Entrepreneurship & Technology Technical Report \\n \\n  \\nPayments for the devices’ use is handled by smart contracts, which allows the terms \\nof the payments and access to the device to be controlled programmatically.\\n\\nFilament uses a bitcoin-based protocol that it has developed called Pennybank for \\nmicrotransactions on its platform, in part of unique need of IoT devices.\\n\\nIoT devices \\nare not high power and they are not always online, Pennybank creates escrow \\nservice between two IoT devices, allowing them to settle transactions when they are \\nconnected online.\\n\\nC.\\xa0BlockChain\\xa0in\\xa0Music\\xa0Industry:\\xa0Fair\\xa0\\nMusic\\xadTransparency\\xa0and\\xa0Payments\\xa0Flow\\xa0in\\xa0Music\\xa0\\nIndustry\\xa0\\n\\xa0\\nThe music industry has gone a big change in last decade due to the growth of \\nInternet and availability of a number of streaming services over the Internet.\\n\\nIt is \\nimpacting everyone in the music industry-artists, labels, publishers, songwriters and \\nstreaming service providers.\\n\\nThe process by which music royalties are determined \\nhas always been convoluted one, but the rise of the Internet has made it even more \\ncomplex giving rise to the demand of transparency in the royalty payments by artists \\nand songwriters.\\n\\nThe Rethink Music initiative at the Berklee College of Music’s Institute of Creative \\nEntrepreneurship spent the last year examining the practices of the music industry \\nin its report “Fair Music Transparency and Payment Flows in the Music Industry”.\\n\\nAccording to this report 20% to 50% of money generated by streaming services \\nnever goes back to those artists whose songs were played.\\n\\nThe relationships among \\nrights, royalties, processes and participants are hopelessly complex and outdated.\\n\\nThe royalty payment distribution is overly complicated-money only makes it to \\nartists and songwriters after passing through a number of intermediaries, each with \\nits own accounting processes, timelines, fee structures, and reporting standards.\\n\\nThis means that artists and songwriters are completely oblivious to their rights and \\nhow they are paid for their performances.\\n\\n26', metadata={'page': 25, 'source': '../data/rag-routing\\\\blockchain.pdf'}), Document(page_content='8 \\nSutardja Center for Entrepreneurship & Technology Technical Report \\n \\n \\nHowever, there is question of maintaining the order of these transactions that are broadcast to \\nevery other node in the Bitcoin peer-to-peer network.\\n\\nThe transactions do not come in order in \\nwhich they are generated and hence there is need for a system to make sure that \\ndouble-spending of the cryptocurrency does not occur.\\n\\nConsidering that the transactions are \\npassed node by node through the Bitcoin network, there is no guarantee that orders in which \\nthey are received at a node are the same order in which these transactions were generated.\\n\\nFigure 3.\\n\\nDouble spending due to propagation delays in peer-to-peer network.\\n\\nThis means that there is need to develop a mechanism so that the entire Bitcoin network can \\nagree regarding the order of transactions, which is a daunting task in a distributed system.\\n\\n8', metadata={'page': 7, 'source': '../data/rag-routing\\\\blockchain.pdf'})]}\n",
      "Response for Specific Values: {'sufficient_values': 'What was the bitcoin price between 2020 and 2024?', 'response': [Document(page_content='21 \\nSutardja Center for Entrepreneurship & Technology Technical Report \\n \\nFigure 7.\\n\\nBitcoin price in 2015.\\n\\n9\\nThis enthusiasm may be because of the large quantities of capital being injected into \\nthe digital infrastructure.\\n\\nExcitement grows as Bitcoin and blockchain firms have \\nreceived a record US$1 Billion in investments as the year comes to an end.\\n\\nAmerican \\nExpress, Bain Capital, Deloitte, Goldman Sachs, MasterCard, the New York Life \\nInsurance Company, the New York Stock Exchange -- all of them have poured \\nmillions of dollars into Bitcoin firms recently.\\n\\nCorporate funding into Bitcoin & Blockchain infrastructure is growing and \\ngenerating interest in several segments.\\n\\nNasdaq is tapping blockchain technology to \\ncreate a more secure, efficient system to trade stocks.\\n\\nDocuSign, a company that \\nspecializes in electronic contracts, just unveiled a joint idea with Visa to use \\nblockchain to track car rentals and reduce paperwork.\\n\\nMicrosoft will unveil details \\nabout its venture into \"smart contracts\" that use blockchain technology.\\n\\nMeanwhile, \\nthis new obsession with blockchain technology has reached a point that companies \\nare even experimenting with creating smaller, \"private blockchains\" inside their \\nown offices.\\n\\nThey hire companies like BlockCypher, a startup out of Redwood City, \\nCalifornia to develop blockchain technology within their business.\\n\\nFigure 8.\\n\\nVC funding in Sept/Oct 2015.\\n\\n9 http://www.vox.com/technology/2015/10/31/9651168/bitcoin-growing \\n21', metadata={'page': 20, 'source': '../data/rag-routing\\\\blockchain.pdf'}), Document(page_content='34 \\nSutardja Center for Entrepreneurship & Technology Technical Report \\n \\n3.More\\xa0Bitcoin\\xa0Transactions\\xa0Than\\xa0Ever\\xa0 \\n \\n \\n \\n \\n \\n \\n \\n \\n \\n \\n \\n \\n \\n \\n \\n \\n \\n \\n34', metadata={'page': 33, 'source': '../data/rag-routing\\\\blockchain.pdf'}), Document(page_content='26 \\nSutardja Center for Entrepreneurship & Technology Technical Report \\n \\n  \\nPayments for the devices’ use is handled by smart contracts, which allows the terms \\nof the payments and access to the device to be controlled programmatically.\\n\\nFilament uses a bitcoin-based protocol that it has developed called Pennybank for \\nmicrotransactions on its platform, in part of unique need of IoT devices.\\n\\nIoT devices \\nare not high power and they are not always online, Pennybank creates escrow \\nservice between two IoT devices, allowing them to settle transactions when they are \\nconnected online.\\n\\nC.\\xa0BlockChain\\xa0in\\xa0Music\\xa0Industry:\\xa0Fair\\xa0\\nMusic\\xadTransparency\\xa0and\\xa0Payments\\xa0Flow\\xa0in\\xa0Music\\xa0\\nIndustry\\xa0\\n\\xa0\\nThe music industry has gone a big change in last decade due to the growth of \\nInternet and availability of a number of streaming services over the Internet.\\n\\nIt is \\nimpacting everyone in the music industry-artists, labels, publishers, songwriters and \\nstreaming service providers.\\n\\nThe process by which music royalties are determined \\nhas always been convoluted one, but the rise of the Internet has made it even more \\ncomplex giving rise to the demand of transparency in the royalty payments by artists \\nand songwriters.\\n\\nThe Rethink Music initiative at the Berklee College of Music’s Institute of Creative \\nEntrepreneurship spent the last year examining the practices of the music industry \\nin its report “Fair Music Transparency and Payment Flows in the Music Industry”.\\n\\nAccording to this report 20% to 50% of money generated by streaming services \\nnever goes back to those artists whose songs were played.\\n\\nThe relationships among \\nrights, royalties, processes and participants are hopelessly complex and outdated.\\n\\nThe royalty payment distribution is overly complicated-money only makes it to \\nartists and songwriters after passing through a number of intermediaries, each with \\nits own accounting processes, timelines, fee structures, and reporting standards.\\n\\nThis means that artists and songwriters are completely oblivious to their rights and \\nhow they are paid for their performances.\\n\\n26', metadata={'page': 25, 'source': '../data/rag-routing\\\\blockchain.pdf'}), Document(page_content='8 \\nSutardja Center for Entrepreneurship & Technology Technical Report \\n \\n \\nHowever, there is question of maintaining the order of these transactions that are broadcast to \\nevery other node in the Bitcoin peer-to-peer network.\\n\\nThe transactions do not come in order in \\nwhich they are generated and hence there is need for a system to make sure that \\ndouble-spending of the cryptocurrency does not occur.\\n\\nConsidering that the transactions are \\npassed node by node through the Bitcoin network, there is no guarantee that orders in which \\nthey are received at a node are the same order in which these transactions were generated.\\n\\nFigure 3.\\n\\nDouble spending due to propagation delays in peer-to-peer network.\\n\\nThis means that there is need to develop a mechanism so that the entire Bitcoin network can \\nagree regarding the order of transactions, which is a daunting task in a distributed system.\\n\\n8', metadata={'page': 7, 'source': '../data/rag-routing\\\\blockchain.pdf'})]}\n",
      "Response for Special Characters: {'contains_special_chars': 'What was the bitcoin price between 2020 and 2024?', 'response': [Document(page_content='21 \\nSutardja Center for Entrepreneurship & Technology Technical Report \\n \\nFigure 7.\\n\\nBitcoin price in 2015.\\n\\n9\\nThis enthusiasm may be because of the large quantities of capital being injected into \\nthe digital infrastructure.\\n\\nExcitement grows as Bitcoin and blockchain firms have \\nreceived a record US$1 Billion in investments as the year comes to an end.\\n\\nAmerican \\nExpress, Bain Capital, Deloitte, Goldman Sachs, MasterCard, the New York Life \\nInsurance Company, the New York Stock Exchange -- all of them have poured \\nmillions of dollars into Bitcoin firms recently.\\n\\nCorporate funding into Bitcoin & Blockchain infrastructure is growing and \\ngenerating interest in several segments.\\n\\nNasdaq is tapping blockchain technology to \\ncreate a more secure, efficient system to trade stocks.\\n\\nDocuSign, a company that \\nspecializes in electronic contracts, just unveiled a joint idea with Visa to use \\nblockchain to track car rentals and reduce paperwork.\\n\\nMicrosoft will unveil details \\nabout its venture into \"smart contracts\" that use blockchain technology.\\n\\nMeanwhile, \\nthis new obsession with blockchain technology has reached a point that companies \\nare even experimenting with creating smaller, \"private blockchains\" inside their \\nown offices.\\n\\nThey hire companies like BlockCypher, a startup out of Redwood City, \\nCalifornia to develop blockchain technology within their business.\\n\\nFigure 8.\\n\\nVC funding in Sept/Oct 2015.\\n\\n9 http://www.vox.com/technology/2015/10/31/9651168/bitcoin-growing \\n21', metadata={'page': 20, 'source': '../data/rag-routing\\\\blockchain.pdf'}), Document(page_content='34 \\nSutardja Center for Entrepreneurship & Technology Technical Report \\n \\n3.More\\xa0Bitcoin\\xa0Transactions\\xa0Than\\xa0Ever\\xa0 \\n \\n \\n \\n \\n \\n \\n \\n \\n \\n \\n \\n \\n \\n \\n \\n \\n \\n \\n34', metadata={'page': 33, 'source': '../data/rag-routing\\\\blockchain.pdf'}), Document(page_content='26 \\nSutardja Center for Entrepreneurship & Technology Technical Report \\n \\n  \\nPayments for the devices’ use is handled by smart contracts, which allows the terms \\nof the payments and access to the device to be controlled programmatically.\\n\\nFilament uses a bitcoin-based protocol that it has developed called Pennybank for \\nmicrotransactions on its platform, in part of unique need of IoT devices.\\n\\nIoT devices \\nare not high power and they are not always online, Pennybank creates escrow \\nservice between two IoT devices, allowing them to settle transactions when they are \\nconnected online.\\n\\nC.\\xa0BlockChain\\xa0in\\xa0Music\\xa0Industry:\\xa0Fair\\xa0\\nMusic\\xadTransparency\\xa0and\\xa0Payments\\xa0Flow\\xa0in\\xa0Music\\xa0\\nIndustry\\xa0\\n\\xa0\\nThe music industry has gone a big change in last decade due to the growth of \\nInternet and availability of a number of streaming services over the Internet.\\n\\nIt is \\nimpacting everyone in the music industry-artists, labels, publishers, songwriters and \\nstreaming service providers.\\n\\nThe process by which music royalties are determined \\nhas always been convoluted one, but the rise of the Internet has made it even more \\ncomplex giving rise to the demand of transparency in the royalty payments by artists \\nand songwriters.\\n\\nThe Rethink Music initiative at the Berklee College of Music’s Institute of Creative \\nEntrepreneurship spent the last year examining the practices of the music industry \\nin its report “Fair Music Transparency and Payment Flows in the Music Industry”.\\n\\nAccording to this report 20% to 50% of money generated by streaming services \\nnever goes back to those artists whose songs were played.\\n\\nThe relationships among \\nrights, royalties, processes and participants are hopelessly complex and outdated.\\n\\nThe royalty payment distribution is overly complicated-money only makes it to \\nartists and songwriters after passing through a number of intermediaries, each with \\nits own accounting processes, timelines, fee structures, and reporting standards.\\n\\nThis means that artists and songwriters are completely oblivious to their rights and \\nhow they are paid for their performances.\\n\\n26', metadata={'page': 25, 'source': '../data/rag-routing\\\\blockchain.pdf'}), Document(page_content='8 \\nSutardja Center for Entrepreneurship & Technology Technical Report \\n \\n \\nHowever, there is question of maintaining the order of these transactions that are broadcast to \\nevery other node in the Bitcoin peer-to-peer network.\\n\\nThe transactions do not come in order in \\nwhich they are generated and hence there is need for a system to make sure that \\ndouble-spending of the cryptocurrency does not occur.\\n\\nConsidering that the transactions are \\npassed node by node through the Bitcoin network, there is no guarantee that orders in which \\nthey are received at a node are the same order in which these transactions were generated.\\n\\nFigure 3.\\n\\nDouble spending due to propagation delays in peer-to-peer network.\\n\\nThis means that there is need to develop a mechanism so that the entire Bitcoin network can \\nagree regarding the order of transactions, which is a daunting task in a distributed system.\\n\\n8', metadata={'page': 7, 'source': '../data/rag-routing\\\\blockchain.pdf'})]}\n",
      "Response for Specific Word Count: {'word_count_sufficient': 'What was the bitcoin price between 2020 and 2024?', 'response': [Document(page_content='21 \\nSutardja Center for Entrepreneurship & Technology Technical Report \\n \\nFigure 7.\\n\\nBitcoin price in 2015.\\n\\n9\\nThis enthusiasm may be because of the large quantities of capital being injected into \\nthe digital infrastructure.\\n\\nExcitement grows as Bitcoin and blockchain firms have \\nreceived a record US$1 Billion in investments as the year comes to an end.\\n\\nAmerican \\nExpress, Bain Capital, Deloitte, Goldman Sachs, MasterCard, the New York Life \\nInsurance Company, the New York Stock Exchange -- all of them have poured \\nmillions of dollars into Bitcoin firms recently.\\n\\nCorporate funding into Bitcoin & Blockchain infrastructure is growing and \\ngenerating interest in several segments.\\n\\nNasdaq is tapping blockchain technology to \\ncreate a more secure, efficient system to trade stocks.\\n\\nDocuSign, a company that \\nspecializes in electronic contracts, just unveiled a joint idea with Visa to use \\nblockchain to track car rentals and reduce paperwork.\\n\\nMicrosoft will unveil details \\nabout its venture into \"smart contracts\" that use blockchain technology.\\n\\nMeanwhile, \\nthis new obsession with blockchain technology has reached a point that companies \\nare even experimenting with creating smaller, \"private blockchains\" inside their \\nown offices.\\n\\nThey hire companies like BlockCypher, a startup out of Redwood City, \\nCalifornia to develop blockchain technology within their business.\\n\\nFigure 8.\\n\\nVC funding in Sept/Oct 2015.\\n\\n9 http://www.vox.com/technology/2015/10/31/9651168/bitcoin-growing \\n21', metadata={'page': 20, 'source': '../data/rag-routing\\\\blockchain.pdf'}), Document(page_content='34 \\nSutardja Center for Entrepreneurship & Technology Technical Report \\n \\n3.More\\xa0Bitcoin\\xa0Transactions\\xa0Than\\xa0Ever\\xa0 \\n \\n \\n \\n \\n \\n \\n \\n \\n \\n \\n \\n \\n \\n \\n \\n \\n \\n \\n34', metadata={'page': 33, 'source': '../data/rag-routing\\\\blockchain.pdf'}), Document(page_content='26 \\nSutardja Center for Entrepreneurship & Technology Technical Report \\n \\n  \\nPayments for the devices’ use is handled by smart contracts, which allows the terms \\nof the payments and access to the device to be controlled programmatically.\\n\\nFilament uses a bitcoin-based protocol that it has developed called Pennybank for \\nmicrotransactions on its platform, in part of unique need of IoT devices.\\n\\nIoT devices \\nare not high power and they are not always online, Pennybank creates escrow \\nservice between two IoT devices, allowing them to settle transactions when they are \\nconnected online.\\n\\nC.\\xa0BlockChain\\xa0in\\xa0Music\\xa0Industry:\\xa0Fair\\xa0\\nMusic\\xadTransparency\\xa0and\\xa0Payments\\xa0Flow\\xa0in\\xa0Music\\xa0\\nIndustry\\xa0\\n\\xa0\\nThe music industry has gone a big change in last decade due to the growth of \\nInternet and availability of a number of streaming services over the Internet.\\n\\nIt is \\nimpacting everyone in the music industry-artists, labels, publishers, songwriters and \\nstreaming service providers.\\n\\nThe process by which music royalties are determined \\nhas always been convoluted one, but the rise of the Internet has made it even more \\ncomplex giving rise to the demand of transparency in the royalty payments by artists \\nand songwriters.\\n\\nThe Rethink Music initiative at the Berklee College of Music’s Institute of Creative \\nEntrepreneurship spent the last year examining the practices of the music industry \\nin its report “Fair Music Transparency and Payment Flows in the Music Industry”.\\n\\nAccording to this report 20% to 50% of money generated by streaming services \\nnever goes back to those artists whose songs were played.\\n\\nThe relationships among \\nrights, royalties, processes and participants are hopelessly complex and outdated.\\n\\nThe royalty payment distribution is overly complicated-money only makes it to \\nartists and songwriters after passing through a number of intermediaries, each with \\nits own accounting processes, timelines, fee structures, and reporting standards.\\n\\nThis means that artists and songwriters are completely oblivious to their rights and \\nhow they are paid for their performances.\\n\\n26', metadata={'page': 25, 'source': '../data/rag-routing\\\\blockchain.pdf'}), Document(page_content='8 \\nSutardja Center for Entrepreneurship & Technology Technical Report \\n \\n \\nHowever, there is question of maintaining the order of these transactions that are broadcast to \\nevery other node in the Bitcoin peer-to-peer network.\\n\\nThe transactions do not come in order in \\nwhich they are generated and hence there is need for a system to make sure that \\ndouble-spending of the cryptocurrency does not occur.\\n\\nConsidering that the transactions are \\npassed node by node through the Bitcoin network, there is no guarantee that orders in which \\nthey are received at a node are the same order in which these transactions were generated.\\n\\nFigure 3.\\n\\nDouble spending due to propagation delays in peer-to-peer network.\\n\\nThis means that there is need to develop a mechanism so that the entire Bitcoin network can \\nagree regarding the order of transactions, which is a daunting task in a distributed system.\\n\\n8', metadata={'page': 7, 'source': '../data/rag-routing\\\\blockchain.pdf'})]}\n"
     ]
    }
   ],
   "source": [
    "# query length\n",
    "\n",
    "def query_length_router(query:str):\n",
    "    if len(query.split()) > 2:\n",
    "        response = retriever.invoke(input=query)\n",
    "        output = {\n",
    "            \"sufficient_length\": query,\n",
    "            \"response\": response\n",
    "        }\n",
    "        return output\n",
    "    else:\n",
    "        return {\"insufficient_length\": \"Your query is too short! Please explain it.\"}\n",
    "    \n",
    "\n",
    "# number of specific values from the query\n",
    "def query_value_count_router(query: str):\n",
    "    values = re.findall(r'\\d+', query)  # find all digit sequences\n",
    "    if len(values) >= 2:  # check if there are 2 numbers\n",
    "        response = retriever.invoke(input=query)\n",
    "        return {\n",
    "            \"sufficient_values\": query,\n",
    "            \"response\": response\n",
    "        }\n",
    "    else:\n",
    "        return {\"insufficient_values\": \"Please include more numerical values in your query.\"}\n",
    "\n",
    "# special characters\n",
    "def special_characters_router(query: str):\n",
    "    if any(char in set('?!%$&') for char in query):  # check for special characters\n",
    "        response = retriever.invoke(input=query)\n",
    "        return {\n",
    "            \"contains_special_chars\": query,\n",
    "            \"response\": response\n",
    "        }\n",
    "    else:\n",
    "        return {\"no_special_chars\": \"Please include special characters for emphasis or clarification.\"}\n",
    "\n",
    "\n",
    "# specific words\n",
    "def specific_word_count_router(query: str, word: str = \"bitcoin\"):\n",
    "    count = query.lower().split().count(word.lower())\n",
    "    if count > 0:\n",
    "        response = retriever.invoke(input=query)\n",
    "        return {\n",
    "            \"word_count_sufficient\": query,\n",
    "            \"response\": response\n",
    "        }\n",
    "    else:\n",
    "        return {\"word_count_insufficient\": f\"The word '{word}' does not appear in your query.\"}\n",
    "\n",
    "\n",
    "user_query = \"What was the bitcoin price between 2020 and 2024?\"\n",
    "\n",
    "response_query_length = query_length_router(user_query)\n",
    "response_specific_values = query_value_count_router(user_query)\n",
    "response_special_characters = special_characters_router(user_query)\n",
    "response_specific_word_count = specific_word_count_router(user_query, \"bitcoin\")\n",
    "\n",
    "print(\"Response for Query Length:\", response_query_length)\n",
    "print(\"Response for Specific Values:\", response_specific_values)\n",
    "print(\"Response for Special Characters:\", response_special_characters)\n",
    "print(\"Response for Specific Word Count:\", response_specific_word_count)"
   ]
  }
 ],
 "metadata": {
  "kernelspec": {
   "display_name": ".venv",
   "language": "python",
   "name": "python3"
  },
  "language_info": {
   "codemirror_mode": {
    "name": "ipython",
    "version": 3
   },
   "file_extension": ".py",
   "mimetype": "text/x-python",
   "name": "python",
   "nbconvert_exporter": "python",
   "pygments_lexer": "ipython3",
   "version": "3.11.3"
  }
 },
 "nbformat": 4,
 "nbformat_minor": 2
}
