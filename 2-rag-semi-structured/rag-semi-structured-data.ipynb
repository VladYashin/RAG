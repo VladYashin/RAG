{
 "cells": [
  {
   "cell_type": "markdown",
   "metadata": {},
   "source": [
    "# RAG for semi-structured data"
   ]
  },
  {
   "cell_type": "code",
   "execution_count": 19,
   "metadata": {},
   "outputs": [],
   "source": [
    "# import modules\n",
    "from langchain.embeddings.sentence_transformer import SentenceTransformerEmbeddings\n",
    "from langchain.chains.query_constructor.base import AttributeInfo\n",
    "from langchain_community.vectorstores import Chroma\n",
    "from langchain_core.documents import Document\n",
    "from langchain.prompts import ChatPromptTemplate\n",
    "from langchain_core.runnables import RunnablePassthrough\n",
    "from langchain_core.output_parsers import StrOutputParser\n",
    "from langchain.retrievers.self_query.base import SelfQueryRetriever\n",
    "\n",
    "# MongoDB\n",
    "from dotenv import load_dotenv\n",
    "from pymongo import MongoClient\n",
    "import os\n",
    "\n",
    "# Azure OpenAI\n",
    "from langchain_openai import AzureChatOpenAI"
   ]
  },
  {
   "cell_type": "code",
   "execution_count": 20,
   "metadata": {},
   "outputs": [],
   "source": [
    "# config Mongo DB\n",
    "\n",
    "load_dotenv()\n",
    "\n",
    "# MongoDB\n",
    "MONGO_USERNAME = os.environ.get('MONGO_USERNAME')\n",
    "MONGO_PASSWORD = os.environ.get('MONGO_PASSWORD')\n",
    "MONGO_HOST = os.environ.get('MONGO_HOST')\n",
    "MONGO_DB_CONNECTION_STRING = os.environ.get('MONGO_DB_CONNECTION_STRING')\n",
    "MONGO_DB = os.environ.get('MONGO_DB')\n",
    "MONGO_DB_COLLECTION = \"InventoryData\"\n",
    "\n",
    "# OpenAI\n",
    "AZURE_OPENAI_API_KEY = os.environ.get(\"AZURE_OPENAI_API_KEY\")\n",
    "AZURE_OPENAI_ENDPOINT = os.environ.get('AZURE_OPENAI_ENDPOINT')\n",
    "AZURE_OPENAI_VERSION = os.environ.get('AZURE_OPENAI_VERSION')\n",
    "AZURE_OPENAI_DEPLOYMENT_NAME = os.environ.get('AZURE_OPENAI_DEPLOYMENT_NAME')"
   ]
  },
  {
   "cell_type": "code",
   "execution_count": 21,
   "metadata": {},
   "outputs": [
    {
     "name": "stdout",
     "output_type": "stream",
     "text": [
      "Collection: InventoryData\n",
      "Total no. of docs: 538\n"
     ]
    }
   ],
   "source": [
    "# connect to Mongo DB\n",
    "\n",
    "client = MongoClient(MONGO_DB_CONNECTION_STRING)\n",
    "db = client[MONGO_DB]\n",
    "collections = db.list_collection_names()\n",
    "\n",
    "inventory_coll = db['InventoryData']\n",
    "\n",
    "print(f'Collection: {inventory_coll.name}')\n",
    "print(f\"Total no. of docs: {inventory_coll.count_documents({})}\")"
   ]
  },
  {
   "cell_type": "code",
   "execution_count": 22,
   "metadata": {},
   "outputs": [],
   "source": [
    "# user query embedding function\n",
    "\n",
    "emb_model = SentenceTransformerEmbeddings(model_name=\"thenlper/gte-large\")\n",
    "\n",
    "def get_embedding(text: str) -> list[float]:\n",
    "\n",
    "    if not text.strip():\n",
    "        print(\"Attempted to get embedding for empty text.\")\n",
    "        return []\n",
    "\n",
    "    embedding = emb_model.encode(text)\n",
    "\n",
    "    return embedding.tolist()"
   ]
  },
  {
   "cell_type": "markdown",
   "metadata": {},
   "source": [
    "## Classical Search"
   ]
  },
  {
   "cell_type": "code",
   "execution_count": 23,
   "metadata": {},
   "outputs": [
    {
     "name": "stdout",
     "output_type": "stream",
     "text": [
      "dict_keys(['_id', 'Item Code', 'Item Description', 'Part No', 'Part Description', 'Model', 'Unit Of Measurement', 'Spare Part Type', 'Location', 'Part Category', 'Is Expiry date Required', 'Min Nos', 'Max Nos', ' Minimum Price Per Nos (RM) ', ' Maximum Price Per Nos (RM) ', 'Status', 'Expiry Age (In Month)', 'Current Stock Level'])\n",
      "dict_keys(['_id', 'Item Code', 'Item Description', 'Part No', 'Part Description', 'Model', 'Unit Of Measurement', 'Spare Part Type', 'Location', 'Part Category', 'Is Expiry date Required', 'Min Nos', 'Max Nos', ' Minimum Price Per Nos (RM) ', ' Maximum Price Per Nos (RM) ', 'Brand', 'Status', 'Expiry Age (In Month)', 'Current Stock Level'])\n"
     ]
    }
   ],
   "source": [
    "# keyword search\n",
    "\n",
    "def search(search_text):\n",
    "    data = inventory_coll.find({\"$text\": {\"$search\": search_text}}).limit(3)\n",
    "    return list(data)\n",
    "\n",
    "data = search('Servo-i')\n",
    "\n",
    "for x in data:\n",
    "    print(x.keys())"
   ]
  },
  {
   "cell_type": "markdown",
   "metadata": {},
   "source": [
    "## Vector Store (Chroma DB)"
   ]
  },
  {
   "cell_type": "code",
   "execution_count": 24,
   "metadata": {},
   "outputs": [
    {
     "name": "stdout",
     "output_type": "stream",
     "text": [
      "538\n"
     ]
    }
   ],
   "source": [
    "# 1. fetch all docs from InventoryData container\n",
    "def fetch_all_documents():\n",
    "    data = inventory_coll.find({})\n",
    "    return list(data)\n",
    "\n",
    "raw_data = fetch_all_documents()\n",
    "print(len(raw_data))"
   ]
  },
  {
   "cell_type": "code",
   "execution_count": 25,
   "metadata": {},
   "outputs": [],
   "source": [
    "# 2. convert all 538 items to the Langchain Document data type (custom function)\n",
    "\n",
    "# parse price\n",
    "def parse_price(price_str):\n",
    "    if price_str:\n",
    "        # remove the 'MYR' prefix\n",
    "        clean_price = price_str.replace('MYR', '').strip()\n",
    "        \n",
    "        # replace comma with a dot\n",
    "        if ',' in clean_price and clean_price[-3] == ',':\n",
    "            clean_price = clean_price.replace(',', '.')\n",
    "\n",
    "        # handle multiple dots\n",
    "        parts = clean_price.split('.')\n",
    "        if len(parts) > 2:  # 1+ dot\n",
    "            clean_price = ''.join(parts[:-1]) + '.' + parts[-1]\n",
    "        elif len(parts) == 2:  # 1 dot\n",
    "            if len(parts[1]) != 2:\n",
    "                clean_price = ''.join(parts)\n",
    "\n",
    "        return float(clean_price)\n",
    "    return None\n",
    "\n",
    "# convert to Langchain Documents\n",
    "def convert_to_langchain_docs(docs):\n",
    "\n",
    "    documents = []\n",
    "\n",
    "    for doc in docs:\n",
    "        \n",
    "        # clean \"Part No\" --> nested dict\n",
    "        part_no = doc['Part No'].get('', '')\n",
    "        max_price_per_nos = parse_price(doc[' Maximum Price Per Nos (RM) '])\n",
    "        min_price_per_nos = parse_price(doc[' Minimum Price Per Nos (RM) '])\n",
    "\n",
    "        # construct page_content (from descriptive attributes)\n",
    "        content = f\"{doc['Item Description']}, {doc['Part Description']}\"\n",
    "\n",
    "        # construct metadata\n",
    "        metadata = {\n",
    "            \"Item Code\": doc['Item Code'],\n",
    "            \"Location\": doc['Location'],\n",
    "            \"Part No\": part_no,\n",
    "            \"Part Category\": doc['Part Category'],\n",
    "            \"Unit Of Measurement\": doc['Unit Of Measurement'],\n",
    "            \"Spare Part Type\": doc['Spare Part Type'],\n",
    "            \"Is Expiry Date Required\": doc['Is Expiry date Required'],\n",
    "            \"Min Nos\": doc['Min Nos'],\n",
    "            \"Max Nos\": doc['Max Nos'],\n",
    "            \"Minimum Price Per Nos (RM)\": min_price_per_nos,\n",
    "            \"Maximum Price Per Nos (RM)\": max_price_per_nos,\n",
    "            \"Status\": doc['Status'],\n",
    "            \"Brand\": doc.get('Brand', \"\"),\n",
    "            \"Expiry Age (In Month)\": doc.get('Expiry Age (In Month)', \"\"),\n",
    "            \"Current Stock Level\": doc['Current Stock Level']\n",
    "        }\n",
    "\n",
    "        # Append to list as a new document\n",
    "        documents.append(\n",
    "            Document(page_content=content, metadata=metadata)\n",
    "        )\n",
    "\n",
    "    return documents\n",
    "\n",
    "transformed_docs = convert_to_langchain_docs(raw_data)"
   ]
  },
  {
   "cell_type": "code",
   "execution_count": 26,
   "metadata": {},
   "outputs": [],
   "source": [
    "# load documents (JSONLoader seems to be NOT supported for Windows)\n",
    "\n",
    "db = Chroma.from_documents(documents=transformed_docs, embedding=emb_model)"
   ]
  },
  {
   "cell_type": "code",
   "execution_count": 27,
   "metadata": {},
   "outputs": [
    {
     "name": "stdout",
     "output_type": "stream",
     "text": [
      "TOP MATCH: Motors/ Micromotors/ Carbon brushes, Fresenius 4008S Stepper Motor.\n",
      "SCORE: 0.19810137152671814. \n",
      "METADATA: {'Brand': 'Fresenius', 'Current Stock Level': 0, 'Expiry Age (In Month)': 0, 'Is Expiry Date Required': 'No', 'Item Code': 'BP0018', 'Location': 'Company Site Office', 'Max Nos': 5, 'Maximum Price Per Nos (RM)': 3622.5, 'Min Nos': 1, 'Minimum Price Per Nos (RM)': 3150.0, 'Part Category': 'Biomedical', 'Part No': '01-0802-0502-005', 'Spare Part Type': 'Fast Moving Item', 'Status': 'Active', 'Unit Of Measurement': 'Unit'}\n",
      "TOTAL DOCS:  4\n"
     ]
    }
   ],
   "source": [
    "# 3. test query\n",
    "\n",
    "query = \"I need a Fresenius 4008S Motor Assy\"\n",
    "\n",
    "docs = db.similarity_search_with_score(query)\n",
    "print(f\"TOP MATCH: {docs[0][0].page_content}.\\nSCORE: {docs[0][1]}. \\nMETADATA: {docs[0][0].metadata}\")\n",
    "print('TOTAL DOCS: ', len(docs))"
   ]
  },
  {
   "cell_type": "markdown",
   "metadata": {},
   "source": [
    "## Basic Retriever"
   ]
  },
  {
   "cell_type": "code",
   "execution_count": 28,
   "metadata": {},
   "outputs": [],
   "source": [
    "# 1. init retriever from Chroma DB\n",
    "\n",
    "retriever = db.as_retriever(search_type=\"mmr\") # maximal marginal relevance"
   ]
  },
  {
   "cell_type": "code",
   "execution_count": 29,
   "metadata": {},
   "outputs": [],
   "source": [
    "# 2. design system prompt\n",
    "\n",
    "system_prompt_template = \"\"\" \n",
    "\n",
    "    You are the most powerful and skillfull expert in querying documents to find answers to user's questions.\n",
    "\n",
    "    Your main task is to answer the USER QUERY based only on the provided CONTEXT.\n",
    "\n",
    "    # CONTEXT\n",
    "    {context}\n",
    "\n",
    "    # USER QUERY\n",
    "    {query}\n",
    "\n",
    "\"\"\"\n",
    "\n",
    "system_prompt = ChatPromptTemplate.from_template(system_prompt_template)"
   ]
  },
  {
   "cell_type": "code",
   "execution_count": 30,
   "metadata": {},
   "outputs": [],
   "source": [
    "# 3. init OpenAI (or any other open source model)\n",
    "\n",
    "oai = AzureChatOpenAI(\n",
    "    openai_api_version=AZURE_OPENAI_VERSION,\n",
    "    azure_deployment=AZURE_OPENAI_DEPLOYMENT_NAME,\n",
    ")"
   ]
  },
  {
   "cell_type": "code",
   "execution_count": 31,
   "metadata": {},
   "outputs": [],
   "source": [
    "# create chain\n",
    "\n",
    "chain = (\n",
    "    {\"context\": retriever, \"query\": RunnablePassthrough()}\n",
    "    | system_prompt\n",
    "    | oai\n",
    "    | StrOutputParser()\n",
    ")"
   ]
  },
  {
   "cell_type": "code",
   "execution_count": 32,
   "metadata": {},
   "outputs": [
    {
     "name": "stdout",
     "output_type": "stream",
     "text": [
      "The current stock level for Door 22MM Bubble C.Holder 4008SV10 is 3.\n"
     ]
    }
   ],
   "source": [
    "query = \"How many parts in stock do we have for Door 22MM Bubble C.Holder 4008SV10?\"\n",
    "response = chain.invoke(input=query)\n",
    "\n",
    "print(response)"
   ]
  },
  {
   "cell_type": "markdown",
   "metadata": {},
   "source": [
    "## Self-Querying Retriever\n",
    "\n",
    "A self-querying retriever is capable of running query on itself, which means --> the retriever uses a query-constructing LLM chain (below) to write a structured query and then applies that structured query to its underlying vector store.\n",
    "\n",
    "**BIGGEST BENEFIT**: Ability to search based **not only on semantic similarity comparison**, but also **extract & execute filters** from the user query on metadata of stored documents.\n",
    "\n",
    "You can also specify the number of **n elements** that must be fetched using ``` enable_limit=True ```\n",
    "\n",
    "![\"Self-querying Retriever\"](../images/self-querying.jpg)"
   ]
  },
  {
   "cell_type": "code",
   "execution_count": 33,
   "metadata": {},
   "outputs": [
    {
     "data": {
      "text/plain": [
       "{'Brand': 'Fresenius',\n",
       " 'Current Stock Level': 3,\n",
       " 'Expiry Age (In Month)': 0,\n",
       " 'Is Expiry Date Required': 'No',\n",
       " 'Item Code': 'BP0005',\n",
       " 'Location': 'Company Site Office',\n",
       " 'Max Nos': 3,\n",
       " 'Maximum Price Per Nos (RM)': 826.8,\n",
       " 'Min Nos': 1,\n",
       " 'Minimum Price Per Nos (RM)': 800.0,\n",
       " 'Part Category': 'Biomedical',\n",
       " 'Part No': '01-0802-0504-011',\n",
       " 'Spare Part Type': 'Just In Time',\n",
       " 'Status': 'Active',\n",
       " 'Unit Of Measurement': 'Unit'}"
      ]
     },
     "execution_count": 33,
     "metadata": {},
     "output_type": "execute_result"
    }
   ],
   "source": [
    "# 1. metadata to adjust\n",
    "\n",
    "retriever.get_relevant_documents(query)[0].metadata"
   ]
  },
  {
   "cell_type": "code",
   "execution_count": 34,
   "metadata": {},
   "outputs": [],
   "source": [
    "# 2. new metadata descriptions for all the fields/attributes\n",
    "\n",
    "metadata_field_info = [\n",
    "    AttributeInfo(\n",
    "        name=\"Brand\",\n",
    "        description=\"The brand of the spare part\",\n",
    "        type=\"string\",\n",
    "    ),\n",
    "    AttributeInfo(\n",
    "        name=\"Current Stock Level\",\n",
    "        description=\"The current stock level of the spare part\",\n",
    "        type=\"integer\",\n",
    "    ),\n",
    "    AttributeInfo(\n",
    "        name=\"Expiry Age (In Month)\",\n",
    "        description=\"The expiry age of the spare part in months\",\n",
    "        type=\"integer\",\n",
    "    ),\n",
    "    AttributeInfo(\n",
    "        name=\"Is Expiry Date Required\",\n",
    "        description=\"Indicates whether an expiry date is required for the spare part\",\n",
    "        type=\"string\",\n",
    "    ),\n",
    "    AttributeInfo(\n",
    "        name=\"Item Code\",\n",
    "        description=\"The code assigned to the spare part\",\n",
    "        type=\"string\",\n",
    "    ),\n",
    "    AttributeInfo(\n",
    "        name=\"Location\",\n",
    "        description=\"The location where the spare part is stored\",\n",
    "        type=\"string\",\n",
    "    ),\n",
    "    AttributeInfo(\n",
    "        name=\"Max Nos\",\n",
    "        description=\"The maximum number of units of the spare part\",\n",
    "        type=\"integer\",\n",
    "    ),\n",
    "    AttributeInfo(\n",
    "        name=\"Maximum Price Per Nos (RM)\",\n",
    "        description=\"The maximum price per unit of the spare part in RM\",\n",
    "        type=\"float\",\n",
    "    ),\n",
    "    AttributeInfo(\n",
    "        name=\"Min Nos\",\n",
    "        description=\"The minimum number of units of the spare part\",\n",
    "        type=\"integer\",\n",
    "    ),\n",
    "    AttributeInfo(\n",
    "        name=\"Minimum Price Per Nos (RM)\",\n",
    "        description=\"The minimum price per unit of the spare part in RM\",\n",
    "        type=\"float\",\n",
    "    ),\n",
    "    AttributeInfo(\n",
    "        name=\"Part Category\",\n",
    "        description=\"The category of the spare part\",\n",
    "        type=\"string\",\n",
    "    ),\n",
    "    AttributeInfo(\n",
    "        name=\"Part No\",\n",
    "        description=\"The part number of the spare part\",\n",
    "        type=\"string\",\n",
    "    ),\n",
    "    AttributeInfo(\n",
    "        name=\"Spare Part Type\",\n",
    "        description=\"The type of the spare part (e.g., Fast Moving Item, Just In Time)\",\n",
    "        type=\"string\",\n",
    "    ),\n",
    "    AttributeInfo(\n",
    "        name=\"Status\",\n",
    "        description=\"The status of the spare part (e.g., Active, Inactive)\",\n",
    "        type=\"string\",\n",
    "    ),\n",
    "    AttributeInfo(\n",
    "        name=\"Unit Of Measurement\",\n",
    "        description=\"The unit of measurement for the spare part (e.g., Unit)\",\n",
    "        type=\"string\",\n",
    "    ),\n",
    "]\n",
    "\n",
    "content_description = \"Spare Part data\"\n"
   ]
  },
  {
   "cell_type": "code",
   "execution_count": 35,
   "metadata": {},
   "outputs": [],
   "source": [
    "# 3. init SelfQueryRetriever w/ AzureOpenAI\n",
    "\n",
    "sqretriever = SelfQueryRetriever.from_llm(\n",
    "    oai, db, content_description, metadata_field_info, verbose=True)\n"
   ]
  },
  {
   "cell_type": "code",
   "execution_count": 36,
   "metadata": {},
   "outputs": [
    {
     "name": "stdout",
     "output_type": "stream",
     "text": [
      "TOP MATCH: Filters, Black Carbon Filter\n",
      "METADATA: {'Brand': 'Waterman', 'Current Stock Level': 1, 'Expiry Age (In Month)': '', 'Is Expiry Date Required': 'No', 'Item Code': 'BP0012', 'Location': 'Company Site Office', 'Max Nos': 10, 'Maximum Price Per Nos (RM)': 9.6, 'Min Nos': 0, 'Minimum Price Per Nos (RM)': 8.0, 'Part Category': 'Biomedical', 'Part No': '01-1805-0101-004', 'Spare Part Type': 'One Off', 'Status': 'Active', 'Unit Of Measurement': 'Unit'}\n",
      "4\n"
     ]
    }
   ],
   "source": [
    "# 4. test the SelfQueryRetriever\n",
    "\n",
    "query = \"How many items of a Waterman brand are the in stock?\"\n",
    "\n",
    "response = sqretriever.invoke(query)\n",
    "\n",
    "print(f\"TOP MATCH: {response[0].page_content}\")\n",
    "print(f\"METADATA: {response[0].metadata}\")\n",
    "print(len(response))"
   ]
  },
  {
   "cell_type": "code",
   "execution_count": 37,
   "metadata": {},
   "outputs": [
    {
     "name": "stdout",
     "output_type": "stream",
     "text": [
      "The minimum and maximum price per Nos for a spare part with the code BP0002 are RM 500.0 and RM 650.0 respectively.\n"
     ]
    }
   ],
   "source": [
    "# 5. create chain with a SelfQueryRetriever --> can query not only by content, but also by metadata\n",
    "\n",
    "chain = (\n",
    "    {\"context\": sqretriever, \"query\": RunnablePassthrough()}\n",
    "    | system_prompt\n",
    "    | oai\n",
    "    | StrOutputParser()\n",
    ")\n",
    "\n",
    "query = \"What's the min and max price per nos for a spare part with the code BP0002?\"\n",
    "response = chain.invoke(input=query)\n",
    "\n",
    "print(response)"
   ]
  },
  {
   "cell_type": "markdown",
   "metadata": {},
   "source": [
    "![\"Self-querying results from MongoDB (reference)\"](../images/self-querying-results.png)"
   ]
  },
  {
   "cell_type": "markdown",
   "metadata": {},
   "source": []
  }
 ],
 "metadata": {
  "kernelspec": {
   "display_name": ".venv",
   "language": "python",
   "name": "python3"
  },
  "language_info": {
   "codemirror_mode": {
    "name": "ipython",
    "version": 3
   },
   "file_extension": ".py",
   "mimetype": "text/x-python",
   "name": "python",
   "nbconvert_exporter": "python",
   "pygments_lexer": "ipython3",
   "version": "3.11.3"
  }
 },
 "nbformat": 4,
 "nbformat_minor": 2
}
