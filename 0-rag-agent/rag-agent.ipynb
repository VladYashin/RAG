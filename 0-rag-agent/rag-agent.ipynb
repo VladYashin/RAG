{
 "cells": [
  {
   "cell_type": "markdown",
   "metadata": {},
   "source": [
    "# RAG Agent w/ Routing, Grading, Fallback & Self-correction\n",
    "\n",
    "The idea of a RAG agent comes from combination of the following three elements into a single RAG Agent:\n",
    "\n",
    "1. **Routing** --> Route questions to different retrieval approaches\n",
    "2. **Grading** --> Re-rank search results using Reciprical Rank Fusion (RRF)\n",
    "2. **WebSearch Fallback** --> Fallback to web search if there are no relevant documents to query \n",
    "3. **Self-correction** --> Minimization of hallucinations\n",
    "\n"
   ]
  },
  {
   "cell_type": "code",
   "execution_count": 1,
   "metadata": {},
   "outputs": [],
   "source": [
    "# import modules\n",
    "\n",
    "from langchain.text_splitter import NLTKTextSplitter\n",
    "from langchain.document_loaders import PyPDFLoader\n",
    "from langchain_community.vectorstores import Chroma\n",
    "from langchain.embeddings.sentence_transformer import SentenceTransformerEmbeddings\n",
    "from langchain.prompts import PromptTemplate\n",
    "from langchain_community.chat_models import ChatOllama\n",
    "from langchain_core.output_parsers import JsonOutputParser, StrOutputParser\n",
    "\n",
    "import os\n",
    "\n",
    "# Azure OpenAI\n",
    "from langchain_openai import AzureChatOpenAI"
   ]
  },
  {
   "cell_type": "code",
   "execution_count": 2,
   "metadata": {},
   "outputs": [],
   "source": [
    "# OpenAI\n",
    "\n",
    "AZURE_OPENAI_API_KEY = os.environ.get(\"AZURE_OPENAI_API_KEY\")\n",
    "AZURE_OPENAI_ENDPOINT = os.environ.get('AZURE_OPENAI_ENDPOINT')\n",
    "AZURE_OPENAI_VERSION = os.environ.get('AZURE_OPENAI_VERSION')\n",
    "AZURE_OPENAI_DEPLOYMENT_NAME = os.environ.get('AZURE_OPENAI_DEPLOYMENT_NAME')"
   ]
  },
  {
   "cell_type": "code",
   "execution_count": 6,
   "metadata": {},
   "outputs": [
    {
     "name": "stdout",
     "output_type": "stream",
     "text": [
      "Total documents:  1\n",
      "Earth Syst. Sci. Data, 15, 2295–2327, 2023\n",
      "https://doi.org/10.5194/essd-15-2295-2023\n",
      "© Author(s) 2023. This work is distributed under\n",
      "the Creative Commons Attribution 4.0 License.\n",
      "Indicators of Global Climate Change 2022: annual update\n",
      "of large-scale indicators of the state of the climate\n",
      "system and human inﬂuence\n",
      "Piers M. Forster1, Christopher J. Smith1,2, Tristram Walsh3, William F. Lamb4,1, Robin Lamboll5,\n",
      "Mathias Hauser6, Aurélien Ribes7, Debbie Rosen1, Nathan Gillett8, Matthew D. Palmer9,10,\n",
      "Joeri Rogelj5, Karina von Schuckmann11, Sonia I. Seneviratne6, Blair Trewin12, Xuebin Zhang8,\n",
      "Myles Allen3, Robbie Andrew13, Arlene Birt14, Alex Borger15, Tim Boyer16, Jiddu A. Broersma15,\n",
      "Lijing Cheng17, Frank Dentener18, Pierre Friedlingstein19,20, José M. Gutiérrez21, Johannes Gütschow22,\n",
      "Bradley Hall23, Masayoshi Ishii24, Stuart Jenkins3, Xin Lan22,44, June-Yi Lee25, Colin Morice9,\n",
      "Christopher Kadow26, John Kennedy27, Rachel Killick9, Jan C. Minx4,1, Vaishali Naik28, Glen\n",
      "P. Peters13, Anna Pirani29,30,31, Julia Pongratz32,43, Carl-Friedrich Schleussner33,34,35, Sophie Szopa36,\n",
      "Peter Thorne37, Robert Rohde38, Maisa Rojas Corradi39, Dominik Schumacher6, Russell Vose40,\n",
      "Kirsten Zickfeld41, Valérie Masson-Delmotte36, and Panmao Zhai42\n",
      "1Priestley Centre, University of Leeds, Leeds, LS2 9JT, UK\n",
      "2International Institute for Applied Systems Analysis (IIASA), Vienna, Austria\n",
      "3Environmental Change Institute, University of Oxford, Oxford, UK\n",
      "4Mercator Research Institute on Global Commons and Climate Change (MCC), Berlin, Germany\n",
      "5Centre for Environmental Policy, Imperial College London, London, UK\n",
      "6Institute for Atmospheric and Climate Science, Department of Environmental Systems Science,\n",
      "ETH Zurich, Zurich, Switzerland\n",
      "7Université de Toulouse, Météo France, CNRS, Toulouse, France\n",
      "8Environment and Climate Change Canada, Victoria, Canada\n",
      "9Met Ofﬁce Hadley Centre, Exeter, UK\n",
      "10School of Earth Sciences, University of Bristol, Bristol, UK\n",
      "11Mercator Ocean International, Toulouse, France\n",
      "12Bureau of Meteorology, Melbourne, Australia\n",
      "13CICERO Center for International Climate Research, Oslo, Norway\n",
      "14Background Stories, Minneapolis College of Art and Design, Minneapolis, MN, USA\n",
      "15Climate Change Tracker, Data for Action Foundation, Amsterdam, Netherlands\n",
      "16NOAA’s National Centers for Environmental Information (NCEI), Silver Spring, MD, USA\n",
      "17Institute of Atmospheric Physics, Chinese Academy of Sciences, Beijing, China\n",
      "18European Commission, & Joint Research Centre, Institute for Environment and Sustainability, Ispra, Italy\n",
      "19Faculty of Environment, Science and Economy, University of Exeter, Exeter, UK\n",
      "20Laboratoire de Meìteìorologie Dynamique/Institut Pierre-Simon Laplace, CNRS,\n",
      "Ecole Normale Supeìrieure/Universiteì PSL, Paris, France\n",
      "21Instituto de Física de Cantabria, CSIC-University of Cantabria, Santander, Spain\n",
      "22Climate Resource, Melbourne/Potsdam, Australia/Germany\n",
      "23NOAA Global Monitoring Laboratory, Boulder, CO, USA\n",
      "24Meteorological Research Institute, Tsukuba, Japan\n",
      "25Research Center for Climate Sciences, Busan National University and Center for Climate Physics,\n",
      "Institute for Basic Science, Busan, Republic of Korea\n",
      "26German Climate Computing Center (DKRZ), Hamburg, Germany\n",
      "27independent researcher: Verdun, France\n",
      "28NOAA GFDL, Princeton, New Jersey, USA\n",
      "Published by Copernicus Publications.\n"
     ]
    }
   ],
   "source": [
    "# load \"cliamte change\" data from /data/rag-agent-data\n",
    "\n",
    "data_path = \"../data/rag-agent-data\"\n",
    "pdf_files = [f for f in os.listdir(data_path) if f.endswith('.pdf')]\n",
    "docs = [PyPDFLoader(os.path.join(data_path, file)).load() for file in pdf_files]\n",
    "\n",
    "print(\"Total documents: \", len(docs))\n",
    "print(docs[0][0].page_content)"
   ]
  },
  {
   "cell_type": "code",
   "execution_count": 7,
   "metadata": {},
   "outputs": [
    {
     "name": "stdout",
     "output_type": "stream",
     "text": [
      "Total pages: 33\n"
     ]
    }
   ],
   "source": [
    "# merge all the pages into a docs_list\n",
    "\n",
    "docs_list = [item for sublist in docs for item in sublist]\n",
    "print(\"Total pages:\", len(docs_list))"
   ]
  },
  {
   "cell_type": "code",
   "execution_count": 8,
   "metadata": {},
   "outputs": [],
   "source": [
    "# function for prettifying documents\n",
    "\n",
    "def pretty_docs(docs):\n",
    "    print(f\"\\n{'-'* 100}\\n\".join([F\"##### DOC {i+1} #####\\n\\n\" + d.page_content for i,d in enumerate(docs)]))"
   ]
  },
  {
   "cell_type": "code",
   "execution_count": 9,
   "metadata": {},
   "outputs": [],
   "source": [
    "# init OpenAI (or any other open source model)\n",
    "\n",
    "oai = AzureChatOpenAI(\n",
    "    openai_api_version=AZURE_OPENAI_VERSION,\n",
    "    azure_deployment=AZURE_OPENAI_DEPLOYMENT_NAME,\n",
    "    temperature=0\n",
    ")"
   ]
  },
  {
   "cell_type": "markdown",
   "metadata": {},
   "source": [
    "## Semantic Chunking"
   ]
  },
  {
   "cell_type": "code",
   "execution_count": 12,
   "metadata": {},
   "outputs": [
    {
     "name": "stdout",
     "output_type": "stream",
     "text": [
      "Total no. of chunks:  56\n"
     ]
    }
   ],
   "source": [
    "# concatenate docs from list into a single string\n",
    "\n",
    "text_splitter = NLTKTextSplitter()\n",
    "doc_chunks = text_splitter.split_documents(docs_list)\n",
    "\n",
    "print(\"Total no. of chunks: \", len(doc_chunks))"
   ]
  },
  {
   "cell_type": "markdown",
   "metadata": {},
   "source": [
    "## Basic Retriever"
   ]
  },
  {
   "cell_type": "code",
   "execution_count": 13,
   "metadata": {},
   "outputs": [],
   "source": [
    "# embedding model\n",
    "\n",
    "emb_model = SentenceTransformerEmbeddings(model_name=\"thenlper/gte-large\")"
   ]
  },
  {
   "cell_type": "code",
   "execution_count": 32,
   "metadata": {},
   "outputs": [],
   "source": [
    "db = Chroma.from_documents(documents=doc_chunks, embedding=emb_model, collection_metadata={\"hnsw:space\": \"cosine\"})\n",
    "retriever = db.as_retriever(search_type=\"mmr\")"
   ]
  },
  {
   "cell_type": "markdown",
   "metadata": {},
   "source": [
    "## Grading\n"
   ]
  },
  {
   "cell_type": "code",
   "execution_count": 15,
   "metadata": {},
   "outputs": [
    {
     "data": {
      "text/plain": [
       "Document(page_content='2324 P .\\n\\nM. Forster et al.\\n\\n: Indicators of Global Climate Change 2022: annual update\\nLamboll, R. D. and Rogelj, J.: Code for estimation of re-\\nmaining carbon budget in IPCC AR6 WGI, Zenodo [code],\\nhttps://doi.org/10.5281/zenodo.6373365, 2022.\\n\\nLamboll, R. and Rogelj, J.: Carbon Budget Calculator, 2023, Github\\n[code], https://github.com/Rlamboll/AR6CarbonBudgetCalc,\\nlast access: 2 June 2023.\\n\\nLan, X., Tans, P., and Thoning, K. W.: Trends in globally-\\naveraged CO 2determined from NOAA Global Mon-\\nitoring Laboratory measurements, Version 2023-04,\\nhttps://doi.org/10.15138/9N0H-ZH07, 2023a.\\n\\nLan, X., Thoning, K. W., and Dlugokencky, E. J.: Trends in\\nglobally-averaged CH4 N2O, and SF6 determined from NOAA\\nGlobal Monitoring Laboratory measurements, Version 2023-04,\\nNOAA Earth System Research Laboratories Global Monitoring\\nLaboratory, https://doi.org/10.15138/P8XG-AA10, 2023b.\\n\\nLaube, J., Newland, M., Hogan, C., Brenninkmeijer, A. M., Fraser,\\nP. J., Martinerie, P., Oram, D. E., Reeves, C. E., Röckmann, T.,\\nSchwander, J., Witrant, E., and Sturges, W. T.: Newly detected\\nozone-depleting substances in the atmosphere, Nat.\\n\\nGeosci., 7,\\n266–269, https://doi.org/10.1038/ngeo2109, 2014.\\n\\nLee, H., Calvin, K., Dasgupta, D., Krinner, G., Mukherji, A.,\\nThorne, P., Trisos, C., Romero, J., Aldunce, P., Barrett, K.,\\nBlanco, G., Cheung, W. W. L., Connors, S. L., Denton, F.,\\nDiongue-Niang, A., Dodman, D., Garschagen, M., Geden, O.,\\nHayward, B., Jones, C., Jotzo, F., Krug, T., Lasco, R., Lee,\\nJ.-Y ., Masson-Delmotte, V ., Meinshausen, M., Mintenbeck, K.,\\nMokssit, A., Otto, F. E. L., Pathak, M., Pirani, A., Poloczanska,\\nE., Pörtner, H.-O., Revi, A., Roberts, D. C., Roy, J., Ruane, A.\\nC., Skea, J., Shukla, P. R., Slade, R., Slangen, A., Sokona, Y .,\\nSörensson, A.\\n\\nA., Tignor, M., van Vuuren, D., Wei, Y .-M., Win-\\nkler, H., Zhai, P., and Zommers, Z.: Synthesis Report of the IPCC\\nSixth Assessment Report (AR6): Summary for Policymakers, In-\\ntergovernmental Panel on Climate Change [accepted], available\\nat https://www.ipcc.ch/report/ar6/syr/ (last access: 2 June 2023),\\n2023.\\n\\nLee, J.-Y ., Marotzke, J., Bala, G., Cao, L., Corti, S., Dunne, J.\\nP., Engelbrecht, F., Fischer, E., Fyfe, J. C., Jones, C., May-\\ncock, A., Mutemi, J., Ndiaye, O., Panickal, S., and Zhou, T.:\\nFuture Global Climate: Scenario-Based Projections and Near-\\nTerm Information, in: Climate Change 2021: The Physical Sci-\\nence Basis, Contribution of Working Group I to the Sixth As-\\nsessment Report of the Intergovernmental Panel on Climate\\nChange, edited by: Masson-Delmotte, V ., Zhai, P., Pirani, A.,\\nConnors, S. L., Péan, C., Berger, S., Caud, N., Chen, Y ., Gold-\\nfarb, L., Gomis, M. I., Huang, M., Leitzell, K., Lonnoy, E.,\\nMatthews, J.\\n\\nB. R., Maycock, T. K., Waterﬁeld, T., Yelekçi,\\nO., Yu, R., and Zhou, B., Cambridge University Press, Cam-\\nbridge, United Kingdom and New York, NY , USA, pp.\\n\\n553–672,\\nhttps://doi.org/10.1017/9781009157896.006, 2021.\\n\\nLevitus, S., Antonov, J. I., Boyer, T. P., Baranova, O. K., Garcia, H.\\nE., Locarnini, R. A., Mishonov, A. V ., Reagan, J. R., Seidov, D.,\\nYarosh, E. S., and Zweng, M. M.: World ocean heat content and\\nthermosteric sea level change (0–2000 m), 1955–2010, Geophys.\\n\\nRes.\\n\\nLett., 39, L10603, https://doi.org/10.1029/2012GL051106,\\n2012.\\n\\nLoeb, N. G., Johnson, G. C., Thorsen, T. J., Lyman, J. M.,\\nRose, F. G., and Kato, S.: Satellite and ocean data reveal\\nmarked increase in Earth’s heating rate, Geophys.\\n\\nRes.\\n\\nLett., 48,\\ne2021GL093047, https://doi.org/10.1029/2021GL093047, 2021.Lonsdale, C. R. and Sun, K.: Nitrogen oxides emissions from\\nselected cities in North America, Europe, and East Asia ob-\\nserved by TROPOMI before and after the COVID-19 pandemic,\\nEGUsphere [preprint], https://doi.org/10.5194/egusphere-2023-\\n346, 2023.', metadata={'page': 29, 'source': '../data/rag-agent-data\\\\copernicus-report.pdf'})"
      ]
     },
     "execution_count": 15,
     "metadata": {},
     "output_type": "execute_result"
    }
   ],
   "source": [
    "# retrieve docs\n",
    "\n",
    "user_query = \"Where to download/find the carbon budget calculations?\"\n",
    "docs = retriever.invoke(user_query)\n",
    "docs[0]"
   ]
  },
  {
   "cell_type": "code",
   "execution_count": 16,
   "metadata": {},
   "outputs": [],
   "source": [
    "# Prompt for filtering erroneous irrelevant retrievals\n",
    "\n",
    "prompt = PromptTemplate(\n",
    "    template=\"\"\"You are a grader assessing relevance of a retrieved document to a user question. If the document contains keywords related to the user question, \n",
    "    grade it as relevant. It does not need to be a stringent test. The goal is to filter out erroneous retrievals. \\n\n",
    "    Give a binary score 'yes' or 'no' score to indicate whether the document is relevant to the question. \\n\n",
    "    Provide the binary score as a JSON with a single key 'score' and no premable or explaination.\n",
    "    Here is the retrieved document: \\n\\n {document} \\n\\n\n",
    "    Here is the user question: {user_query} \\n\n",
    "    \"\"\",\n",
    "    input_variables=[\"user_query\", \"document\"],\n",
    ")"
   ]
  },
  {
   "cell_type": "code",
   "execution_count": 17,
   "metadata": {},
   "outputs": [
    {
     "data": {
      "text/plain": [
       "{'score': 'yes'}"
      ]
     },
     "execution_count": 17,
     "metadata": {},
     "output_type": "execute_result"
    }
   ],
   "source": [
    "# test retrieval grader\n",
    "\n",
    "# grading_llm = ChatOllama(model=\"llama3\", format=\"json\", temperature=0)\n",
    "retrieval_grader = prompt | oai | JsonOutputParser()\n",
    "\n",
    "input_data = {\n",
    "    \"user_query\": user_query,\n",
    "    \"document\": docs[0].page_content\n",
    "}\n",
    "\n",
    "retrieval_grader.invoke(input=input_data) # if \"yes\", the keywords are in the provided document --> most likely a relevant document"
   ]
  },
  {
   "cell_type": "code",
   "execution_count": 18,
   "metadata": {},
   "outputs": [],
   "source": [
    "# convert to function for grading documents\n",
    "\n",
    "def grade_document_relevance(grader, user_query, documents):\n",
    "    \"\"\"\n",
    "    Applies the retrieval grader to a list of documents to determine relevance to the user query.\n",
    "\n",
    "    Args:\n",
    "        user_query (str): The user's query.\n",
    "        documents (list): A list of Langchain documents\n",
    "\n",
    "    Returns:\n",
    "        list: A list of Langchain documents that are deemed relevant (grading score is 'yes').\n",
    "    \"\"\"\n",
    "    relevant_docs = []\n",
    "    \n",
    "    for doc in documents:\n",
    "        input_data = {\n",
    "            \"user_query\": user_query,\n",
    "            \"document\": doc.page_content\n",
    "        }\n",
    "        \n",
    "        # Invoke the retrieval grader with the constructed input\n",
    "        try:\n",
    "            result = grader.invoke(input=input_data)\n",
    "            \n",
    "            # Check if the score is 'yes'\n",
    "            if result.get('score') == 'yes':\n",
    "                relevant_docs.append(doc)\n",
    "                \n",
    "        except Exception as e:\n",
    "            print(f\"Error processing document: {e}\")\n",
    "    \n",
    "    print(f\"----- GRADER -----\\nRELEVANT DOCUMENTS: {len(relevant_docs)} OUT OF {len(documents)}\")\n",
    "\n",
    "    return relevant_docs"
   ]
  },
  {
   "cell_type": "code",
   "execution_count": 19,
   "metadata": {},
   "outputs": [
    {
     "name": "stdout",
     "output_type": "stream",
     "text": [
      "----- GRADER -----\n",
      "RELEVANT DOCUMENTS: 1 OUT OF 4\n"
     ]
    },
    {
     "data": {
      "text/plain": [
       "[Document(page_content='2324 P .\\n\\nM. Forster et al.\\n\\n: Indicators of Global Climate Change 2022: annual update\\nLamboll, R. D. and Rogelj, J.: Code for estimation of re-\\nmaining carbon budget in IPCC AR6 WGI, Zenodo [code],\\nhttps://doi.org/10.5281/zenodo.6373365, 2022.\\n\\nLamboll, R. and Rogelj, J.: Carbon Budget Calculator, 2023, Github\\n[code], https://github.com/Rlamboll/AR6CarbonBudgetCalc,\\nlast access: 2 June 2023.\\n\\nLan, X., Tans, P., and Thoning, K. W.: Trends in globally-\\naveraged CO 2determined from NOAA Global Mon-\\nitoring Laboratory measurements, Version 2023-04,\\nhttps://doi.org/10.15138/9N0H-ZH07, 2023a.\\n\\nLan, X., Thoning, K. W., and Dlugokencky, E. J.: Trends in\\nglobally-averaged CH4 N2O, and SF6 determined from NOAA\\nGlobal Monitoring Laboratory measurements, Version 2023-04,\\nNOAA Earth System Research Laboratories Global Monitoring\\nLaboratory, https://doi.org/10.15138/P8XG-AA10, 2023b.\\n\\nLaube, J., Newland, M., Hogan, C., Brenninkmeijer, A. M., Fraser,\\nP. J., Martinerie, P., Oram, D. E., Reeves, C. E., Röckmann, T.,\\nSchwander, J., Witrant, E., and Sturges, W. T.: Newly detected\\nozone-depleting substances in the atmosphere, Nat.\\n\\nGeosci., 7,\\n266–269, https://doi.org/10.1038/ngeo2109, 2014.\\n\\nLee, H., Calvin, K., Dasgupta, D., Krinner, G., Mukherji, A.,\\nThorne, P., Trisos, C., Romero, J., Aldunce, P., Barrett, K.,\\nBlanco, G., Cheung, W. W. L., Connors, S. L., Denton, F.,\\nDiongue-Niang, A., Dodman, D., Garschagen, M., Geden, O.,\\nHayward, B., Jones, C., Jotzo, F., Krug, T., Lasco, R., Lee,\\nJ.-Y ., Masson-Delmotte, V ., Meinshausen, M., Mintenbeck, K.,\\nMokssit, A., Otto, F. E. L., Pathak, M., Pirani, A., Poloczanska,\\nE., Pörtner, H.-O., Revi, A., Roberts, D. C., Roy, J., Ruane, A.\\nC., Skea, J., Shukla, P. R., Slade, R., Slangen, A., Sokona, Y .,\\nSörensson, A.\\n\\nA., Tignor, M., van Vuuren, D., Wei, Y .-M., Win-\\nkler, H., Zhai, P., and Zommers, Z.: Synthesis Report of the IPCC\\nSixth Assessment Report (AR6): Summary for Policymakers, In-\\ntergovernmental Panel on Climate Change [accepted], available\\nat https://www.ipcc.ch/report/ar6/syr/ (last access: 2 June 2023),\\n2023.\\n\\nLee, J.-Y ., Marotzke, J., Bala, G., Cao, L., Corti, S., Dunne, J.\\nP., Engelbrecht, F., Fischer, E., Fyfe, J. C., Jones, C., May-\\ncock, A., Mutemi, J., Ndiaye, O., Panickal, S., and Zhou, T.:\\nFuture Global Climate: Scenario-Based Projections and Near-\\nTerm Information, in: Climate Change 2021: The Physical Sci-\\nence Basis, Contribution of Working Group I to the Sixth As-\\nsessment Report of the Intergovernmental Panel on Climate\\nChange, edited by: Masson-Delmotte, V ., Zhai, P., Pirani, A.,\\nConnors, S. L., Péan, C., Berger, S., Caud, N., Chen, Y ., Gold-\\nfarb, L., Gomis, M. I., Huang, M., Leitzell, K., Lonnoy, E.,\\nMatthews, J.\\n\\nB. R., Maycock, T. K., Waterﬁeld, T., Yelekçi,\\nO., Yu, R., and Zhou, B., Cambridge University Press, Cam-\\nbridge, United Kingdom and New York, NY , USA, pp.\\n\\n553–672,\\nhttps://doi.org/10.1017/9781009157896.006, 2021.\\n\\nLevitus, S., Antonov, J. I., Boyer, T. P., Baranova, O. K., Garcia, H.\\nE., Locarnini, R. A., Mishonov, A. V ., Reagan, J. R., Seidov, D.,\\nYarosh, E. S., and Zweng, M. M.: World ocean heat content and\\nthermosteric sea level change (0–2000 m), 1955–2010, Geophys.\\n\\nRes.\\n\\nLett., 39, L10603, https://doi.org/10.1029/2012GL051106,\\n2012.\\n\\nLoeb, N. G., Johnson, G. C., Thorsen, T. J., Lyman, J. M.,\\nRose, F. G., and Kato, S.: Satellite and ocean data reveal\\nmarked increase in Earth’s heating rate, Geophys.\\n\\nRes.\\n\\nLett., 48,\\ne2021GL093047, https://doi.org/10.1029/2021GL093047, 2021.Lonsdale, C. R. and Sun, K.: Nitrogen oxides emissions from\\nselected cities in North America, Europe, and East Asia ob-\\nserved by TROPOMI before and after the COVID-19 pandemic,\\nEGUsphere [preprint], https://doi.org/10.5194/egusphere-2023-\\n346, 2023.', metadata={'page': 29, 'source': '../data/rag-agent-data\\\\copernicus-report.pdf'})]"
      ]
     },
     "execution_count": 19,
     "metadata": {},
     "output_type": "execute_result"
    }
   ],
   "source": [
    "relevant_docs = grade_document_relevance(grader=retrieval_grader, user_query=user_query, documents=docs)\n",
    "relevant_docs"
   ]
  },
  {
   "attachments": {
    "image.png": {
     "image/png": "[encoded data removed]"
    }
   },
   "cell_type": "markdown",
   "metadata": {},
   "source": [
    "## Re-ranking w/ RRF\n",
    "\n",
    "Re-ranking of the results based on the distinct relevance indicators using simulation of **multiple similar search queries** similar to the initial user query.\n",
    "\n",
    "Total of 5 queries (incl. initial user query).\n",
    "\n",
    "**Main goals**: \n",
    "- improve performance of the search ranking\n",
    "- mitigate the nuances and complexities of human queries\n",
    "\n",
    "**RRF Formula**:\n",
    "\n",
    "![image.png](attachment:image.png)"
   ]
  },
  {
   "cell_type": "code",
   "execution_count": 20,
   "metadata": {},
   "outputs": [
    {
     "data": {
      "text/plain": [
       "['Where to download/find the carbon budget calculations?',\n",
       " 'Where can I access the code for estimation of remaining carbon budget in IPCC AR6 WGI?',\n",
       " 'How to find the Carbon Budget Calculator on Github?',\n",
       " 'Where to find the NOAA Global Monitoring Laboratory measurements?',\n",
       " 'Where can I download the Synthesis Report of the IPCC Sixth Assessment Report (AR6)?']"
      ]
     },
     "execution_count": 20,
     "metadata": {},
     "output_type": "execute_result"
    }
   ],
   "source": [
    "# STEP 1: create 5 similar user queries for RRF algo --> use OpenAI for better quality\n",
    "from langchain_core.messages import HumanMessage\n",
    "import ast\n",
    "\n",
    "def generate_similar_search_queries(initial_query, documets):\n",
    "    \n",
    "    message = HumanMessage(\n",
    "        content= f\"\"\" \n",
    "            You are a helpful search assistant. Your task is to generate four similar search queries in relation to the provided documents based on a single input query. \n",
    "            Always use provided output for your response. Be concise and constructive. Do not deviate from the context of the provided documents.\n",
    "            \n",
    "\n",
    "            Initial single input query: {initial_query}\n",
    "            Documents: {documets}\n",
    "            Output sturcture: [\"{initial_query}\", search query 1, search query 2, search query 3, search query 4]\n",
    "\n",
    "        \"\"\",\n",
    "\n",
    "    )\n",
    "    response = oai.invoke([message])\n",
    "    queries = ast.literal_eval(response.content)\n",
    "\n",
    "    return queries\n",
    "\n",
    "\n",
    "rff_queries = generate_similar_search_queries(initial_query=user_query,\n",
    "                                           documets=relevant_docs)\n",
    "rff_queries"
   ]
  },
  {
   "cell_type": "code",
   "execution_count": 21,
   "metadata": {},
   "outputs": [
    {
     "data": {
      "text/plain": [
       "dict_keys(['Where to download/find the carbon budget calculations?', 'Where can I access the code for estimation of remaining carbon budget in IPCC AR6 WGI?', 'How to find the Carbon Budget Calculator on Github?', 'Where to find the NOAA Global Monitoring Laboratory measurements?', 'Where can I download the Synthesis Report of the IPCC Sixth Assessment Report (AR6)?'])"
      ]
     },
     "execution_count": 21,
     "metadata": {},
     "output_type": "execute_result"
    }
   ],
   "source": [
    "# STEP 2: build dictionaries for retrieved results incl. simulations\n",
    "\n",
    "def generate_simulated_results(simulated_queries:list):\n",
    "\n",
    "    all_queries_results = {}\n",
    "\n",
    "    for query in simulated_queries:\n",
    "        results = db.similarity_search_with_score(query, k=4)\n",
    "        all_queries_results[query] = results\n",
    "\n",
    "    return all_queries_results\n",
    "\n",
    "sim_results = generate_simulated_results(rff_queries)\n",
    "sim_results.keys()"
   ]
  },
  {
   "cell_type": "code",
   "execution_count": 22,
   "metadata": {},
   "outputs": [
    {
     "name": "stdout",
     "output_type": "stream",
     "text": [
      "----- RE-RANKING -----\n",
      "DOCUMENTS RERANKED SUCCESSFULLY!\n"
     ]
    },
    {
     "data": {
      "text/plain": [
       "{'2324 P .\\n\\nM. Forster et al.\\n\\n: Indicators of Global Climate Change 2022: annual update\\nLamboll, R. D. and Rogelj, J.: Code for estimation of re-\\nmaining carbon budget in IPCC AR6 WGI, Zenodo [code],\\nhttps://doi.org/10.5281/zenodo.6373365, 2022.\\n\\nLamboll, R. and Rogelj, J.: Carbon Budget Calculator, 2023, Github\\n[code], https://github.com/Rlamboll/AR6CarbonBudgetCalc,\\nlast access: 2 June 2023.\\n\\nLan, X., Tans, P., and Thoning, K. W.: Trends in globally-\\naveraged CO 2determined from NOAA Global Mon-\\nitoring Laboratory measurements, Version 2023-04,\\nhttps://doi.org/10.15138/9N0H-ZH07, 2023a.\\n\\nLan, X., Thoning, K. W., and Dlugokencky, E. J.: Trends in\\nglobally-averaged CH4 N2O, and SF6 determined from NOAA\\nGlobal Monitoring Laboratory measurements, Version 2023-04,\\nNOAA Earth System Research Laboratories Global Monitoring\\nLaboratory, https://doi.org/10.15138/P8XG-AA10, 2023b.\\n\\nLaube, J., Newland, M., Hogan, C., Brenninkmeijer, A. M., Fraser,\\nP. J., Martinerie, P., Oram, D. E., Reeves, C. E., Röckmann, T.,\\nSchwander, J., Witrant, E., and Sturges, W. T.: Newly detected\\nozone-depleting substances in the atmosphere, Nat.\\n\\nGeosci., 7,\\n266–269, https://doi.org/10.1038/ngeo2109, 2014.\\n\\nLee, H., Calvin, K., Dasgupta, D., Krinner, G., Mukherji, A.,\\nThorne, P., Trisos, C., Romero, J., Aldunce, P., Barrett, K.,\\nBlanco, G., Cheung, W. W. L., Connors, S. L., Denton, F.,\\nDiongue-Niang, A., Dodman, D., Garschagen, M., Geden, O.,\\nHayward, B., Jones, C., Jotzo, F., Krug, T., Lasco, R., Lee,\\nJ.-Y ., Masson-Delmotte, V ., Meinshausen, M., Mintenbeck, K.,\\nMokssit, A., Otto, F. E. L., Pathak, M., Pirani, A., Poloczanska,\\nE., Pörtner, H.-O., Revi, A., Roberts, D. C., Roy, J., Ruane, A.\\nC., Skea, J., Shukla, P. R., Slade, R., Slangen, A., Sokona, Y .,\\nSörensson, A.\\n\\nA., Tignor, M., van Vuuren, D., Wei, Y .-M., Win-\\nkler, H., Zhai, P., and Zommers, Z.: Synthesis Report of the IPCC\\nSixth Assessment Report (AR6): Summary for Policymakers, In-\\ntergovernmental Panel on Climate Change [accepted], available\\nat https://www.ipcc.ch/report/ar6/syr/ (last access: 2 June 2023),\\n2023.\\n\\nLee, J.-Y ., Marotzke, J., Bala, G., Cao, L., Corti, S., Dunne, J.\\nP., Engelbrecht, F., Fischer, E., Fyfe, J. C., Jones, C., May-\\ncock, A., Mutemi, J., Ndiaye, O., Panickal, S., and Zhou, T.:\\nFuture Global Climate: Scenario-Based Projections and Near-\\nTerm Information, in: Climate Change 2021: The Physical Sci-\\nence Basis, Contribution of Working Group I to the Sixth As-\\nsessment Report of the Intergovernmental Panel on Climate\\nChange, edited by: Masson-Delmotte, V ., Zhai, P., Pirani, A.,\\nConnors, S. L., Péan, C., Berger, S., Caud, N., Chen, Y ., Gold-\\nfarb, L., Gomis, M. I., Huang, M., Leitzell, K., Lonnoy, E.,\\nMatthews, J.\\n\\nB. R., Maycock, T. K., Waterﬁeld, T., Yelekçi,\\nO., Yu, R., and Zhou, B., Cambridge University Press, Cam-\\nbridge, United Kingdom and New York, NY , USA, pp.\\n\\n553–672,\\nhttps://doi.org/10.1017/9781009157896.006, 2021.\\n\\nLevitus, S., Antonov, J. I., Boyer, T. P., Baranova, O. K., Garcia, H.\\nE., Locarnini, R. A., Mishonov, A. V ., Reagan, J. R., Seidov, D.,\\nYarosh, E. S., and Zweng, M. M.: World ocean heat content and\\nthermosteric sea level change (0–2000 m), 1955–2010, Geophys.\\n\\nRes.\\n\\nLett., 39, L10603, https://doi.org/10.1029/2012GL051106,\\n2012.\\n\\nLoeb, N. G., Johnson, G. C., Thorsen, T. J., Lyman, J. M.,\\nRose, F. G., and Kato, S.: Satellite and ocean data reveal\\nmarked increase in Earth’s heating rate, Geophys.\\n\\nRes.\\n\\nLett., 48,\\ne2021GL093047, https://doi.org/10.1029/2021GL093047, 2021.Lonsdale, C. R. and Sun, K.: Nitrogen oxides emissions from\\nselected cities in North America, Europe, and East Asia ob-\\nserved by TROPOMI before and after the COVID-19 pandemic,\\nEGUsphere [preprint], https://doi.org/10.5194/egusphere-2023-\\n346, 2023.': [0.5416666666666666,\n",
       "  '../data/rag-agent-data\\\\copernicus-report.pdf'],\n",
       " '2312 P .\\n\\nM. Forster et al.\\n\\n: Indicators of Global Climate Change 2022: annual update\\n8 Remaining carbon budget\\nAR6 assessed the remaining carbon budget (RCB) in Chap.\\n\\n5\\nof its WGI report (Canadell et al., 2021) for 1.5, 1.7 and 2◦C\\nthresholds (see Table 7).\\n\\nThey were also reported in its Sum-\\nmary for Policymakers (Table SPM.2, IPCC, 2021b).\\n\\nThese\\nare updated in this section using the same method with trans-\\nparently described updates.\\n\\nAR5 (IPCC, 2013) assessed that global surface temper-\\nature increase is close to linearly proportional to the to-\\ntal amount of cumulative CO 2emissions (Collins et al.,\\n2013).\\n\\nThe most recent AR6 report reafﬁrmed this assess-\\nment (Canadell et al., 2021).\\n\\nThis near-linear relationship\\nimplies that for keeping global warming below a speciﬁed\\ntemperature level, one can estimate the total amount of CO 2\\nthat can ever be emitted.\\n\\nWhen expressed relative to a recent\\nreference period, this is referred to as the remaining carbon\\nbudget (Rogelj et al., 2018).\\n\\nThe RCB is estimated by application of the WGI AR6\\nmethod described in Rogelj et al.\\n\\n(2019), which involves the\\ncombination of the assessment of ﬁve factors: (i) the most\\nrecent decade of human-induced warming, (ii) the transient\\nclimate response to cumulative emissions of CO 2(TCRE),\\n(iii) the zero emissions commitment (ZEC), (iv) the temper-\\nature contribution of non-CO 2emissions and (v) an adjust-\\nment term for Earth system feedbacks that are otherwise not\\ncaptured through the other factors.\\n\\nAR6 WGI reassessed all\\nﬁve terms (Canadell et al., 2021).\\n\\nThe incorporation of factor\\n(v) was further considered by Lamboll and Rogelj (2022).\\n\\nOf these factors, only factor (i) (human-induced warming),\\nwhere AR6 WGI used the decade-long period, 2010–2019,\\nlends itself to a regular and systematic annual update.\\n\\nHis-\\ntorical CO 2emissions from the middle of this period until\\nthe start of the RCB are required to have an as up-to-date\\nRCB estimate as possible.\\n\\nOther factors can be updated but depend on new evidence\\nand insights being published rather than an additional year of\\nobservational data becoming available.\\n\\nFactor (iv) (tempera-\\nture contribution of non-CO 2emissions) depends both on the\\navailable mitigation scenario evidence and the assessment of\\nnon-CO 2warming.\\n\\nAdditional scenario evidence has become\\navailable through the publication of the scenario database\\nsupporting the AR6 WGIII report (Byers et al., 2022), which\\nis taken into account in this update.\\n\\nThe RCB for 1.5, 1.7 and 2◦C warming levels is re-\\nassessed based on the most recent available data.\\n\\nEstimated\\nRCBs are reported below.\\n\\nThey are expressed both relative\\nto 2020 to compare to AR6 and relative to the start of 2023\\nfor estimates based on the 2013–2022 human-induced warm-\\ning update.\\n\\nNote that between the start of 2020 and the end\\nof 2022, about 122 GtCO 2has been emitted (Sect.\\n\\n2).\\n\\nBased\\non the variation in non-CO 2emissions across the scenarios\\nin AR6 WGIII scenario database, the estimated RCB val-\\nues can be higher or lower by around 200 GtCO 2depending\\non how deeply non-CO 2emissions are reduced.\\n\\nThe impactof non-CO 2emissions on warming includes both the warm-\\ning effects of other greenhouse gases such as methane and\\nthe cooling effects of aerosols such as sulfates.\\n\\nThe impacts\\nof these are assessed using a climate emulator (MAGICC;\\nMeinshausen et al., 2011), which was updated to capture re-\\ncent updates more accurately from the AR6 WGIII report\\nbut whose results were not captured in the AR6 WGI carbon\\nbudget estimates.\\n\\nThis emulator update increased the esti-\\nmate of the importance of aerosols, which are expected to\\ndecline with time in low emissions pathways (Rogelj et al.,\\n2014), causing a net warming and decreasing the remaining\\ncarbon budget.\\n\\nThe AR6 WGIII version of MAGICC is used\\nhere.\\n\\nIf instead, the FaIR emulator were used, this would give\\nreduced non-CO 2warming and a larger carbon budget (Lam-\\nboll and Rogelj, 2022).': [0.45833333333333326,\n",
       "  '../data/rag-agent-data\\\\copernicus-report.pdf'],\n",
       " 'P .\\n\\nM. Forster et al.\\n\\n: Indicators of Global Climate Change 2022: annual update 2313\\nTable 7.\\n\\nUpdated estimates of the remaining carbon budget for 1.5, 1.7 and 2.0◦C, for ﬁve levels of likelihood, considering only uncertainty\\nin TCRE.\\n\\nHistorical cumulative CO 2emissions\\n(1850–2019) AR6 WGI Table SPM.22390 (±240; likely (66 %–100 % probability) range)\\nRemaining carbon budgets\\nCase/updateBase year Estimated remaining carbon budgets\\nfrom the beginning of base year\\n(GtCO 2)\\nLikelihood of limiting global warming\\nto temperature limit.17 % 33 % 50 % 67 % 83 %\\n1.5◦C from AR6 WGI 2020 900 650 500 400 300\\n+AR6 emulator update 2020 750 500 400 300 200\\n+as above with AR6 scenario update 2020 750 500 400 300 200\\n+as above with warming update\\n(2013–2022) (best estimate)2023 500 300 250 150 100\\n1.7◦C from AR6 WGI 2020 1450 1050 850 700 550\\n+AR6 emulator update 2020 1250 900 700 600 450\\n+as above with AR6 scenario update 2020 1300 950 750 600 500\\n+as above with warming update\\n(2013–2022) (best estimate)2023 1100 800 600 500 350\\n2◦C from AR6 WGI 2020 2300 1700 1350 1150 900\\n+AR6 emulator update 2020 2050 1500 1200 1000 800\\n+as above with AR6 scenario update 2020 2200 1650 1300 1100 900\\n+as above with warming update\\n(2013–2022) (best estimate)2023 2000 1450 1150 950 800\\nEstimates start from AR6 WGI estimates (ﬁrst row for each warming level), updated with the latest scenario information from AR6 WGIII (from\\nsecond row for each warming level), and an update of the anthropogenic historical warming, which is estimated for the 2013–2022 period (third\\nrow for each warming level).\\n\\nEstimates are expressed relative to either the start of the year 2020 or 2023.\\n\\nThe probability includes only the\\nuncertainty in how the Earth immediately responds to carbon, not long-term committed warming or uncertainty in other emissions.\\n\\nAll values are\\nrounded to the nearest 50 GtCO 2.\\ntion to net zero CO 2emissions.\\n\\nThese estimates assume me-\\ndian reductions in non-CO 2emissions between 2020–2050\\nof CH 4(50 %), N 2O (25 %) and SO 2(77 %).\\n\\nIf these non-\\nCO2greenhouse gas emission reductions are not achieved,\\nthe RCB will be smaller (see Supplement, Sect.\\n\\nS8).\\n\\nNote\\nthat the 50 % RCB is expected to be exhausted a few years\\nbefore the 1.5◦C global warming level is reached due to the\\nway it factors future warming from non-CO 2emissions into\\nits estimate.\\n\\n9 Examples of climate and weather extremes:\\nmaximum temperature over land\\nClimate and weather extremes are among the most visible\\nhuman-induced climate changes.\\n\\nWithin AR6 WGI, a full\\nchapter was dedicated to the assessment of past and projected\\nchanges in extremes on continents (Seneviratne et al., 2021),\\nand the chapter on ocean, cryosphere and sea level changes\\nalso provided assessments on changes in marine heatwaves\\n(Fox-Kemper et al., 2021).\\n\\nGlobal indicators related to cli-\\nmate extremes include averaged changes in climate extremes,\\nfor example, the mean increase of annual minimum and max-\\nimum temperatures on land (AR6 WGI Chap.\\n\\n11, Fig.\\n\\n11.2,\\nSeneviratne et al., 2021) or the area affected by certain types\\nof extremes (AR6 WGI Chap.\\n\\n11, Box 11.1, Fig.\\n\\n1, Senevi-ratne et al., 2021; Sippel et al., 2015).\\n\\nIn contrast to global\\nsurface temperature, extreme indicators are less established.\\n\\nThey are therefore expected to be subject to improvements,\\nreﬂecting advances in understanding and better data collec-\\ntion.\\n\\nIndeed, such efforts are planned within the World Cli-\\nmate Research Programme (WCRP) Grand Challenge on\\nWeather and Climate Extremes, which will likely inform the\\nnext iteration of this study.\\n\\nAs part of this ﬁrst update, we provide an upgraded version\\nof the analysis in Fig.\\n\\n11.2 from Seneviratne et al.\\n\\n(2021)\\n(Fig.\\n\\n6).\\n\\nLike the analysis of global mean temperature, the\\nchoice of datasets is based on a compromise on the length of\\nthe data record, the data availability, near-real-time updates\\nand long-term support.': [0.42857142857142855,\n",
       "  '../data/rag-agent-data\\\\copernicus-report.pdf'],\n",
       " '2316 P .\\n\\nM. Forster et al.\\n\\n: Indicators of Global Climate Change 2022: annual update\\nFigure 7.\\n\\nInfographic associated with headline results in Table 9.\\n\\n“AR6” refers to approximately 2019, and “Now” refers to 2022.\\n\\nThe AR6\\nperiod total emissions are our re-evaluated assessment for 2010–2019.\\n\\nFor details and uncertainties, see Table 9.\\n\\n10 Dashboard data visualisations\\nThe Climate Change Tracker (https://climatechangetracker.\\n\\norg/, last access: 2 June 2023), a platform hosting a range\\nof publicly available climate data, aims to provide a range\\nof audiences with a reliable, user-friendly means of tracking\\nand understanding climate change and its progression.\\n\\nBuilding on the existing platform, a bespoke “dashboard”\\nplaces several of the updated IPCC-consistent indicators of\\nclimate change set out above in the public domain.\\n\\nThis be-\\nspoke dashboard is primarily aimed at policymakers involved\\nin UNFCCC negotiations, but the ultimate intention is to\\nreach and inform a much wider audience.\\n\\nThe dashboard initially focuses on three key indicator sets:\\ngreenhouse gas emissions (Sect.\\n\\n2), human-induced global\\nwarming (Sect.\\n\\n7) and the remaining global carbon budget\\n(Sect.\\n\\n8), bringing together and presenting up-to-date in-\\nformation crucial to effective climate decision-making in a\\nﬁndable, accessible, traceable and reproducible way.\\n\\nIn ad-dition, the Climate Change Tracker provides standardised\\napplication programming interfaces (APIs), dashboards and\\ncharts to embed in third-party apps and websites.\\n\\nAll data are\\ntraceable to the GitHub repository employed for this paper\\n(Sect.\\n\\n11).\\n\\nIn time, and with feedback from the user community, the\\ninitial set of indicators displayed by the dashboard may be\\nexpanded to include others alongside their rates of change.\\n\\n11 Code and data availability\\nThe carbon budget calculation is available from https://\\ngithub.com/Rlamboll/AR6CarbonBudgetCalc (Lamboll and\\nRogelj, 2023).\\n\\nThe code and data used to produce other indi-\\ncators are available in repositories under https://github.com/\\nClimateIndicator (Smith et al., 2023b).\\n\\nAll data are available\\nfrom https://doi.org/10.5281/zenodo.8000192 (Smith et al.,\\n2023a).\\n\\nData are provided under the CC-BY 4.0 Licence.\\n\\nEarth Syst.\\n\\nSci.\\n\\nData, 15, 2295–2327, 2023 https://doi.org/10.5194/essd-15-2295-2023': [0.34285714285714286,\n",
       "  '../data/rag-agent-data\\\\copernicus-report.pdf'],\n",
       " 'P .\\n\\nM. Forster et al.\\n\\n: Indicators of Global Climate Change 2022: annual update 2299\\nEach category of GHG emissions included here is covered\\nby varying primary sources and datasets.\\n\\nAlthough many\\ndatasets cover individual categories, few extend across multi-\\nple categories, and only a minority have frequent and timely\\nupdate schedules.\\n\\nNotable datasets include the Global Car-\\nbon Budget (GCB; Friedlingstein et al., 2022b), which cov-\\ners CO 2-FFI and CO 2-LULUCF; the Emissions Database for\\nGlobal Atmospheric Research (EDGAR; Crippa et al., 2022)\\nand the Potsdam Real-time Integrated Model for probabilis-\\ntic Assessment of emissions Paths (PRIMAP-hist; Gütschow\\net al., 2016; Gütschow and Pﬂüger 2023), which cover CO 2-\\nFFI, CH 4, N2O and UNFCCC F-gases; and the Commu-\\nnity Emissions Data System (CEDS; O’Rourke et al., 2021),\\nwhich covers CO 2-FFI, CH 4, and N 2O.\\n\\nAs detailed below,\\nnot all these datasets were employed in this update.\\n\\nIn AR6 WGIII, total net GHG emissions were calculated\\nas the sum of CO 2-FFI, CH 4, N2O and UNFCCC F-gases\\nfrom EDGAR and net CO 2-LULUCF emissions from the\\nGCB.\\n\\nNet CO 2-LULUCF emissions followed the GCB con-\\nvention and were derived from the average of three book-\\nkeeping models (Hansis et al., 2015; Houghton and Nas-\\nsikas, 2017; Gasser et al., 2020).\\n\\nVersion 6 of EDGAR was\\nused (with a fast-track methodology applied for the ﬁnal year\\nof data – 2019), alongside the 2020 version of the GCB\\n(Friedlingstein et al., 2020).\\n\\nCO 2-equivalent emissions were\\ncalculated using global warming potentials with a 100-year\\ntime horizon from AR6 WGI Chap.\\n\\n7 (Forster et al., 2021).\\n\\nUncertainty ranges were based on a comparative assessment\\nof available data and expert judgement, corresponding to a\\n90 % conﬁdence interval (Minx et al., 2021): ±8 % for CO 2-\\nFFI,±70 % for CO 2-LULUCF,±30 % for CH 4and F-gases,\\nand±60 % for N 2O (note that the GCB assesses 1 standard\\ndeviation uncertainty for CO 2-FFI as±5 % and for CO 2-\\nLULUCF as±2.6 GtCO 2; Friedlingstein et al., 2022a).\\n\\nThe\\ntotal uncertainty was summed in quadrature, assuming in-\\ndependence of estimates per species/source.\\n\\nReﬂecting these\\nuncertainties, AR6 WGIII reported emissions to two signiﬁ-\\ncant ﬁgures only.\\n\\nUncertainties in GWP100 metrics were not\\napplied (Minx et al., 2021).\\n\\nThis analysis tracks the same compilation of GHGs as in\\nAR6 WGIII.\\n\\nWe follow the same approach for estimating un-\\ncertainties and CO 2-equivalent emissions.\\n\\nWe also use the\\nsame type of data sources but make important changes to\\nthe speciﬁc selection of data sources to further improve the\\nquality of the data, as suggested in the knowledge gap dis-\\ncussion of the WGIII report (Dhakal et al., 2022).\\n\\nInstead of\\nusing EDGAR data (which are now available as version 7),\\nwe use GCB data for CO 2-FFI, PRIMAP-hist data for CH 4\\nand N 2O, and atmospheric concentrations with best-estimate\\nlifetimes for UNFCCC F-gas emissions (Hodnebrog et al.,\\n2020).\\n\\nAs in AR6 WGIII we use GCB for net CO 2-LULUCF\\nemissions, taking the average of three bookkeeping models.\\n\\nThere are three reasons for these speciﬁc data choices.\\n\\nFirst, national greenhouse gas emissions inventories tend\\nto use improved, higher-tier methods for estimating emis-sions ﬂuxes than global inventories such as EDGAR or\\nCEDS (Dhakal et al., 2022; Minx et al., 2021).\\n\\nAs GCB\\nand PRIMAP-hist integrate the most recent national inven-\\ntory submissions to the UNFCCC, selecting these databases\\nmakes best use of country-level improvements in data-\\ngathering infrastructures.\\n\\nSecond, comprehensive reporting\\nof F-gas emissions has remained challenging in national in-\\nventories and may exclude some military applications (see\\nMinx et al., 2021; Dhakal et al., 2022).\\n\\nHowever, F-gases\\nare entirely anthropogenic substances, and their concentra-\\ntions can be measured effectively and reliably in the atmo-\\nsphere.\\n\\nWe therefore follow the AR6 WGI approach in mak-\\ning use of direct atmospheric observations.': [0.2,\n",
       "  '../data/rag-agent-data\\\\copernicus-report.pdf'],\n",
       " 'The AR6 WGIII version of MAGICC is used\\nhere.\\n\\nIf instead, the FaIR emulator were used, this would give\\nreduced non-CO 2warming and a larger carbon budget (Lam-\\nboll and Rogelj, 2022).\\n\\nFor example, using non-CO 2warm-\\ning from the FaIR emulator to estimate the 1.5◦C remaining\\ncarbon budget results in 350 GtCO 2for a 50 % likelihood\\nwith a 17 %–83 % range of 200–700 GtCO 2.\\n\\nThe variation\\nbetween the different estimates reﬂects the structural uncer-\\ntainty in estimating future non-CO 2warming contributions\\nand highlights inherent limits to the precision with which\\nremaining carbon budgets can be quantiﬁed.\\n\\nSuch variation\\nin remaining carbon budget estimates illustrates that most of\\nthe total carbon budget for limiting warming to 1.5◦C has al-\\nready been emitted and emphasises the robust insight that the\\n1.5◦C compatible budget is very small in light of continuing\\nhigh global CO 2emissions.\\n\\nUpdated RCB estimates presented in Table 7 for 1.5, 1.7\\nand 2.0◦C of global warming are smaller than AR6, and geo-\\nphysical and other uncertainties therefore have become larger\\nin relative terms.\\n\\nThis is a feature that will have to be kept in\\nmind when communicating budgets.\\n\\nThe estimates presented\\nhere differ from those presented in the annual Global Carbon\\nBudget (GCB) publications (Friedlingstein et al., 2022a).\\n\\nThe GCB updates have previously started from the AR6 WGI\\nestimate and subtracted the latest estimates of historical CO 2\\nemissions.\\n\\nThe RCB estimates presented here consider the\\nsame updates in historical CO 2emissions from the GCB as\\nwell as the latest available quantiﬁcation of human-induced\\nwarming to date and a reassessment of non-CO 2warming\\ncontributions.\\n\\nIf the single-year human-induced warming until 2022\\n(Sect.\\n\\n7) were used directly in the RCB calculation, this\\nwould lead to similar remaining carbon budgets estimates to\\nthose from the decadal average approach used here; the 50 %\\nlikelihood estimates would be unchanged although other\\nlikelihoods alter somewhat because the spread due to TCRE\\nuncertainty starts 5 years later.\\n\\nHowever, we choose to only\\nshow the decadal calculation as this was assessed to be the\\nbest estimate for human-induced warming and the method\\nadopted in AR6 WGI.\\n\\nThe RCB for limiting warming to 1.5◦C is becoming very\\nsmall.\\n\\nIt is important, however, to correctly interpret this in-\\nformation.\\n\\nRCB estimates consider projected reductions in\\nnon-CO 2emissions that are aligned with a global transi-\\nEarth Syst.\\n\\nSci.\\n\\nData, 15, 2295–2327, 2023 https://doi.org/10.5194/essd-15-2295-2023': [0.2,\n",
       "  '../data/rag-agent-data\\\\copernicus-report.pdf'],\n",
       " 'P .\\n\\nM. Forster et al.\\n\\n: Indicators of Global Climate Change 2022: annual update 2323\\nHaustein, K., Allen, M. R., Forster, P. M., Otto, F. E. L.,\\nMitchell, D. M., Matthews, H. D., and Frame, D. J.:\\nA real-time Global Warming Index, Sci.\\n\\nRep., 7, 15417,\\nhttps://doi.org/10.1038/s41598-017-14828-5, 2017.\\n\\nHersbach, H., Bell, B., Berrisford, P., Hirahara, S., Horányi, A.,\\nMuñoz-Sabater, J., Nicolas, J., Peubey, C., Radu, R., Schepers,\\nD., Simmons, A., Soci, C., Abdalla, S., Abellan, X., Balsamo,\\nG., Bechtold, P., Biavati, G., Bidlot, J., Bonavita, M., De Chiara,\\nG., Dahlgren, P., Dee, D., Diamantakis, M., Dragani, R., Flem-\\nming, J., Forbes, R., Fuentes, M., Geer, A., Haimberger, L.,\\nHealy, S., Hogan, R. J., Hólm, E., Janisková, M., Keeley, S.,\\nLaloyaux, P., Lopez, P., Lupu, C., Radnoti, G., de Rosnay, P.,\\nRozum, I., Vamborg, F., Villaume, S., and Thépaut, J.-N.: The\\nERA5 global reanalysis, Q. J. R. Meteorol.\\n\\nSoc., 146, 1999–\\n2049, https://doi.org/10.1002/qj.3803, 2020.\\n\\nHodnebrog, Ø., Aamaas, B., Fuglestvedt, J. S., Marston, G.,\\nMyhre, G., Nielsen, C. J., Sandstad, M., Shine, K. P., and\\nWallington, T. J.: Updated Global Warming Potentials and\\nRadiative Efﬁciencies of Halocarbons and Other Weak At-\\nmospheric Absorbers, Rev.\\n\\nGeophys., 58, e2019RG000691,\\nhttps://doi.org/10.1029/2019RG000691, 2020.\\n\\nHoesly, R. M., Smith, S. J., Feng, L., Klimont, Z., Janssens-\\nMaenhout, G., Pitkanen, T., Seibert, J. J., Vu, L., Andres, R.\\nJ., Bolt, R. M., Bond, T. C., Dawidowski, L., Kholod, N.,\\nKurokawa, J.-I., Li, M., Liu, L., Lu, Z., Moura, M. C. P.,\\nO’Rourke, P. R., and Zhang, Q.: Historical (1750–2014) anthro-\\npogenic emissions of reactive gases and aerosols from the Com-\\nmunity Emissions Data System (CEDS), Geosci.\\n\\nModel Dev., 11,\\n369–408, https://doi.org/10.5194/gmd-11-369-2018, 2018.\\n\\nHoughton, R. A. and Nassikas, A.\\n\\nA.: Global and re-\\ngional ﬂuxes of carbon from land use and land cover\\nchange 1850–2015, Global Biogeochem.\\n\\nCy., 31, 456–472,\\nhttps://doi.org/10.1002/2016GB005546, 2017.\\n\\nIPCC: Climate Change 2013: The Physical Science Basis, Con-\\ntribution of Working Group I to the Fifth Assessment Re-\\nport of the Intergovernmental Panel on Climate Change,\\nedited by: Stocker, T. F., Qin, D., Plattner, G.-K., Tignor,\\nM., Allen, S. K., Boschung, J., Nauels, A., Xia, Y ., Bex,\\nV ., and Midgley P. M., Cambridge University Press, Cam-\\nbridge, United Kingdom and New York, NY , USA, 1535 pp.,\\nhttps://https://doi.org/10.1017/CBO9781107415324, 2013.\\n\\nIPCC: Summary for Policymakers, in: Global Warming of 1.5◦C.\\n\\nAn IPCC Special Report on the impacts of global warming\\nof 1.5◦C above pre-industrial levels and related global green-\\nhouse gas emission pathways, in the context of strengthening the\\nglobal response to the threat of climate change, sustainable de-\\nvelopment, and efforts to eradicate poverty, edited by: Masson-\\nDelmotte, V ., Zhai, P., Pörtner, H.-O., Roberts, D., Skea, J.,\\nShukla, P. R., Pirani, A., Moufouma-Okia, W., Péan, C., Pidcock,\\nR., Connors, S., Matthews, J.\\n\\nB. R., Chen, Y ., Zhou, X., Gomis,\\nM. I., Lonnoy, E., Maycock, T., Tignor, M., and Waterﬁeld, T.,\\nCambridge University Press, Cambridge, UK and New York, NY ,\\nUSA, pp.\\n\\n3–24, https://doi.org/10.1017/9781009157940.001,\\n2018.\\n\\nIPCC: Climate Change 2021: The Physical Science Basis, Contri-\\nbution of Working Group I to the Sixth Assessment Report of the\\nIntergovernmental Panel on Climate Change, Cambridge Uni-\\nversity Press, Cambridge, United Kingdom and New York, NY ,\\nUSA, https://doi.org/10.1017/9781009157896, 2021a.IPCC: Summary for Policymakers, in: Climate Change 2021: The\\nPhysical Science Basis, Contribution of Working Group I to the\\nSixth Assessment Report of the Intergovernmental Panel on Cli-\\nmate Change, edited by: Masson-Delmotte, V ., Zhai, P., Pirani,\\nA., Connors, S. L., Péan, C., Berger, S., Caud, N., Chen, Y .,\\nGoldfarb, L., Gomis, M. I., Huang, M., Leitzell, K., Lonnoy,\\nE., Matthews, J.': [0.2,\n",
       "  '../data/rag-agent-data\\\\copernicus-report.pdf'],\n",
       " '2318 P .\\n\\nM. Forster et al.\\n\\n: Indicators of Global Climate Change 2022: annual update\\n12 Discussion and conclusions\\nThe ﬁrst year of the Global Climate Change (IGCC) initia-\\ntive has built on the AR6 report cycle to provide a compre-\\nhensive update of the climate change indicators required to\\nestimate the human-induced warming and the remaining car-\\nbon budget.\\n\\nTable 9 and Fig.\\n\\n7 present a summary of the\\nheadline ﬁgures from each section compared to those given\\nin the AR6 assessment.\\n\\nThe main substantive dataset change\\nsince AR6 is that land-use CO 2emissions have been revised\\ndown by around 2 GtCO 2(Table 9).\\n\\nHowever, as CO 2ERF\\nand human-induced warming estimates depend on concen-\\ntrations, not emissions, this does not affect most of the other\\nﬁndings.\\n\\nNote it does slightly increase the remaining carbon\\nbudget, but this is only by 5 GtCO 2, less than the 50 GtCO 2\\nrounding precision.\\n\\nFigure 8 summarises contributions to warming, repeating\\nFig.\\n\\n2.1 of the AR6 Synthesis Report (Lee et al., 2023).\\n\\nIt\\nhighlights changes since the assessment period in AR6 WGI.\\n\\nTable 9 also summarises methodological updates.\\n\\nIt is hoped that this update can support the science com-\\nmunity in its collection and provision of reliable and timely\\nglobal climate data.\\n\\nIn future years we are particularly in-\\nterested in improving SLCF updating methods to get a more\\naccurate estimate of short-term ERF changes.\\n\\nThe work also\\nhighlights the importance of high-quality metadata to doc-\\nument changes in methodological approaches over time.\\n\\nIn\\nfuture years we hope to improve the robustness of the in-\\ndicators presented here but also extend the breadth of indi-\\ncators reported through coordinated research activities.\\n\\nFor\\nexample, we could begin to make use of new satellite data\\ninversion techniques to infer recent emissions.\\n\\nWe are partic-\\nularly interested in exploring how we might update indicators\\nof regional climate extremes and their attribution, which are\\nparticularly relevant for supporting actions on adaptation and\\nloss and damage.\\n\\nGenerally, scientists and scientiﬁc organisations such as\\nthe WMO and IPCC have an important role as “watchdogs”\\nto critically inform evidence-based decision-making.\\n\\nThis\\nannual update traced to IPCC methods can provide a reliable,\\ntimely source of trustworthy information.\\n\\nAs well as helping\\ninform decisions, we can use the update to track changes in\\ndataset homogeneity between their use in one IPCC report\\nand the next.\\n\\nWe can also provide information and testing to\\nmotivate updates in methods that future IPCC reports might\\nchoose to employ.\\n\\nFigure 9 shows decadal trends for the attributed warming\\nand ERF.\\n\\nThe most recent trends were unprecedented at the\\ntime of AR6 and have increased further since then (red mark-\\ners), showing that human activities are consistently causing\\nglobal warming recently of more than 0.2◦C per decade.\\n\\nAs\\nnations and businesses forge climate policies and take mean-\\ningful action, the latest available evidence shows that global\\nactions are not yet at the scale to manifest a substantive shift\\nin the direction of global human inﬂuence on the Earth’s en-\\nFigure 9.\\n\\nDecadal trends in human-induced warming on the left\\naxis and anthropogenic effective radiative forcing (ERF) on the\\nright axis.\\n\\nThese are computed from the Global Warming In-\\ndex human-induced warming estimate shown in the Supplement,\\nSect.\\n\\nS7 and Fig.\\n\\n2b, respectively.\\n\\nThe red points mark 3 additional\\nyears since the AR6 time series for these indicators ended in 2019.\\nergy imbalance and the resulting global warming.\\n\\nIndeed,\\nour results point to the opposite: the evidence shows contin-\\nued increase in cumulative CO 2emissions, increased emis-\\nsions of other GHGs and gains in air quality at the expense\\nof the loss of the cooling effect from aerosols.': [0.2,\n",
       "  '../data/rag-agent-data\\\\copernicus-report.pdf'],\n",
       " 'P .\\n\\nM. Forster et al.\\n\\n: Indicators of Global Climate Change 2022: annual update 2327\\nhttps://doi.org/10.26050/WDCC/GCOS_EHI_1960-\\n2020_IWHC, 2022.\\n\\nVanderkelen, I., van Lipzig, N. P. M., Lawrence, D. M., Drop-\\npers, B., Golub, M., Gosling, S. N., Janssen, A.\\n\\nB. G., Marcé,\\nR., Schmied, H. M., Perroud, M., Pierson, D., Pokhrel, Y .,\\nSatoh, Y ., Schewe, J., Seneviratne, S. I., Stepanenko, V .\\n\\nM.,\\nTan, Z., Woolway, R. I., and Thiery, W.: Global Heat Uptake\\nby Inland Waters, Geophys.\\n\\nRes.\\n\\nLett., 47, e2020GL087867,\\nhttps://doi.org/10.1029/2020GL087867, 2020.\\nvan Marle, M. J. E., Kloster, S., Magi, B. I., Marlon, J. R., Da-\\nniau, A.-L., Field, R. D., Arneth, A., Forrest, M., Hantson,\\nS., Kehrwald, N. M., Knorr, W., Lasslop, G., Li, F., Man-\\ngeon, S., Yue, C., Kaiser, J. W., and van der Werf, G. R.: His-\\ntoric global biomass burning emissions for CMIP6 (BB4CMIP)\\nbased on merging satellite observations with proxies and ﬁre\\nmodels (1750–2015), Geosci.\\n\\nModel Dev., 10, 3329–3357,\\nhttps://doi.org/10.5194/gmd-10-3329-2017, 2017.\\n\\nV ollmer, M. K., Young, D., Trudinger, C. M., Mühle, J., Henne, S.,\\nRigby, M., Park, S., Li, S., Guillevic, M., Mitrevski, B., Harth,\\nC. M., Miller, B. R., Reimann, S., Yao, B., Steele, L. P., Wyss, S.\\nA., Lunder, C. R., Arduini, J., McCulloch, A., Wu, S., Rhee, T.\\nS., Wang, R. H. J., Salameh, P. K., Hermansen, O., Hill, M., Lan-\\ngenfelds, R. L., Ivy, D., O’Doherty, S., Krummel, P. B., Maione,\\nM., Etheridge, D. M., Zhou, L., Fraser, P. J., Prinn, R. G., Weiss,\\nR. F., and Simmonds, P. G.: Atmospheric histories and emissions\\nof chloroﬂuorocarbons CFC-13 (CClF 3),6CFC-114 (C 2Cl2F4),\\nand CFC-115 (C 2ClF5), Atmos.\\n\\nChem.\\n\\nPhys., 18, 979–1002,\\nhttps://doi.org/10.5194/acp-18-979-2018, 2018.\\nvon Schuckmann, K., Cheng, L., Palmer, M. D., Hansen, J.,\\nTassone, C., Aich, V ., Adusumilli, S., Beltrami, H., Boyer,\\nT., Cuesta-Valero, F. J., Desbruyères, D., Domingues, C.,\\nGarcía-García, A., Gentine, P., Gilson, J., Gorfer, M., Haim-\\nberger, L., Ishii, M., Johnson, G. C., Killick, R., King, B.\\n\\nA., Kirchengast, G., Kolodziejczyk, N., Lyman, J., Marzeion,\\nB., Mayer, M., Monier, M., Monselesan, D. P., Purkey, S.,\\nRoemmich, D., Schweiger, A., Seneviratne, S. I., Shepherd, A.,\\nSlater, D. A., Steiner, A. K., Straneo, F., Timmermans, M.-L.,\\nand Wijffels, S. E.: Heat stored in the Earth system: where\\ndoes the energy go?, Earth Syst.\\n\\nSci.\\n\\nData, 12, 2013–2041,\\nhttps://doi.org/10.5194/essd-12-2013-2020, 2020.\\nvon Schuckmann, K., Minière, A., Gues, F., Cuesta-Valero, F. J.,\\nKirchengast, G., Adusumilli, S., Straneo, F., Ablain, M., Allan,\\nR. P., Barker, P. M., Beltrami, H., Blazquez, A., Boyer, T., Cheng,\\nL., Church, J., Desbruyeres, D., Dolman, H., Domingues, C. M.,\\nGarcía-García, A., Giglio, D., Gilson, J. E., Gorfer, M., Haim-\\nberger, L., Hakuba, M. Z., Hendricks, S., Hosoda, S., Johnson, G.\\nC., Killick, R., King, B., Kolodziejczyk, N., Korosov, A., Krin-\\nner, G., Kuusela, M., Landerer, F. W., Langer, M., Lavergne,\\nT., Lawrence, I., Li, Y ., Lyman, J., Marti, F., Marzeion, B.,\\nMayer, M., MacDougall, A. H., McDougall, T., Monselesan,\\nD. P., Nitzbon, J., Otosaka, I., Peng, J., Purkey, S., Roemmich,\\nD., Sato, K., Sato, K., Savita, A., Schweiger, A., Shepherd, A.,\\nSeneviratne, S. I., Simons, L., Slater, D. A., Slater, T., Steiner, A.\\nK., Suga, T., Szekely, T., Thiery, W., Timmermans, M.-L., Van-\\nderkelen, I., Wjiffels, S. E., Wu, T., and Zemp, M.: Heat stored in\\nthe Earth system 1960–2020: where does the energy go?, Earth\\nSyst.\\n\\nSci.': [0.16666666666666666,\n",
       "  '../data/rag-agent-data\\\\copernicus-report.pdf'],\n",
       " '2298 P .\\n\\nM. Forster et al.\\n\\n: Indicators of Global Climate Change 2022: annual update\\nable to reports published as part of the AR6 cycle.\\n\\nWe employ\\ndatasets that can be updated on a regular basis between the\\npublication of IPCC reports.\\n\\nNote that there are other similar\\ninitiatives underway to update other AR6 cycle products; for\\nexample, the evolution of the WGI Interactive Atlas (Gutiér-\\nrez et al., 2021) is being developed under the Copernicus Cli-\\nmate Change Service (C3S) and has potential connections\\nand synergies with this initiative that will be explored in the\\nfuture.\\n\\nOur longer-term ambition is to rigorously track both cli-\\nmate system change and methodological improvements be-\\ntween IPCC report cycles, thereby building consistency and\\nawareness.\\n\\nAn example of why tracking methodological\\nchange is important was the updated estimate for historic\\nwarming (the increase in global surface temperature from\\n1850–1900 to 1986–2005).\\n\\nThis was 0.08 [ −0.01 to 0.12]◦C\\nhigher in the AR6 than in the ﬁfth assessment report (AR5)\\nand SR1.5.\\n\\nDatasets and methods of evaluating global tem-\\nperature changes altered between the AR5 and AR6, leading\\nto a small shift in the historical temperature.\\n\\nThis was re-\\nﬂected in changes between AR5 and AR6, whereas SR1.5\\nmostly relied on methodologies from AR5 (see AR6 WGI\\nCross Chap.\\n\\nBox 2.3, Gulev et al., 2021).\\n\\nAnnual updates\\nprovide indications of possible future methodological shifts\\nthat subsequent IPCC reports may make as science advances\\nand can detail their impact on perceived trends.\\n\\nThe update is organised as follows: emissions (Sect.\\n\\n2)\\nand greenhouse gas (GHG) concentrations (Sect.\\n\\n3) are used\\nto develop updated estimates of effective radiative forcing\\n(Sect.\\n\\n4).\\n\\nObservations of global surface temperature change\\n(Sect.\\n\\n5) and Earth’s energy imbalance (Sect.\\n\\n6) are key\\nglobal indicators of a warming world.\\n\\nThe global surface\\ntemperature change is formally attributed to human activity\\nin Sect.\\n\\n7, which tracks human-induced warming.\\n\\nSection 8\\nupdates the remaining carbon budget to policy-relevant tem-\\nperature thresholds.\\n\\nSection 9 gives an example of global-\\nscale indicators associated with climate extremes of maxi-\\nmum land surface temperatures.\\n\\nAn important purpose of the exercise is to make these indi-\\ncators widely available and understood.\\n\\nPlans for a web dash-\\nboard are discussed in Sect.\\n\\n10 and code and data availability\\nin Sect.\\n\\n11, and conclusions are presented in Sect.\\n\\n12.\\n\\nData\\nare available at https://doi.org/10.5281/zenodo.8000192\\n(Smith et al., 2023a).\\n\\n2 Emissions\\nHistoric emissions from human activity were assessed in\\nboth AR6 WGI and WGIII.\\n\\nChapter 5 of WGI assessed\\nCO2and CH 4emissions in the context of the carbon cycle\\n(Canadell et al., 2021).\\n\\nChapter 6 of WGI assessed emis-\\nsions in the context of understanding the climate and air\\nquality impacts of short-lived climate forcers (Szopa et al.,\\n2021).\\n\\nChapter 2 of WGIII, published 1 year later (Dhakalet al., 2022), looked at the sectoral sources of emissions and\\ngave the most up-to-date understanding of the current level of\\nemissions.\\n\\nThis section bases its methods and data on those\\nemployed in this WGIII chapter.\\n\\n2.1 Methods of estimating greenhouse gas emissions\\nchanges\\nLike in AR6 WGIII, net GHG emissions in this paper re-\\nfer to releases of GHGs from anthropogenic sources minus\\nremovals by anthropogenic sinks, for those species of gases\\nthat are reported under the common reporting format of the\\nUNFCCC.\\n\\nThis includes CO 2emissions from fossil fuels\\nand industry (CO 2-FFI); net CO 2emissions from land use,\\nland-use change and forestry (CO 2-LULUCF); CH 4; N2O;\\nand ﬂuorinated gas (F-gas) emissions.\\n\\nCO 2-FFI mainly com-\\nprises fossil-fuel combustion emissions, as well as emis-\\nsions from industrial processes such as cement production.\\n\\nThis excludes biomass and biofuel use by industry.': [0.16666666666666666,\n",
       "  '../data/rag-agent-data\\\\copernicus-report.pdf'],\n",
       " 'P .\\n\\nM. Forster et al.\\n\\n: Indicators of Global Climate Change 2022: annual update 2321\\nPanthou, G., Pham, C., Rahimzadeh, F., Ramos, A., Salgado, E.,\\nSalinger, J., Sané, Y ., Sopaheluwakan, A., Srivastava, A., Sun,\\nY ., Timbal, B., Trachow, N., Trewin, B., Schrier, G., Vazquez-\\nAguirre, J., Vasquez, R., Villarroel, C., Vincent, L., Vischel,\\nT., V ose, R., and Bin Hj Yussof, M. N.: Development of an\\nupdated global land in situ-based data set of temperature and\\nprecipitation extremes: HadEX3, J. Geophys.\\n\\nRes.-Atmos., 125,\\ne2019JD032263, https://doi.org/10.1029/2019JD032263, 2020.\\n\\nDunn, R. J. H., Donat, M. G., and Alexander, L. V .\\n\\n:\\nComparing extremes indices in recent observational\\nand reanalysis products, Front.\\n\\nClim., 4, 98905,\\nhttps://doi.org/10.3389/fclim.2022.989505, 2022.\\n\\nDunn, R. J. H., Alexander, L., Donat, M., Zhang, X., Bador, M.,\\nHerold, N., Lippmann, T., Allan, R. J., Aguilar, E., Aziz, A.,\\nBrunet, M., Caesar, J., Chagnaud, G., Cheng, V ., Cinco, T.,\\nDurre, I., de Guzman, R., Htay, T. M., Wan Ibadullah, W. M., Bin\\nIbrahim, M. K. I., Khoshkam, M., Kruge, A., Kubota, H., Leng,\\nT. W., Lim, G., Li-Sha, L., Marengo, J., Mbatha, S., McGree, S.,\\nMenne, M., de los Milagros Skansi, M., Ngwenya, S., Nkrumah,\\nF., Oonariya, C., Pabon-Caicedo, J. D., Panthou, G., Pham, C.,\\nRahimzadeh, F., Ramos, A., Salgado, E., Salinger, J., Sane, Y .,\\nSopaheluwakan, A., Srivastava, A., Sun, Y ., Trimbal, B., Tra-\\nchow, N., Trewin, B., van der Schrier, G., Vazquez-Aguirre, J.,\\nVasquez, R., Villarroel, C., Vincent, L., Vischel, T., V ose, R., and\\nBin Hj Yussof, M. N. A.: HadEX3: Global land-surface climate\\nextremes indices v3.0.4 (1901–2018), NERC EDS Centre for\\nEnvironmental Data Analysis [data set], https://catalogue.ceda.\\n\\nac.uk/uuid/115d5e4ebf7148ec941423ec86fa9f26 (last access: 5\\nJune 2023), 2023.\\n\\nEyring, V ., Gillett, N. P., Achuta Rao, K. M., Barimalala, R., Bar-\\nreiro Parrillo, M., Bellouin, N., Cassou, C., Durack, P. J., Kosaka,\\nY ., McGregor, S., Min, S., Morgenstern, O., and Sun, Y .\\n\\n: Hu-\\nman Inﬂuence on the Climate System, in: Climate Change 2021:\\nThe Physical Science Basis, Contribution of Working Group I to\\nthe Sixth Assessment Report of the Intergovernmental Panel on\\nClimate Change, edited by: Masson-Delmotte, V ., Zhai, P., Pi-\\nrani, A., Connors, S. L., Péan, C., Berger, S., Caud, N., Chen,\\nY ., Goldfarb, L., Gomis, M. I., Huang, M., Leitzell, K., Lonnoy,\\nE., Matthews, J.\\n\\nB. R., Maycock, T. K., Waterﬁeld, T., Yelekçi,\\nO., Yu, R., and Zhou, B., Cambridge University Press, Cam-\\nbridge, United Kingdom and New York, NY , USA, pp.\\n\\n423–552,\\nhttps://doi.org/10.1017/9781009157896.005, 2021.\\n\\nForster, P. M., Forster, H. I., Evans, M. J., Gidden, M. J., Jones,\\nC. D., Keller, C. A., Lamboll, R. D., Le Quéré, C., Rogelj, J.,\\nRosen, D., Schleussner, C. F., Richardson, T. B., Smith, C. J.,\\nand Turnock, S. T.: Current and future global climate impacts\\nresulting from COVID-19, Nature Clim.\\n\\nChang, 10, 913–919,\\nhttps://doi.org/10.1038/s41558-020-0883-0, 2020.\\n\\nForster, P., Storelvmo, T., Armour, K., Collins, W., Dufresne, J.-\\nL., Frame, D., Lunt, D. J., Mauritsen, T., Palmer, M. D., Watan-\\nabe, M., Wild, M., and Zhang, H.: The Earth’s Energy Budget,\\nClimate Feedbacks, and Climate Sensitivity, in: Climate Change\\n2021: The Physical Science Basis, Contribution of Working\\nGroup I to the Sixth Assessment Report of the Intergovernmen-\\ntal Panel on Climate Change, edited by: Masson-Delmotte, V .,\\nZhai, P., Pirani, A., Connors, S. L., Péan, C., Berger, S., Caud,\\nN., Chen, Y ., Goldfarb, L., Gomis, M. I., Huang, M., Leitzell, K.,\\nLonnoy, E., Matthews, J.\\n\\nB. R., Maycock, T. K., Waterﬁeld, T.,\\nYelekçi, O., Yu, R., and Zhou, B., Cambridge University Press,Cambridge, United Kingdom and New York, NY , USA, pp.\\n\\n923–\\n1054, https://doi.org/10.1017/9781009157896.009, 2021.': [0.14285714285714285,\n",
       "  '../data/rag-agent-data\\\\copernicus-report.pdf'],\n",
       " 'The AR6 WGI Report, published in 2021,\\nassessed past, current and future changes of these and other\\nkey global climate indicators, as well as undertaking an as-\\nsessment of the Earth’s energy budget.\\n\\nIt also updated its ap-\\nproach for estimating human-induced warming and global\\nwarming level.\\n\\nIn AR6 WGI and here, reaching a level of\\nglobal warming is deﬁned as the global surface temperature\\nchange, averaged over a 20-year period, exceeding a par-\\nticular level of global warming, for example, 1.5◦C global\\nwarming.\\n\\nGiven the current rates of change and the likeli-\\nhood of reaching 1.5◦C of global warming in the ﬁrst half\\nof the 2030s (Lee et al., 2021, 2023; Riahi et al., 2022), it\\nis important to have robust, trusted and also timely climate\\nindicators in the public domain to form an evidence base for\\neffective science-based decision-making.\\n\\nWhen making their assessments, authors of IPCC reports\\nassess published literature but also apply established pub-\\nlished analysis methods to assessed datasets, such as the\\ndataset produced by the latest climate model intercompar-\\nison projects (Lee et al., 2021).\\n\\nThe authors combine and\\nanalyse both model and observational data as part of their\\nexpert assessment, making assessments of the trustworthi-\\nness and error characteristics of different datasets.\\n\\nIt is this\\nsynthetic analysis by IPCC authors that derives the estimates\\nof key climate indicators.\\n\\nWherever possible, these same as-\\nsessed methodological approaches are implemented here to\\nprovide the updates with variations clearly ﬂagged and doc-\\numented.\\n\\nThe same approach, using the same datasets (up-\\ndated by 2 years) and methods as employed in WGI, was\\nused in the AR6 Synthesis Report (2023) (AR6 SYR; Lee\\net al., 2023) to provide an updated assessment of the latest\\natmospheric well-mixed greenhouse gas concentrations (up\\nto 2021) and decadal average change in global surface tem-\\nperature (+1.15◦C [1.00–1.25◦C] in 2013–2022 for global\\nsurface temperature).\\n\\nHowever, the assessment of human-\\ninduced warming was not updated (and therefore only covers\\nwarming up to the decade 2010–2019), nor was the remain-\\ning carbon budget updated, so the related information in the\\nAR6 SYR report remained based on data up to the end of\\n2019.\\n\\nThe indicators in this ﬁrst annual update give important\\ninsights into the magnitude and the pace of global warming.\\n\\nThis paper provides the basis for a dashboard of climate in-\\ndicators grounded in IPCC methodologies and directly trace-\\nhttps://doi.org/10.5194/essd-15-2295-2023 Earth Syst.\\n\\nSci.\\n\\nData, 15, 2295–2327, 2023': [0.125,\n",
       "  '../data/rag-agent-data\\\\copernicus-report.pdf']}"
      ]
     },
     "execution_count": 22,
     "metadata": {},
     "output_type": "execute_result"
    }
   ],
   "source": [
    "# function to re-rank the search results into a unified result set\n",
    "\n",
    "def reciprocal_rank_fusion(search_results_dict, k=5):\n",
    "    \"\"\"\n",
    "    Applies reciprocal rank fusion on the provided search results dictionary.\n",
    "\n",
    "    Args:\n",
    "        search_results_dict (dict): A dictionary where each key is a query, and value is a list of (Document, score) tuples.\n",
    "        k (int): The rank offset to apply in the reciprocal calculation.\n",
    "\n",
    "    Returns:\n",
    "        dict: A dictionary of documents (page content) with their fused scores and source, sorted in descending order of score.\n",
    "    \"\"\"\n",
    "    fused_scores = {}\n",
    "\n",
    "    for query, doc_scores in search_results_dict.items():\n",
    "        for rank, (doc, score) in enumerate(sorted(doc_scores, key=lambda x: x[1], reverse=True)):\n",
    "            doc_identifier = doc.page_content  # page content as unique identifier\n",
    "            doc_source = doc.metadata.get('source', 'unknown')\n",
    "            \n",
    "            if doc_identifier not in fused_scores:\n",
    "                fused_scores[doc_identifier] = [0, doc_source]\n",
    "            \n",
    "            # update the score\n",
    "            fused_scores[doc_identifier][0] += 1 / (rank + k)\n",
    "\n",
    "    # sort docs by fused score in descending order\n",
    "    reranked_results = {doc: [score, source] for doc, (score, source) in sorted(fused_scores.items(), key=lambda x: x[1][0], reverse=True)}\n",
    "\n",
    "    print(f\"----- RE-RANKING -----\\nDOCUMENTS RERANKED SUCCESSFULLY!\")\n",
    "\n",
    "    return reranked_results\n",
    "\n",
    "\n",
    "reranked_results = reciprocal_rank_fusion(sim_results)\n",
    "reranked_results"
   ]
  },
  {
   "cell_type": "markdown",
   "metadata": {},
   "source": [
    "## Generation"
   ]
  },
  {
   "cell_type": "code",
   "execution_count": 23,
   "metadata": {},
   "outputs": [],
   "source": [
    "# take top 3 graded & re-ranked results\n",
    "\n",
    "top3_reranked_results = dict(list(reranked_results.items())[:3])"
   ]
  },
  {
   "cell_type": "code",
   "execution_count": 24,
   "metadata": {},
   "outputs": [
    {
     "name": "stdout",
     "output_type": "stream",
     "text": [
      "The carbon budget calculations can be found on Zenodo and Github. The code for estimation of the remaining carbon budget in IPCC AR6 WGI is available on Zenodo at https://doi.org/10.5281/zenodo.6373365. The Carbon Budget Calculator is available on Github at https://github.com/Rlamboll/AR6CarbonBudgetCalc.\n"
     ]
    }
   ],
   "source": [
    "# generate initial result\n",
    "\n",
    "prompt = PromptTemplate(\n",
    "    template=\"\"\"\n",
    "        You are an assistant for question-answering tasks. \n",
    "        Use the following pieces of retrieved context to answer the question. If you don't know the answer, just say that you don't know. \n",
    "        Be as concise and as precise as possible. Use maximum of 400 completion tokens for your response.\n",
    "        Question: {question} \n",
    "        Context: {context} \n",
    "        Answer: \n",
    "    \"\"\",\n",
    "    input_variables=[\"question\", \"context\"],\n",
    ")\n",
    "\n",
    "rag_chain = prompt | oai | StrOutputParser()\n",
    "\n",
    "# chain\n",
    "init_generation = rag_chain.invoke({\"context\": top3_reranked_results, \"question\": user_query})\n",
    "print(init_generation)"
   ]
  }
 ],
 "metadata": {
  "kernelspec": {
   "display_name": ".venv",
   "language": "python",
   "name": "python3"
  },
  "language_info": {
   "codemirror_mode": {
    "name": "ipython",
    "version": 3
   },
   "file_extension": ".py",
   "mimetype": "text/x-python",
   "name": "python",
   "nbconvert_exporter": "python",
   "pygments_lexer": "ipython3",
   "version": "3.11.3"
  }
 },
 "nbformat": 4,
 "nbformat_minor": 2
}
