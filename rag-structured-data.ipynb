{
 "cells": [
  {
   "cell_type": "code",
   "execution_count": 1,
   "metadata": {},
   "outputs": [],
   "source": [
    "from langchain.agents import create_sql_agent\n",
    "from langchain.agents.agent_toolkits import SQLDatabaseToolkit\n",
    "from langchain_community.chat_models import ChatOpenAI\n",
    "from langchain_core.messages import HumanMessage\n",
    "from langchain_openai import AzureChatOpenAI\n",
    "from langchain.sql_database import SQLDatabase\n",
    "import os\n",
    "from langchain.agents.types import AgentType\n",
    "from sqlalchemy import create_engine\n",
    "\n",
    "from dotenv import load_dotenv\n",
    "import pyodbc \n",
    "import urllib  "
   ]
  },
  {
   "cell_type": "code",
   "execution_count": 2,
   "metadata": {},
   "outputs": [],
   "source": [
    "# load envs\n",
    "\n",
    "load_dotenv()\n",
    "\n",
    "# Azure SQL DB\n",
    "AZURE_SQL_SERVER_ADMIN = os.environ.get('AZURE_SQL_SERVER_ADMIN')\n",
    "AZURE_SQL_SERVER_PWD = os.environ.get('AZURE_SQL_SERVER_PWD')\n",
    "AZURE_SQL_SERVER = os.environ.get('AZURE_SQL_SERVER')\n",
    "DRIVER = os.environ.get('DRIVER')\n",
    "\n",
    "# OpenAI\n",
    "AZURE_SQL_DATABASE = os.environ.get('AZURE_SQL_DATABASE')\n",
    "AZURE_OPENAI_API_KEY = os.environ.get(\"AZURE_OPENAI_API_KEY\")\n",
    "AZURE_OPENAI_ENDPOINT = os.environ.get('AZURE_OPENAI_ENDPOINT')\n",
    "AZURE_OPENAI_VERSION = os.environ.get('AZURE_OPENAI_VERSION')\n",
    "AZURE_OPENAI_DEPLOYMENT_NAME = os.environ.get('AZURE_OPENAI_DEPLOYMENT_NAME')"
   ]
  },
  {
   "cell_type": "code",
   "execution_count": 3,
   "metadata": {},
   "outputs": [],
   "source": [
    "# connect via pyodbc\n",
    "\n",
    "CONNECTION_STRING = f'DRIVER={DRIVER};SERVER=tcp:{AZURE_SQL_SERVER},1433;DATABASE={AZURE_SQL_DATABASE};UID={AZURE_SQL_SERVER_ADMIN};PWD={AZURE_SQL_SERVER_PWD}'\n",
    "cnxn = pyodbc.connect(CONNECTION_STRING)\n",
    "cursor = cnxn.cursor()"
   ]
  },
  {
   "cell_type": "code",
   "execution_count": 4,
   "metadata": {},
   "outputs": [],
   "source": [
    "# create engine\n",
    "\n",
    "ODBC_CONNECTION_STRING = f\"Driver={DRIVER};Server=tcp:{AZURE_SQL_SERVER},1433;Database={AZURE_SQL_DATABASE};Uid={AZURE_SQL_SERVER_ADMIN};Pwd={AZURE_SQL_SERVER_PWD};Encrypt=yes;TrustServerCertificate=no;Connection Timeout=30;\"\n",
    "ODBC_CONNECTION_STRING = urllib.parse.quote_plus(ODBC_CONNECTION_STRING) \n",
    "ODBC_CONNECTION_STRING = \"mssql+pyodbc:///?odbc_connect=%s\" % ODBC_CONNECTION_STRING\n",
    "\n",
    "db_engine = create_engine(ODBC_CONNECTION_STRING)\n",
    "\n",
    "# initialize db for RAG\n",
    "db = SQLDatabase(db_engine)"
   ]
  },
  {
   "cell_type": "code",
   "execution_count": 5,
   "metadata": {},
   "outputs": [
    {
     "data": {
      "text/plain": [
       "\"J'aime la programmation.\""
      ]
     },
     "execution_count": 5,
     "metadata": {},
     "output_type": "execute_result"
    }
   ],
   "source": [
    "oai = AzureChatOpenAI(\n",
    "    openai_api_version=AZURE_OPENAI_VERSION,\n",
    "    azure_deployment=AZURE_OPENAI_DEPLOYMENT_NAME,\n",
    ")\n",
    "\n",
    "# test\n",
    "message = HumanMessage(\n",
    "    content=\"Translate this sentence from English to French. I love programming.\"\n",
    ")\n",
    "oai.invoke([message]).content"
   ]
  },
  {
   "cell_type": "code",
   "execution_count": 6,
   "metadata": {},
   "outputs": [],
   "source": [
    "# create sql toolkit for the agent\n",
    "sql_toolkit = SQLDatabaseToolkit(db=db, llm=oai)\n",
    "\n",
    "# create SQL agent\n",
    "agent_executor = create_sql_agent(\n",
    "    llm=oai,\n",
    "    toolkit=sql_toolkit,\n",
    "    verbose=True,\n",
    "    agent_type=AgentType.ZERO_SHOT_REACT_DESCRIPTION\n",
    ")\n"
   ]
  },
  {
   "cell_type": "markdown",
   "metadata": {},
   "source": [
    "## Test"
   ]
  },
  {
   "cell_type": "code",
   "execution_count": 13,
   "metadata": {},
   "outputs": [],
   "source": [
    "question = \"How many Batteries/ UPS do we have with the minimum price of 1000 MYR?\""
   ]
  },
  {
   "cell_type": "code",
   "execution_count": 14,
   "metadata": {},
   "outputs": [
    {
     "name": "stdout",
     "output_type": "stream",
     "text": [
      "\n",
      "\n",
      "\u001b[1m> Entering new SQL Agent Executor chain...\u001b[0m\n",
      "\u001b[32;1m\u001b[1;3mFirst, I need to find the table that contains information about the Batteries/UPS and their prices. Then I can write an SQL query to count the number of Batteries/UPS with the minimum price of 1000 MYR.\n",
      "Action: sql_db_list_tables\n",
      "Action Input: \"\"\u001b[0m\u001b[38;5;200m\u001b[1;3mMedical Equipment Spare Part Inventories\u001b[0m\u001b[32;1m\u001b[1;3mThe \"Medical Equipment Spare Part Inventories\" table might contain the information I need. I should check its schema to verify.\n",
      "Action: sql_db_schema\n",
      "Action Input: Medical Equipment Spare Part Inventories\u001b[0m\u001b[33;1m\u001b[1;3m\n",
      "CREATE TABLE [Medical Equipment Spare Part Inventories] (\n",
      "\t[Item_Code] NVARCHAR(50) COLLATE SQL_Latin1_General_CP1_CI_AS NULL, \n",
      "\t[Item_Description] NVARCHAR(100) COLLATE SQL_Latin1_General_CP1_CI_AS NULL, \n",
      "\t[Part_No] NVARCHAR(50) COLLATE SQL_Latin1_General_CP1_CI_AS NULL, \n",
      "\t[Part_Description] NVARCHAR(100) COLLATE SQL_Latin1_General_CP1_CI_AS NULL, \n",
      "\t[Model] NVARCHAR(50) COLLATE SQL_Latin1_General_CP1_CI_AS NULL, \n",
      "\t[Unit_Of_Measurement] NVARCHAR(50) COLLATE SQL_Latin1_General_CP1_CI_AS NULL, \n",
      "\t[Spare_Part_Type] NVARCHAR(50) COLLATE SQL_Latin1_General_CP1_CI_AS NULL, \n",
      "\t[Location] NVARCHAR(50) COLLATE SQL_Latin1_General_CP1_CI_AS NULL, \n",
      "\t[Specify] NVARCHAR(50) COLLATE SQL_Latin1_General_CP1_CI_AS NULL, \n",
      "\t[Part_Category] NVARCHAR(50) COLLATE SQL_Latin1_General_CP1_CI_AS NULL, \n",
      "\t[Is_Expiry_date_Required] NVARCHAR(50) COLLATE SQL_Latin1_General_CP1_CI_AS NULL, \n",
      "\t[Min_Nos] TINYINT NULL, \n",
      "\t[Max_Nos] SMALLINT NULL, \n",
      "\t[Minimum_Price_Per_Nos_RM] NVARCHAR(50) COLLATE SQL_Latin1_General_CP1_CI_AS NULL, \n",
      "\t[Maximum_Price_Per_Nos_RM] NVARCHAR(50) COLLATE SQL_Latin1_General_CP1_CI_AS NULL, \n",
      "\t[Brand] NVARCHAR(50) COLLATE SQL_Latin1_General_CP1_CI_AS NULL, \n",
      "\t[Status] NVARCHAR(50) COLLATE SQL_Latin1_General_CP1_CI_AS NULL, \n",
      "\t[Expiry_Age_In_Month] TINYINT NULL, \n",
      "\t[Current_Stock_Level] SMALLINT NULL\n",
      ")\n",
      "\n",
      "/*\n",
      "3 rows from Medical Equipment Spare Part Inventories table:\n",
      "Item_Code\tItem_Description\tPart_No\tPart_Description\tModel\tUnit_Of_Measurement\tSpare_Part_Type\tLocation\tSpecify\tPart_Category\tIs_Expiry_date_Required\tMin_Nos\tMax_Nos\tMinimum_Price_Per_Nos_RM\tMaximum_Price_Per_Nos_RM\tBrand\tStatus\tExpiry_Age_In_Month\tCurrent_Stock_Level\n",
      "BP0018\tMotors/ Micromotors/ Carbon brushes\t01-0802-0503-085\tFlow motor\tNone\tUnit\tFast Moving Item\tCompany Site Office\tNone\tBiomedical\tYes\t1\t3\tMYR 500,00 \tMYR 800,00 \tCommon\tActive\t0\t0\n",
      "BP0025\tSensors/ Detectors\t01-0101-0101-044\tO2 Sensor OOM202\tNone\tUnit\tOne Off\tCentralized\tNone\tBiomedical\tYes\t1\t5\tMYR 280,00 \tMYR 380,00 \tCommon\tActive\t0\t0\n",
      "BP0005\tCasing/ Covers/ Brackets/ Latches/ Part Holders\t01-0802-0504-011\tDoor 22MM Bubble C.Holder 4008SV10\tFresenius 4008S NG\tUnit\tJust In Time\tCompany Site Office\tNone\tBiomedical\tNo\t1\t3\tMYR 800,00 \tMYR 826,80 \tFresenius\tActive\t0\t3\n",
      "*/\u001b[0m\u001b[32;1m\u001b[1;3mThe \"Medical Equipment Spare Part Inventories\" table contains a column named \"Minimum_Price_Per_Nos_RM\" which could be the price of the items. There is also a column named \"Item_Description\" which could contain the information about the type of the item (Batteries/UPS). I can write an SQL query to count the number of Batteries/UPS with the minimum price of 1000 MYR.\n",
      "Action: sql_db_query_checker\n",
      "Action Input: \n",
      "SELECT COUNT(*) \n",
      "FROM [Medical Equipment Spare Part Inventories]\n",
      "WHERE Item_Description LIKE '%Battery%' OR Item_Description LIKE '%UPS%'\n",
      "AND Minimum_Price_Per_Nos_RM >= 'MYR 1000,00'\u001b[0m\u001b[36;1m\u001b[1;3mSELECT COUNT(*) \n",
      "FROM [Medical Equipment Spare Part Inventories]\n",
      "WHERE (Item_Description LIKE '%Battery%' OR Item_Description LIKE '%UPS%')\n",
      "AND Minimum_Price_Per_Nos_RM >= 1000.00\u001b[0m\u001b[32;1m\u001b[1;3mThe SQL query is correct, but I need to adjust the condition for Minimum_Price_Per_Nos_RM, because it's a string type in the database. I should convert it to a number before comparing it to 1000.\n",
      "Action: sql_db_query\n",
      "Action Input: \n",
      "SELECT COUNT(*) \n",
      "FROM [Medical Equipment Spare Part Inventories]\n",
      "WHERE (Item_Description LIKE '%Battery%' OR Item_Description LIKE '%UPS%')\n",
      "AND CAST(REPLACE(Minimum_Price_Per_Nos_RM, 'MYR ', '') AS FLOAT) >= 1000.00\u001b[0m\u001b[36;1m\u001b[1;3mError: (pyodbc.ProgrammingError) ('42000', '[42000] [Microsoft][ODBC Driver 17 for SQL Server][SQL Server]Error converting data type nvarchar to float. (8114) (SQLExecDirectW)')\n",
      "[SQL: SELECT COUNT(*) \n",
      "FROM [Medical Equipment Spare Part Inventories]\n",
      "WHERE (Item_Description LIKE '%Battery%' OR Item_Description LIKE '%UPS%')\n",
      "AND CAST(REPLACE(Minimum_Price_Per_Nos_RM, 'MYR ', '') AS FLOAT) >= 1000.00]\n",
      "(Background on this error at: https://sqlalche.me/e/20/f405)\u001b[0m\u001b[32;1m\u001b[1;3mThe SQL query failed because the column \"Minimum_Price_Per_Nos_RM\" contains non-numeric characters that can't be converted to a float. I need to remove the comma and space from the value before casting it to a float.\n",
      "Action: sql_db_query_checker\n",
      "Action Input: \n",
      "SELECT COUNT(*) \n",
      "FROM [Medical Equipment Spare Part Inventories]\n",
      "WHERE (Item_Description LIKE '%Battery%' OR Item_Description LIKE '%UPS%')\n",
      "AND CAST(REPLACE(REPLACE(Minimum_Price_Per_Nos_RM, 'MYR ', ''), ',', '') AS FLOAT) >= 1000.00\u001b[0m\u001b[36;1m\u001b[1;3mSELECT COUNT(*) \n",
      "FROM [Medical Equipment Spare Part Inventories]\n",
      "WHERE (Item_Description LIKE '%Battery%' OR Item_Description LIKE '%UPS%')\n",
      "AND CAST(REPLACE(REPLACE(Minimum_Price_Per_Nos_RM, 'MYR ', ''), ',', '') AS FLOAT) >= 1000.00\u001b[0m\u001b[32;1m\u001b[1;3mThe SQL query is now correct. I can execute it to get the number of Batteries/UPS with a minimum price of 1000 MYR.\n",
      "Action: sql_db_query\n",
      "Action Input: \n",
      "SELECT COUNT(*) \n",
      "FROM [Medical Equipment Spare Part Inventories]\n",
      "WHERE (Item_Description LIKE '%Battery%' OR Item_Description LIKE '%UPS%')\n",
      "AND CAST(REPLACE(REPLACE(Minimum_Price_Per_Nos_RM, 'MYR ', ''), ',', '') AS FLOAT) >= 1000.00\u001b[0m\u001b[36;1m\u001b[1;3m[(66,)]\u001b[0m\u001b[32;1m\u001b[1;3mI now know the final answer\n",
      "Final Answer: We have 66 Batteries/UPS with the minimum price of 1000 MYR.\u001b[0m\n",
      "\n",
      "\u001b[1m> Finished chain.\u001b[0m\n"
     ]
    },
    {
     "data": {
      "text/plain": [
       "'We have 66 Batteries/UPS with the minimum price of 1000 MYR.'"
      ]
     },
     "execution_count": 14,
     "metadata": {},
     "output_type": "execute_result"
    }
   ],
   "source": [
    "# run agent executor\n",
    "\n",
    "agent_executor.run(question)"
   ]
  },
  {
   "cell_type": "markdown",
   "metadata": {},
   "source": [
    "## Retrieval Enhancements"
   ]
  },
  {
   "cell_type": "code",
   "execution_count": 17,
   "metadata": {},
   "outputs": [],
   "source": [
    "# Step 1: Improve the quality of a system prompt\n",
    "\n",
    "system_prompt = \"\"\" \n",
    "\n",
    "    You are the most powerful and skillfull expert in querying SQL Database to find answers to user's questions.\n",
    "\n",
    "    Your main task is to answer the USER QUERY. Utilize CONTEXT and COLUMN DESCRIPTIONS for better query understanding.\n",
    "\n",
    "    # CONTEXT\n",
    "    Table 'Medical Equipment Spare Part Inventories' contains spare parts information for maintaining a spare parts inventory management program\n",
    "\n",
    "    # COLUMN DESCRIPTIONS\n",
    "    - Item Code: A code that uniquely identifies each type of item or part in the inventory.\n",
    "    - Item Description: Provides a description of the item or part, which might include its general use or characteristics. This helps in identifying the item and understanding its application.\n",
    "    - Part No: The part number, which is a unique identifier assigned to a part for the purposes of inventory and ordering.\n",
    "    - Part Description: A brief description of the part, providing more details about its specifications or intended use in medical equipment.\n",
    "    - Unit Of Measurement: The unit in which the item is measured.\n",
    "    - Spare Part Type: Categorizes the part by its usage frequency or criticality, such as \"Fast Moving Item\" or \"One Off\".\n",
    "    - Location: Indicates where the part is stored or located, which can be crucial for logistics and inventory retrieval. For example, a \"Company Site Office\" or a specific warehouse location.\n",
    "    - Part Category: The category of the part, which helps in classifying parts into broader groups, such as \"Biomedical\" or \"Electrical\", aiding in management and reporting.\n",
    "    - Is Expiry date Required: Specifies whether an expiry date is required for the part, which is important for parts that are sensitive to age or environmental conditions.\n",
    "    - Min Nos: The minimum number of units that should be held in inventory for this part, which helps prevent understocking.\n",
    "    - Max Nos: The maximum number of units that should be held in inventory, which helps in preventing overstocking and managing storage space efficiently.\n",
    "    - Minimum Price Per Nos (RM): The minimum price per unit for the part, expressed in Malaysian Ringgit (RM). This could be used for budgeting and cost management.\n",
    "    - Maximum Price Per Nos (RM): The maximum price per unit for the part, also in Malaysian Ringgit. This might reflect different supplier costs or quality grades.\n",
    "    - Brand: The brand of the part, which can be a determinant of quality and preference for certain applications or compliance with specific equipment.\n",
    "    - Status: Indicates the current status of the part in the inventory (Active, Obsolete or Out of Stock)\n",
    "    - Expiry Age (In Month): If applicable, how many months until the part should be considered expired after receipt. This is particularly relevant for parts with critical performance characteristics that degrade over time.\n",
    "    - Current Stock Level: The current quantity of the part available in stock.\n",
    "\n",
    "    \n",
    "    # MANDATORY REQUIREMENTS\n",
    "    You never hallucinate.\n",
    "    You always answer precisely and constuctively.\n",
    "\n",
    "    # USER QUERY\n",
    "    {query}\n",
    "\n",
    "\"\"\""
   ]
  },
  {
   "cell_type": "code",
   "execution_count": 19,
   "metadata": {},
   "outputs": [
    {
     "name": "stdout",
     "output_type": "stream",
     "text": [
      "\n",
      "\n",
      "\u001b[1m> Entering new SQL Agent Executor chain...\u001b[0m\n",
      "\u001b[32;1m\u001b[1;3mTo answer the user query, I need to count the number of items that are classified as \"Fast Moving Item\" in the 'Medical Equipment Spare Part Inventories' table. The column that categorizes the part by its usage frequency or criticality, such as \"Fast Moving Item\" or \"One Off\", is 'Spare Part Type'. So, I will write a SQL query to count the number of items where 'Spare Part Type' is \"Fast Moving Item\".\n",
      "\n",
      "Action: sql_db_query_checker\n",
      "Action Input: SELECT COUNT(*) FROM `Medical Equipment Spare Part Inventories` WHERE `Spare Part Type` = 'Fast Moving Item'\u001b[0m\u001b[36;1m\u001b[1;3mSELECT COUNT(*) FROM `Medical Equipment Spare Part Inventories` WHERE `Spare Part Type` = 'Fast Moving Item'\u001b[0m\u001b[32;1m\u001b[1;3mThe SQL query has been checked and is correct. Now I will execute this query to get the answer.\n",
      "\n",
      "Action: sql_db_query\n",
      "Action Input: SELECT COUNT(*) FROM `Medical Equipment Spare Part Inventories` WHERE `Spare Part Type` = 'Fast Moving Item'\u001b[0m\u001b[36;1m\u001b[1;3mError: (pyodbc.ProgrammingError) ('42000', \"[42000] [Microsoft][ODBC Driver 17 for SQL Server][SQL Server]Incorrect syntax near '`'. (102) (SQLExecDirectW)\")\n",
      "[SQL: SELECT COUNT(*) FROM `Medical Equipment Spare Part Inventories` WHERE `Spare Part Type` = 'Fast Moving Item']\n",
      "(Background on this error at: https://sqlalche.me/e/20/f405)\u001b[0m\u001b[32;1m\u001b[1;3mIt seems like there is an error with the SQL query. The error message suggests that there is an incorrect syntax near '`'. It is possible that the table name or the column names are not correctly specified. I should check the database schema to verify the table name and the column names.\n",
      "\n",
      "Action: sql_db_list_tables\n",
      "Action Input: \"\"\u001b[0m\u001b[38;5;200m\u001b[1;3mMedical Equipment Spare Part Inventories\u001b[0m\u001b[32;1m\u001b[1;3mThe table name 'Medical Equipment Spare Part Inventories' appears to be correct as it is listed in the database. Now I need to verify the column names.\n",
      "\n",
      "Action: sql_db_schema\n",
      "Action Input: Medical Equipment Spare Part Inventories\u001b[0m\u001b[33;1m\u001b[1;3m\n",
      "CREATE TABLE [Medical Equipment Spare Part Inventories] (\n",
      "\t[Item_Code] NVARCHAR(50) COLLATE SQL_Latin1_General_CP1_CI_AS NULL, \n",
      "\t[Item_Description] NVARCHAR(100) COLLATE SQL_Latin1_General_CP1_CI_AS NULL, \n",
      "\t[Part_No] NVARCHAR(50) COLLATE SQL_Latin1_General_CP1_CI_AS NULL, \n",
      "\t[Part_Description] NVARCHAR(100) COLLATE SQL_Latin1_General_CP1_CI_AS NULL, \n",
      "\t[Model] NVARCHAR(50) COLLATE SQL_Latin1_General_CP1_CI_AS NULL, \n",
      "\t[Unit_Of_Measurement] NVARCHAR(50) COLLATE SQL_Latin1_General_CP1_CI_AS NULL, \n",
      "\t[Spare_Part_Type] NVARCHAR(50) COLLATE SQL_Latin1_General_CP1_CI_AS NULL, \n",
      "\t[Location] NVARCHAR(50) COLLATE SQL_Latin1_General_CP1_CI_AS NULL, \n",
      "\t[Specify] NVARCHAR(50) COLLATE SQL_Latin1_General_CP1_CI_AS NULL, \n",
      "\t[Part_Category] NVARCHAR(50) COLLATE SQL_Latin1_General_CP1_CI_AS NULL, \n",
      "\t[Is_Expiry_date_Required] NVARCHAR(50) COLLATE SQL_Latin1_General_CP1_CI_AS NULL, \n",
      "\t[Min_Nos] TINYINT NULL, \n",
      "\t[Max_Nos] SMALLINT NULL, \n",
      "\t[Minimum_Price_Per_Nos_RM] NVARCHAR(50) COLLATE SQL_Latin1_General_CP1_CI_AS NULL, \n",
      "\t[Maximum_Price_Per_Nos_RM] NVARCHAR(50) COLLATE SQL_Latin1_General_CP1_CI_AS NULL, \n",
      "\t[Brand] NVARCHAR(50) COLLATE SQL_Latin1_General_CP1_CI_AS NULL, \n",
      "\t[Status] NVARCHAR(50) COLLATE SQL_Latin1_General_CP1_CI_AS NULL, \n",
      "\t[Expiry_Age_In_Month] TINYINT NULL, \n",
      "\t[Current_Stock_Level] SMALLINT NULL\n",
      ")\n",
      "\n",
      "/*\n",
      "3 rows from Medical Equipment Spare Part Inventories table:\n",
      "Item_Code\tItem_Description\tPart_No\tPart_Description\tModel\tUnit_Of_Measurement\tSpare_Part_Type\tLocation\tSpecify\tPart_Category\tIs_Expiry_date_Required\tMin_Nos\tMax_Nos\tMinimum_Price_Per_Nos_RM\tMaximum_Price_Per_Nos_RM\tBrand\tStatus\tExpiry_Age_In_Month\tCurrent_Stock_Level\n",
      "BP0018\tMotors/ Micromotors/ Carbon brushes\t01-0802-0503-085\tFlow motor\tNone\tUnit\tFast Moving Item\tCompany Site Office\tNone\tBiomedical\tYes\t1\t3\tMYR 500,00 \tMYR 800,00 \tCommon\tActive\t0\t0\n",
      "BP0025\tSensors/ Detectors\t01-0101-0101-044\tO2 Sensor OOM202\tNone\tUnit\tOne Off\tCentralized\tNone\tBiomedical\tYes\t1\t5\tMYR 280,00 \tMYR 380,00 \tCommon\tActive\t0\t0\n",
      "BP0005\tCasing/ Covers/ Brackets/ Latches/ Part Holders\t01-0802-0504-011\tDoor 22MM Bubble C.Holder 4008SV10\tFresenius 4008S NG\tUnit\tJust In Time\tCompany Site Office\tNone\tBiomedical\tNo\t1\t3\tMYR 800,00 \tMYR 826,80 \tFresenius\tActive\t0\t3\n",
      "*/\u001b[0m\u001b[32;1m\u001b[1;3mBased on the schema, I see that the column names are written with underscores instead of spaces and each word starts with a capital letter. So, the column 'Spare Part Type' should be written as 'Spare_Part_Type'. I will modify the SQL query accordingly.\n",
      "\n",
      "Action: sql_db_query_checker\n",
      "Action Input: SELECT COUNT(*) FROM [Medical Equipment Spare Part Inventories] WHERE Spare_Part_Type = 'Fast Moving Item'\u001b[0m\u001b[36;1m\u001b[1;3mSELECT COUNT(*) FROM [Medical Equipment Spare Part Inventories] WHERE Spare_Part_Type = 'Fast Moving Item'\u001b[0m\u001b[32;1m\u001b[1;3mThe SQL query has been checked and is correct. Now I will execute this query to get the answer.\n",
      "\n",
      "Action: sql_db_query\n",
      "Action Input: SELECT COUNT(*) FROM [Medical Equipment Spare Part Inventories] WHERE Spare_Part_Type = 'Fast Moving Item'\u001b[0m\u001b[36;1m\u001b[1;3m[(235,)]\u001b[0m\u001b[32;1m\u001b[1;3mI now know the final answer. There are 235 fast moving items in the inventory.\n",
      "\n",
      "Final Answer: There are 235 fast moving items in the inventory.\u001b[0m\n",
      "\n",
      "\u001b[1m> Finished chain.\u001b[0m\n"
     ]
    },
    {
     "data": {
      "text/plain": [
       "'There are 235 fast moving items in the inventory.'"
      ]
     },
     "execution_count": 19,
     "metadata": {},
     "output_type": "execute_result"
    }
   ],
   "source": [
    "question = \"How many fast moving items do we have?\"\n",
    "\n",
    "agent_executor.run(system_prompt.format(query=question))"
   ]
  },
  {
   "cell_type": "code",
   "execution_count": null,
   "metadata": {},
   "outputs": [],
   "source": []
  }
 ],
 "metadata": {
  "kernelspec": {
   "display_name": ".venv",
   "language": "python",
   "name": "python3"
  },
  "language_info": {
   "codemirror_mode": {
    "name": "ipython",
    "version": 3
   },
   "file_extension": ".py",
   "mimetype": "text/x-python",
   "name": "python",
   "nbconvert_exporter": "python",
   "pygments_lexer": "ipython3",
   "version": "3.11.3"
  }
 },
 "nbformat": 4,
 "nbformat_minor": 2
}
